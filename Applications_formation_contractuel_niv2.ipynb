{
 "cells": [
  {
   "cell_type": "markdown",
   "metadata": {},
   "source": [
    "# Une progression d'exercices pour le stage Contractuels Niv. 2 "
   ]
  },
  {
   "cell_type": "markdown",
   "metadata": {},
   "source": [
    "### Exercice 1  \n",
    "Soit la fonction $f$ définie sur $\\mathbb{R}$ par $f(x) = -2x+3$.<br/> "
   ]
  },
  {
   "cell_type": "markdown",
   "metadata": {},
   "source": [
    "1) Écrire un script qui permet de calculer l'image de 10."
   ]
  },
  {
   "cell_type": "code",
   "execution_count": 1,
   "metadata": {
    "collapsed": true
   },
   "outputs": [],
   "source": [
    "#Saisir le code ici"
   ]
  },
  {
   "cell_type": "markdown",
   "metadata": {},
   "source": [
    "2) Le code suivant permet de générer aléatoirement un entier compris entre 5 et 36 inclus.  "
   ]
  },
  {
   "cell_type": "code",
   "execution_count": 2,
   "metadata": {},
   "outputs": [
    {
     "data": {
      "text/plain": [
       "27"
      ]
     },
     "execution_count": 2,
     "metadata": {},
     "output_type": "execute_result"
    }
   ],
   "source": [
    "from random import randint   # On importe la fonction randint de la bibliothèque random\n",
    "randint(5,36)"
   ]
  },
  {
   "cell_type": "markdown",
   "metadata": {},
   "source": [
    "Écrire un script qui permet de calculer et d'afficher l'image par la fonction $f$ précédente d'un nombre entier généré aléatoirement  entre -10 et 11 inclus."
   ]
  },
  {
   "cell_type": "code",
   "execution_count": 3,
   "metadata": {
    "collapsed": true
   },
   "outputs": [],
   "source": [
    "#Saisir le code ici\n"
   ]
  },
  {
   "cell_type": "markdown",
   "metadata": {},
   "source": [
    "### Exercice 2  \n",
    "Le plan est muni d'un repère orthonormé. Soit $A(2;-3)$ et $B(5;4)$.<br/>\n",
    "Écrire un script qui calcule la distance $AB$ et en donne une valeur arrondie au centième."
   ]
  },
  {
   "cell_type": "code",
   "execution_count": 4,
   "metadata": {
    "collapsed": true
   },
   "outputs": [],
   "source": [
    "#Saisir le code ici\n"
   ]
  },
  {
   "cell_type": "markdown",
   "metadata": {},
   "source": [
    "### Exercice 3  \n",
    "Écrire un script qui convertit en heures, minutes et secondes 813 698 secondes. Afficher le résultat sous la forme hh:mm:ss."
   ]
  },
  {
   "cell_type": "code",
   "execution_count": 5,
   "metadata": {
    "collapsed": true
   },
   "outputs": [],
   "source": [
    "#Saisir le code ici\n"
   ]
  },
  {
   "cell_type": "markdown",
   "metadata": {},
   "source": [
    "### Exercice 4  \n",
    "1) Le script ci-dessous génère une liste de taille alèatoire de notes entières comprises entre 0 et 20. Exécuter la cellule suivante pour générer une telle liste."
   ]
  },
  {
   "cell_type": "code",
   "execution_count": 6,
   "metadata": {},
   "outputs": [
    {
     "data": {
      "text/plain": [
       "[0, 17, 10, 18, 4, 12, 13, 16, 17, 12, 15, 6]"
      ]
     },
     "execution_count": 6,
     "metadata": {},
     "output_type": "execute_result"
    }
   ],
   "source": [
    "from random import randint\n",
    "longueur = randint(10,20)\n",
    "notes = [randint(0,20) for i in range(longueur)]\n",
    "notes"
   ]
  },
  {
   "cell_type": "markdown",
   "metadata": {},
   "source": [
    "2) Écrire un script dans la cellule ci-dessous qui permet de calculer la moyenne des notes quelle que soit la liste générée."
   ]
  },
  {
   "cell_type": "code",
   "execution_count": 7,
   "metadata": {
    "collapsed": true
   },
   "outputs": [],
   "source": [
    "#Saisir le code ici"
   ]
  },
  {
   "cell_type": "markdown",
   "metadata": {},
   "source": [
    "3) Les fonctions <code>min(a)</code> et  <code>max(a)</code> donnent respectivement le minimun et le maximum de la liste a.\n",
    "\n",
    "Écrire un script qui affiche en une phrase la liste de notes générées, son minimum, son maximum et sa moyenne."
   ]
  },
  {
   "cell_type": "code",
   "execution_count": 8,
   "metadata": {
    "collapsed": true
   },
   "outputs": [],
   "source": [
    "#Saisir le code ici\n"
   ]
  },
  {
   "cell_type": "markdown",
   "metadata": {},
   "source": [
    "### Exercice 5 \n",
    "Reprendre l'exerice 2 sachant que les coordonnées des points $A$ et $B$ sont saisies au clavier par l'utilisateur."
   ]
  },
  {
   "cell_type": "code",
   "execution_count": 9,
   "metadata": {
    "collapsed": true
   },
   "outputs": [],
   "source": [
    "#Saisir le code ici\n"
   ]
  },
  {
   "cell_type": "markdown",
   "metadata": {},
   "source": [
    "### Exercice 6   \n",
    "Un joueur joue avec deux dés équilibrés à 6 faces numérotées de 1 à 6. La règle du jeu est la suivante :\n",
    "* Si la somme est un nombre pair alors le joueur gagne 2 euros ;\n",
    "* Si la sommme est un nombre impair multiple de 3 alors il gagne 5 euros ;\n",
    "* Dans les autres cas il perd 5 euros.\n",
    "Pour jouer une partie le joueur doit miser 1 euro.   \n",
    "\n",
    "1) Écrire un algorithme qui permet de calculer le gain possible d'un joueur dans une partie.   \n",
    "2) Écrire un programme Python qui permet de simuler une partie de ce jeu."
   ]
  },
  {
   "cell_type": "markdown",
   "metadata": {},
   "source": [
    "### Exercice 7   \n",
    "Soit la fonction $f$ définie sur $\\mathbb{R}$ par $f(x) = -2x^2+3x-2$.<br/> \n",
    "Écrire un programme qui permet d'obtenir un tableau de valeurs de $f$ pour $x$ variant de $-10$ à $10$ avec un pas de $1$."
   ]
  },
  {
   "cell_type": "markdown",
   "metadata": {},
   "source": [
    "### Exercice 8. Suite de Syracuse   \n",
    "Ressource Euler numéro 4319 : https://euler.ac-versailles.fr/wm3/pi2/algo/algo14.jsp \n",
    "![suite de Syracuse](img/syracuse_euler.PNG)\n",
    "\n",
    "1) On suppose que $u_0 = 15$. Écrire un programme en langage Python qui permet d'obtenir les termes successifs de cette suite en s'arretant dès qu'un des termes vaut 1. Ce programme doit aussi indiquer le nombre de termes ainsi obtenus, le plus grand d'entre eux et son rang.\n",
    "\n",
    "2) Modifier le programme afin que l'utilisateur choisisse la valeur de  $u_0$.\n"
   ]
  },
  {
   "cell_type": "markdown",
   "metadata": {},
   "source": [
    "### Exercice 9. Tableau de valeurs (suite)\n",
    "\n",
    "Soit la fonction $f$ définie sur $\\mathbb{R}$ par $f(x) = -2x^2+3x-2$.<br/> \n",
    "1) Écrire une fonction ***tabval*** ayant 3 paramètres ***start***, ***end*** et ***step*** qui renvoie un tableau de valeurs de $f$ pour $x$ variant de ***start*** à ***end*** avec un pas **entier** égal à ***step***.   \n",
    "2) Écrire une nouvelle fonction ***tabval2*** ayant 4 paramètres ***fonc***, ***start***, ***end*** et ***step*** qui renvoie un tableau de valeurs d'une fonction $f$ passée en argument au paramètre ***fonc*** pour $x$ variant de ***start*** à ***end*** avec un pas **entier** égal à ***step***."
   ]
  },
  {
   "cell_type": "markdown",
   "metadata": {
    "collapsed": true
   },
   "source": [
    "### Exercice 10. Comaparaison de deux réels   \n",
    "On ne peut pas tester exactement l'égalité entre deux nombres réels à cause de leur représentation en mémoire. Par contre, on peut les comparer en étudiant leur distance à une précision donnée.    \n",
    "<br/>Écrire une fonction ***comparer*** ayant 3 arguments ***nb1***, ***nb2*** et ***precision*** qui renvoie ***True*** si les nombres réels ***nb1*** et ***nb2*** sont à une distance inférieure à ***precision*** et ***False*** sinon."
   ]
  },
  {
   "cell_type": "markdown",
   "metadata": {},
   "source": [
    "### Exercice 11. Quadrilatères\n",
    "\n",
    "Le plan est rapporté à un repère orthonormé $(O ; I , J)$.\n",
    "\n",
    "1) Écrire une fonction ***distance*** ayant pour arguments les coordonnées de 2 points du plan, qui renvoie la distance entre ces deux points."
   ]
  },
  {
   "cell_type": "markdown",
   "metadata": {},
   "source": [
    "2) Soit $ABCD$ un quadrilatère avec $A(x_A,y_A), B(x_B,y_B), C(x_C,y_C)$ et $ D(x_D,y_D)$ dans le repère $(O ; I , J)$.\n",
    "\n",
    "a- Écrire une fonction ***para*** qui renvoie ***True*** si $ABCD$ est un parallélogramme et ***False*** sinon."
   ]
  },
  {
   "cell_type": "markdown",
   "metadata": {},
   "source": [
    "b- Écrire une fonction ***rectangle*** qui renvoie ***True*** si $ABCD$ est un rectangle et ***False*** sinon."
   ]
  },
  {
   "cell_type": "markdown",
   "metadata": {},
   "source": [
    "c- Écrire une fonction ***losange*** qui renvoie ***True*** si $ABCD$ est un losange et ***False*** sinon."
   ]
  },
  {
   "cell_type": "markdown",
   "metadata": {},
   "source": [
    "d- Écrire une fonction ***nature*** qui renvoie la nature d'un quadrilatère $ABCD$."
   ]
  },
  {
   "cell_type": "markdown",
   "metadata": {},
   "source": [
    "### Exercice 12. Activités autour de la somme de deux dés   \n",
    "L'expérience consiste à lancer simultanément deux dés cubiques non truqués dont les faces sont numérotées 1 ; 2 ; 3 ; 4 ; 5 et 6  et à faire la somme des deux chiffres obtenus. A-t-on plus de chances d’obtenir une somme égale à 6 ou une somme égale à 7 ?\n",
    "\n",
    "1) Ressources sur Euler :\n",
    "- Ressource 2410 : Distribution des fréquences associées de la somme obtenue à l'issue d'une simulation de plusieurs dés cubiques (outil)\n",
    "https://euler.ac-versailles.fr/wm3/pi2/des/des3.jsp\n",
    "- Ressource 2409 : Variabilité des fréquences observées de la somme obtenue à l'issue d'une simulation de plusieurs lancers de dés cubiques (outil)\n",
    "https://euler.ac-versailles.fr/wm3/pi2/des/des4.jsp\n",
    "- Ressource 4229 : Opérations sur deux dés (outil) \n",
    "https://euler.ac-versailles.fr/wm3/pi2/denombrement/operationsdes.jsp\n",
    "- Ressource 2411 : Loi de probabilité de la somme obtenue à l'issue du lancer de plusieurs dés (outil)\n",
    " https://euler.ac-versailles.fr/wm3/pi2/des/des2.jsp\n",
    "\n",
    "2) Avec Python :\n",
    "\n",
    "a- <u>Simulation d'une expérience</u>\n",
    "\n",
    "Reprendre la fonction ***tirage*** du notebook \"Formation\" qui simule une telle expérience et qui renvoie la valeur de la somme obtenue."
   ]
  },
  {
   "cell_type": "markdown",
   "metadata": {},
   "source": [
    "b- <u>Collecter les résultats de plusieurs expériences identiques et indépendantes :</u>\n",
    "\n",
    "Écrire une fonction ***resultats*** ayant pour paramètre $n$ qui simule $n$ expériences identiques et indépendantes et qui renvoie les sommes possibles et les fréquences observées pour chaque somme au bout de ces $n$ expériences."
   ]
  },
  {
   "cell_type": "markdown",
   "metadata": {},
   "source": [
    "c- <u>Diagramme en bâtons des fréquences observées :</u>\n",
    "\n",
    "Écrire une fonction ***diagbat*** qui renvoie le diagramme en bâtons des fréquences observées des différentes sommes au cours des $n$ expériences.\n",
    "\n",
    "On pourra utiliser la librairie ***matplotlib*** et la fonction ***stem*** dont la syntaxe est :\n",
    "\n",
    "***stem(liste1,liste2,markerfmt='ro', linefmt='g-')***\n",
    "\n",
    "où liste1 et liste2 sont respectivement les listes des abscisses et des ordonnées des bâtons, markerfmt='ro' indique que les extrémités des bâtons sont des \"o\" en rouge et linefmt='g-' indique que les bâtons sont en trait plein vert. "
   ]
  },
  {
   "cell_type": "markdown",
   "metadata": {},
   "source": [
    "d- <u>Loi faible des grands nombres</u>\n",
    "\n",
    "On s'intéresse à l'événement \" la somme est égale à 7\". Comment visualiser l'évolution de la fréquence observée de la somme 7 au bout de *n* expériences et constater que ces fréquences se stabilisent autour de la probabilité de cet événement. \n",
    "\n",
    "Pour un nuage de points, on peut utiliser la fonction ***scatter*** de la librairie matplotlib en suivant la syntaxe suivante :\n",
    "\n",
    "***plt.scatter(liste1,liste2,marker=\".\",c=\"b\",s=1.5)***\n",
    "\n",
    "où liste1 et liste2 sont respectivement les listes des abscisses et des ordonnées des points du nuage, marker='.' indique le symbole utilisé pour marquer les points, c=\"b\" indique la couleur des points ici en bleu et s=1.5 indique la taille des points.\n",
    "\n",
    "Il est évidemment possible de combiner dans la même représentation graphique, un nuage de points avec scatter et une courbe de fonction avec plot."
   ]
  },
  {
   "cell_type": "markdown",
   "metadata": {},
   "source": [
    "d- <u>Intervalle de fluctuation d'une fréquence au seuil de 95 %</u> :\n",
    "\n",
    "* Créer une fonction ***intervallefluctu*** ayant pour paramètres ***n*** et ***p*** qui renvoie les bornes de l'intervalle de fluctuation au seuil de 95% pour des échantillons de taille ***n*** et une proportion ***p*** du caractère"
   ]
  },
  {
   "cell_type": "markdown",
   "metadata": {},
   "source": [
    "* Créer une fonction qui simule un échantillon de taille ***n*** et renvoie la fréquence de succès (somme égale à 7)."
   ]
  },
  {
   "cell_type": "markdown",
   "metadata": {},
   "source": [
    "* On simule $nb$ échantillons de taille $n$ et on appelle succès \"la somme est égale à 7\".\n",
    "Visualiser le nuage de points de la fréquence observée du succès de probabilité $p$ ($p = \\dfrac{1}{6}$) pour chacun des $nb$ échantillons de taille $n$ ainsi que les droites horizontales correspondant aux bornes de l'intervalle de fluctuation."
   ]
  }
 ],
 "metadata": {
  "kernelspec": {
   "display_name": "Python 3",
   "language": "python",
   "name": "python3"
  },
  "language_info": {
   "codemirror_mode": {
    "name": "ipython",
    "version": 3
   },
   "file_extension": ".py",
   "mimetype": "text/x-python",
   "name": "python",
   "nbconvert_exporter": "python",
   "pygments_lexer": "ipython3",
   "version": "3.6.3"
  }
 },
 "nbformat": 4,
 "nbformat_minor": 2
}
