{
 "cells": [
  {
   "cell_type": "markdown",
   "metadata": {},
   "source": [
    "# Éléments de correction des exercices pour le stage Contractuels Niv. 2 "
   ]
  },
  {
   "cell_type": "markdown",
   "metadata": {},
   "source": [
    "<h2>Opérations, constantes,affectation</h2>"
   ]
  },
  {
   "cell_type": "markdown",
   "metadata": {},
   "source": [
    "<h3>Exercice 1</h3>Soit la fonction $f$ définie sur $\\mathbb{R}$ par $f(x) = -2x+3$.<br/> "
   ]
  },
  {
   "cell_type": "markdown",
   "metadata": {},
   "source": [
    "1) Écrire un script qui permet de calculer l'image de 10."
   ]
  },
  {
   "cell_type": "code",
   "execution_count": 1,
   "metadata": {},
   "outputs": [
    {
     "data": {
      "text/plain": [
       "-17"
      ]
     },
     "execution_count": 1,
     "metadata": {},
     "output_type": "execute_result"
    }
   ],
   "source": [
    "#Il n'y a que des affectations à faire ici\n",
    "antecedent = 10  #On affecte un entier à la variable antécédent\n",
    "image = -2*antecedent+3  #On affecte le résultat d'une évaluation d'expression à la variable image\n",
    "image"
   ]
  },
  {
   "cell_type": "markdown",
   "metadata": {},
   "source": [
    "2) Le code suivant permet de générer aléatoirement un entier compris entre 5 et 36 inclus."
   ]
  },
  {
   "cell_type": "code",
   "execution_count": 2,
   "metadata": {},
   "outputs": [
    {
     "data": {
      "text/plain": [
       "17"
      ]
     },
     "execution_count": 2,
     "metadata": {},
     "output_type": "execute_result"
    }
   ],
   "source": [
    "from random import randint   # On importe la fonction randint de la bibliothèque random\n",
    "randint(5,36)"
   ]
  },
  {
   "cell_type": "markdown",
   "metadata": {},
   "source": [
    "Écrire un script qui permet de calculer et d'afficher l'image d'un nombre aléatoire compris entre -10 et 11 inclus."
   ]
  },
  {
   "cell_type": "code",
   "execution_count": 3,
   "metadata": {},
   "outputs": [
    {
     "data": {
      "text/plain": [
       "(10, -17)"
      ]
     },
     "execution_count": 3,
     "metadata": {},
     "output_type": "execute_result"
    }
   ],
   "source": [
    "from random import randint\n",
    "antecedent = randint(-10,11)  #On affecte un entier aléatoire entre 5 et 36 à la variable antécédent\n",
    "image = -2*antecedent+3     #On affecte le résultat d'une évaluation d'expression à la variable image\n",
    "antecedent,image"
   ]
  },
  {
   "cell_type": "markdown",
   "metadata": {},
   "source": [
    "### Exercice 2  \n",
    "Le plan est muni d'un repère orthonormé. Soit $A(2;-3)$ et $B(5;4)$.<br/>\n",
    "Écrire un script qui calcule la distance $AB$ et en donne une valeur arrondie au centième."
   ]
  },
  {
   "cell_type": "code",
   "execution_count": 4,
   "metadata": {},
   "outputs": [
    {
     "data": {
      "text/plain": [
       "'7.62'"
      ]
     },
     "execution_count": 4,
     "metadata": {},
     "output_type": "execute_result"
    }
   ],
   "source": [
    "#On importe la fonction sqrt de la bilbliothèque math\n",
    "from math import sqrt\n",
    "xA, yA, xB, yB = 2,-3,5,4 # Affectation multiple\n",
    "AB = sqrt((xB-xA)**2+(yB-yA)**2)\n",
    "format(AB,'.2f')\n",
    "#'{:.2f}'.format(AB)"
   ]
  },
  {
   "cell_type": "markdown",
   "metadata": {},
   "source": [
    "### Exercice 3  \n",
    "Écrire un script qui convertit en heures, minutes et secondes 813 698 secondes. Afficher le résultat sous la forme hh:mm:ss."
   ]
  },
  {
   "cell_type": "code",
   "execution_count": 5,
   "metadata": {
    "scrolled": false
   },
   "outputs": [
    {
     "name": "stdout",
     "output_type": "stream",
     "text": [
      "226:1:38\n"
     ]
    }
   ],
   "source": [
    "d = 813698\n",
    "h = d // 3600 \n",
    "r = d % 3600  \n",
    "m = r//60     \n",
    "s = d%60\n",
    "print(h,m,s,sep=\":\")\n",
    "#print(\"{}:{}:{}\".format(h,m,s))\n",
    "#print(h,\"h:\",m,\"m:\",s,\"s\")\n",
    "#print('{}h:{}m:{}s'.format(h,m,s))"
   ]
  },
  {
   "cell_type": "markdown",
   "metadata": {},
   "source": [
    "### Exercice 4  \n",
    "1) Le script ci-dessous génère une liste de taille alèatoire de notes entières comprises entre 0 et 20. Exécuter la cellule suivante pour générer une telle liste."
   ]
  },
  {
   "cell_type": "code",
   "execution_count": 6,
   "metadata": {},
   "outputs": [
    {
     "data": {
      "text/plain": [
       "[0, 17, 15, 18, 12, 8, 19, 1, 15, 15, 1, 3, 18]"
      ]
     },
     "execution_count": 6,
     "metadata": {},
     "output_type": "execute_result"
    }
   ],
   "source": [
    "from random import randint\n",
    "longueur = randint(10,20)\n",
    "notes = [randint(0,20) for i in range(longueur)]\n",
    "notes"
   ]
  },
  {
   "cell_type": "markdown",
   "metadata": {},
   "source": [
    "2) Écrire un script dans la cellule ci-dessous qui permet de calculer la moyenne des notes quelle que soit la liste générée."
   ]
  },
  {
   "cell_type": "code",
   "execution_count": 7,
   "metadata": {
    "scrolled": true
   },
   "outputs": [
    {
     "data": {
      "text/plain": [
       "10.923076923076923"
      ]
     },
     "execution_count": 7,
     "metadata": {},
     "output_type": "execute_result"
    }
   ],
   "source": [
    "#Une Solution\n",
    "moyenne = sum(notes)/len(notes)\n",
    "moyenne"
   ]
  },
  {
   "cell_type": "markdown",
   "metadata": {},
   "source": [
    "3) Les fonctions <code>min(a)</code> et  <code>max(a)</code> donnent respectivement le minimun et le maximum de la liste a.\n",
    "\n",
    "Écrire un script qui affiche en une phrase la liste de notes générées, son minimum, son maximum et sa moyenne."
   ]
  },
  {
   "cell_type": "code",
   "execution_count": 8,
   "metadata": {
    "scrolled": true
   },
   "outputs": [
    {
     "name": "stdout",
     "output_type": "stream",
     "text": [
      "Pour la liste notes =[0, 17, 15, 18, 12, 8, 19, 1, 15, 15, 1, 3, 18] : \n",
      "la valeur maximale est 19\n",
      "la valeur minimale est 0 \n",
      "et la moyenne, arrondie au centième, est 10.92.\n"
     ]
    }
   ],
   "source": [
    "print(\"Pour la liste notes ={} : \\nla valeur maximale est {}\\nla valeur minimale est {} \\net la moyenne, arrondie au centième, est {:.2f}.\".format(notes,max(notes),min(notes),moyenne))"
   ]
  },
  {
   "cell_type": "markdown",
   "metadata": {},
   "source": [
    "### Exercice 5 \n",
    "Reprendre l'exerice 2 sachant que les coordonnées des points $A$ et $B$ sont saisies au clavier par l'utilisateur."
   ]
  },
  {
   "cell_type": "code",
   "execution_count": 9,
   "metadata": {},
   "outputs": [
    {
     "name": "stdout",
     "output_type": "stream",
     "text": [
      "xA = 2\n",
      "yA = -3\n",
      "xB = 5\n",
      "yB = 4\n",
      "Une valeur approchée arrondie au centième de la distance entre A et B :  7.62\n"
     ]
    }
   ],
   "source": [
    "xA, yA = (int(input('xA = ')),int(input('yA = ')))\n",
    "xB, yB = (int(input('xB = ')),int(input('yB = ')))\n",
    "AB =  sqrt((xB-xA)**2+(yB-yA)**2)\n",
    "print(\"Une valeur approchée arrondie au centième de la distance entre A et B : \",format(AB,'.2f'))"
   ]
  },
  {
   "cell_type": "markdown",
   "metadata": {},
   "source": [
    "### Exercice 6   \n",
    "Un joueur joue avec deux dés équilibrés à 6 faces numérotées de 1 à 6. La règle du jeu est la suivante :\n",
    "* Si la somme est un nombre pair alors le joueur gagne 2 euros ;\n",
    "* Si la sommme est un nombre impair multiple de 3 alors il gagne 5 euros ;\n",
    "* Dans les autres cas il perd 5 euros.\n",
    "Pour jouer une partie le joueur doit miser 1 euro.   \n",
    "\n",
    "1) Écrire un algorithme qui permet de calculer le gain possible d'un joueur dans une partie.   \n",
    "2) Écrire un programme Python qui permet de simuler une partie de ce jeu.\n"
   ]
  },
  {
   "cell_type": "code",
   "execution_count": 10,
   "metadata": {},
   "outputs": [
    {
     "name": "stdout",
     "output_type": "stream",
     "text": [
      "La somme obtenue est 3  et le gain est de  4 euros.\n"
     ]
    }
   ],
   "source": [
    "from random import*\n",
    "d1 = randint(1,6)\n",
    "d2 = randint(1,6)\n",
    "s = d1+d2\n",
    "if s%2 == 0 :\n",
    "    g = 1\n",
    "elif s%3 == 0 :\n",
    "    g = 4\n",
    "else :\n",
    "    g = -4\n",
    "if abs(g)>1 :\n",
    "    txt = 'euros.'\n",
    "else :\n",
    "    txt = 'euro.'\n",
    "print(\"La somme obtenue est\",s,\" et le gain est de \",g,txt)\n",
    "#print(\"La somme obtenue est {} et le gain est de {} {}.\".format(s,g,txt))\n",
    "#print(\"Le premier dé est\",d1,\", le second est\",d2,\", la somme obtenue est\",s,\" et le gain est de \",g,txt) "
   ]
  },
  {
   "cell_type": "markdown",
   "metadata": {},
   "source": [
    "### Exercice 7   \n",
    "Soit la fonction $f$ définie sur $\\mathbb{R}$ par $f(x) = -2x^2+3x-2$.<br/> \n",
    "Écrire un programme qui permet d'obtenir un tableau de valeurs de $f$ pour $x$ variant de $-10$ à $10$ avec un pas de $1$."
   ]
  },
  {
   "cell_type": "code",
   "execution_count": 11,
   "metadata": {},
   "outputs": [
    {
     "name": "stdout",
     "output_type": "stream",
     "text": [
      "-10     -232\n",
      "-9     -191\n",
      "-8     -154\n",
      "-7     -121\n",
      "-6     -92\n",
      "-5     -67\n",
      "-4     -46\n",
      "-3     -29\n",
      "-2     -16\n",
      "-1     -7\n",
      "0     -2\n",
      "1     -1\n",
      "2     -4\n",
      "3     -11\n",
      "4     -22\n",
      "5     -37\n",
      "6     -56\n",
      "7     -79\n",
      "8     -106\n",
      "9     -137\n",
      "10     -172\n"
     ]
    }
   ],
   "source": [
    "#Une solution\n",
    "for i in range(-10,11,1):\n",
    "    j = -2*i**2+3*i-2\n",
    "    print(i,j, sep =' '*5)"
   ]
  },
  {
   "cell_type": "code",
   "execution_count": 12,
   "metadata": {},
   "outputs": [
    {
     "name": "stdout",
     "output_type": "stream",
     "text": [
      "                              ------------------------------\n",
      "                              Antécédent    |          Image\n",
      "                              ------------------------------\n",
      "                                 -10        |           -232\n",
      "                                  -8        |           -154\n",
      "                                  -6        |            -92\n",
      "                                  -4        |            -46\n",
      "                                  -2        |            -16\n",
      "                                  +0        |             -2\n",
      "                                  +2        |             -4\n",
      "                                  +4        |            -22\n",
      "                                  +6        |            -56\n",
      "                                  +8        |           -106\n",
      "                                 +10        |           -172\n"
     ]
    }
   ],
   "source": [
    "#Pour aller plus loin : Solution avec une mise en forme\n",
    "print(\"{:30s}{}\".format(' ','-'*30))\n",
    "print('{:>30s}{:10s}{:>5s}{:>15s}'.format(' ','Antécédent','|','Image'))\n",
    "print(\"{:30s}{}\".format(' ','-'*30))\n",
    "for i in range(-10,11,2):\n",
    "    j = -2*i**2+3*i-2\n",
    "    print('{:>30s}{:^+10d}{:>5s}{:>15d}'.format(' ',i,'|',j))"
   ]
  },
  {
   "cell_type": "markdown",
   "metadata": {},
   "source": [
    "### Exercice 8. Suite de Syracuse   \n",
    "Ressource Euler numéro 4319 : https://euler.ac-versailles.fr/wm3/pi2/algo/algo14.jsp \n",
    "![suite de Syracuse](img/syracuse_euler.png)\n",
    "\n",
    "1) On suppose que $u_0 = 15$. Écrire un programme en langage Python qui permet d'obtenir les termes successifs de cette suite en s'arretant dès qu'un des termes vaut 1. Ce programme doit aussi indiquer le nombre de termes ainsi obtenus, le plus grand d'entre eux et son rang.\n",
    "\n",
    "2) Modifier le programme afin que l'utilisateur choisisse la valeur de  $u_0$."
   ]
  },
  {
   "cell_type": "markdown",
   "metadata": {
    "collapsed": true
   },
   "source": [
    "###  Algorithme\n",
    "\n",
    "Dans l'algorithme suivant, *liste* désigne l'ensemble des termes successifs à calcler.\n",
    "\n",
    "$u \\leftarrow 15$<br/>\n",
    "Mettre $u$ dans *liste*<br/>\n",
    "<code>Tant que</code> $u \\neq 1$<br/>\n",
    "<code>    Si</code> $u$ est pair <code>alors</code><br/>\n",
    "            <code>        </code>$u \\leftarrow \\dfrac{u}{2}$<br/>\n",
    "<code>    Sinon</code><br/>\n",
    "<code>        </code>$u \\leftarrow 3u+1$<br/>\n",
    "<code>    Fin Si </code><br/>\n",
    "<code>    Ajouter </code>$u$ <code>en fin de </code>*liste*\n",
    "\n",
    "\n",
    "\n"
   ]
  },
  {
   "cell_type": "code",
   "execution_count": 13,
   "metadata": {},
   "outputs": [
    {
     "name": "stdout",
     "output_type": "stream",
     "text": [
      "La liste des  18  termes est : [15, 46, 23, 70, 35, 106, 53, 160, 80, 40, 20, 10, 5, 16, 8, 4, 2, 1]\n",
      "Le terme le plus grand est : 160  il a pour rang :  7\n"
     ]
    }
   ],
   "source": [
    "#Une solution de la première question\n",
    "u = 15 # 1er terme de la suite: U0 = 15\n",
    "liste=[u] # Liste qui contiendra tous les termes de la suite, le premier étant Uo\n",
    "while u != 1 :\n",
    "    if u%2 == 0  :  # U pair\n",
    "        u = u//2    # Le choix de la division euclidienne (opérateur //) permet d'avoir le résultat de type entier \n",
    "                    # contrairement à l'opérateur / qui donnerait le résultat sous forme de float\n",
    "    else :\n",
    "        u = 3*u+1    # U impair\n",
    "    \n",
    "    liste.append(u) # On ajoute la valeur U à la liste des termes\n",
    "print(\"La liste des \",len(liste),\" termes est :\",liste)\n",
    "print(\"Le terme le plus grand est :\",max(liste),\" il a pour rang : \",liste.index(max(liste)))"
   ]
  },
  {
   "cell_type": "code",
   "execution_count": 14,
   "metadata": {},
   "outputs": [
    {
     "name": "stdout",
     "output_type": "stream",
     "text": [
      "Saisir la valeur du premier terme, u0 : 15\n",
      "La liste des  18  termes est : [15, 46, 23, 70, 35, 106, 53, 160, 80, 40, 20, 10, 5, 16, 8, 4, 2, 1]\n",
      "Le terme le plus grand est : 160  il a pour rang :  7\n"
     ]
    }
   ],
   "source": [
    "#Une solution de la deuxième question\n",
    "\n",
    "\n",
    "'''On demande à l'utilisateur de saisir la valeur de U0 et on transforme la\n",
    "chaîne de caractères retournée en type entier'''\n",
    "\n",
    "u = int(input(\"Saisir la valeur du premier terme, u0 : \")) \n",
    "liste=[u] # Liste qui contiendra tous les termes de la suite, le premier étant Uo\n",
    "while u != 1 :\n",
    "    if u%2 == 0  :  # U pair\n",
    "        u = u//2    # Le choix de la division euclidienne (opérateur //) permet d'avoir le résultat de type entier \n",
    "                    # contrairement à l'opérateur / qui donnerait le résultat sous forme de float\n",
    "    else :\n",
    "        u = 3*u+1    # U impair\n",
    "    \n",
    "    liste.append(u) # On ajoute la valeur U à la liste des termes\n",
    "print(\"La liste des \",len(liste),\" termes est :\",liste)\n",
    "print(\"Le terme le plus grand est :\",max(liste),\" il a pour rang : \",liste.index(max(liste)))\n"
   ]
  },
  {
   "cell_type": "markdown",
   "metadata": {},
   "source": [
    "### Exercice 9. Tableau de valeurs (suite)\n",
    "\n",
    "Soit la fonction $f$ définie sur $\\mathbb{R}$ par $f(x) = -2x^2+3x-2$.<br/> \n",
    "1) Écrire une fonction ***tabval*** ayant 3 paramètres ***start***, ***end*** et ***step*** qui renvoie un tableau de valeurs de $f$ pour $x$ variant de ***start*** à ***end*** avec un pas **entier** égal à ***step***."
   ]
  },
  {
   "cell_type": "code",
   "execution_count": 15,
   "metadata": {},
   "outputs": [
    {
     "data": {
      "text/plain": [
       "[(-3, -29), (-2, -16), (-1, -7), (0, -2), (1, -1), (2, -4)]"
      ]
     },
     "execution_count": 15,
     "metadata": {},
     "output_type": "execute_result"
    }
   ],
   "source": [
    "def tabval(start,end,step):\n",
    "    liste=[]\n",
    "    for i in range(start,end+1,step) :\n",
    "        liste.append((i,-2*i**2+3*i-2))\n",
    "    return liste\n",
    "\n",
    "tabval(-3,2,1)"
   ]
  },
  {
   "cell_type": "markdown",
   "metadata": {},
   "source": [
    "2) Écrire une nouvelle fonction ***tabval2*** ayant 4 paramètres ***fonc***, ***start***, ***end*** et ***step*** qui renvoie un tableau de valeurs d'une fonction $f$ passée en argument au paramètre ***fonc*** pour $x$ variant de ***start*** à ***end*** avec un pas **entier** égal à ***step***."
   ]
  },
  {
   "cell_type": "code",
   "execution_count": 16,
   "metadata": {},
   "outputs": [
    {
     "data": {
      "text/plain": [
       "[(-1, -7), (0, -2), (1, -1)]"
      ]
     },
     "execution_count": 16,
     "metadata": {},
     "output_type": "execute_result"
    }
   ],
   "source": [
    "def f(x) :\n",
    "    return -2*x**2+3*x-2\n",
    "\n",
    "def tabval2(func,start,end,step):\n",
    "    liste=[]\n",
    "    for i in range(start,end+1,step):\n",
    "        liste.append((i,func(i)))\n",
    "    return liste\n",
    "\n",
    "tabval2(f,-1,1,1)"
   ]
  },
  {
   "cell_type": "markdown",
   "metadata": {},
   "source": [
    "Appliqué à une autre fonction $g$ :"
   ]
  },
  {
   "cell_type": "code",
   "execution_count": 17,
   "metadata": {},
   "outputs": [
    {
     "data": {
      "text/plain": [
       "[(-1, 5), (1, -1)]"
      ]
     },
     "execution_count": 17,
     "metadata": {},
     "output_type": "execute_result"
    }
   ],
   "source": [
    "def g(x):\n",
    "    return -3*x+2\n",
    "tabval2(g,-1,1,2)"
   ]
  },
  {
   "cell_type": "markdown",
   "metadata": {},
   "source": [
    "### Exercice 10. Comaparaison de deux réels   \n",
    "On ne peut pas tester exactement l'égalité entre deux nombres réels à cause de leur représentation en mémoire. Par contre, on peut les comparer en étudiant leur distance à une précision donnée.    \n",
    "<br/>Écrire une fonction ***comparer*** ayant 3 arguments ***nb1***, ***nb2*** et ***precision*** qui renvoie ***True*** si les nombres réels ***nb1*** et ***nb2*** sont à une distance inférieure à ***precision*** et ***False*** sinon."
   ]
  },
  {
   "cell_type": "code",
   "execution_count": 18,
   "metadata": {},
   "outputs": [
    {
     "data": {
      "text/plain": [
       "True"
      ]
     },
     "execution_count": 18,
     "metadata": {},
     "output_type": "execute_result"
    }
   ],
   "source": [
    "from math import*\n",
    "def comparer(nb1,nb2,precision):\n",
    "    if abs(nb1-nb2)<precision :\n",
    "        return True\n",
    "    else :\n",
    "        return False\n",
    "\n",
    "comparer(3.14,pi,0.01)"
   ]
  },
  {
   "cell_type": "code",
   "execution_count": 19,
   "metadata": {},
   "outputs": [
    {
     "data": {
      "text/plain": [
       "True"
      ]
     },
     "execution_count": 19,
     "metadata": {},
     "output_type": "execute_result"
    }
   ],
   "source": [
    "# Sans l'utilisation de abs\n",
    "\n",
    "def comparer2(nb1,nb2,precision):\n",
    "    if max(nb1-nb2,nb2-nb1)<precision :\n",
    "        return True\n",
    "    else :\n",
    "        return False\n",
    "\n",
    "comparer2(3.14,pi,0.01)"
   ]
  },
  {
   "cell_type": "markdown",
   "metadata": {},
   "source": [
    "### Exercice 11. Quadrilatères\n",
    "\n",
    "Le plan est rapporté à un repère orthonormé $(O ; I , J)$.\n",
    "\n",
    "1) Écrire une fonction ***distance*** ayant pour arguments les coordonnées de 2 points du plan, qui renvoie la distance entre ces deux points."
   ]
  },
  {
   "cell_type": "code",
   "execution_count": 20,
   "metadata": {
    "collapsed": true
   },
   "outputs": [],
   "source": [
    "from math import sqrt\n",
    "\n",
    "def distance(xA,yA,xB,yB):\n",
    "    return sqrt((xB-xA)**2+(yB-yA)**2)"
   ]
  },
  {
   "cell_type": "markdown",
   "metadata": {},
   "source": [
    "2) Soit $ABCD$ un quadrilatère avec $A(x_A,y_A), B(x_B,y_B), C(x_C,y_C)$ et $ D(x_D,y_D)$ dans le repère $(O ; I , J)$.\n",
    "\n",
    "a- Écrire une fonction ***para*** qui renvoie ***True*** si $ABCD$ est un parallélogramme et ***False*** sinon."
   ]
  },
  {
   "cell_type": "code",
   "execution_count": 21,
   "metadata": {},
   "outputs": [
    {
     "data": {
      "text/plain": [
       "True"
      ]
     },
     "execution_count": 21,
     "metadata": {},
     "output_type": "execute_result"
    }
   ],
   "source": [
    "def milieu(xA,yA,xB,yB):\n",
    "    return (xA+xB)/2,(yA+yB)/2\n",
    "\n",
    "def para1(xA,yA,xB,yB,xC,yC,xD,yD) :\n",
    "    xI,yI = milieu(xA,yA,xC,yC)\n",
    "    xJ,yJ = milieu(xB,yB,xD,yD)\n",
    "    if(comparer(xI,xJ,0.001) and comparer(yI,yJ,0.001)):\n",
    "        return True\n",
    "    else:\n",
    "        return False\n",
    "    \n",
    "\n",
    "def para2(xA,yA,xB,yB,xC,yC,xD,yD) :\n",
    "    xI,yI = milieu(xA,yA,xC,yC)\n",
    "    xJ,yJ = milieu(xB,yB,xD,yD)\n",
    "    return (comparer(xI,xJ,0.001) and comparer(yI,yJ,0.001)) \n",
    "\n",
    "       \n",
    "para2(-2,-1,1,0,2,2,-1,1)"
   ]
  },
  {
   "cell_type": "markdown",
   "metadata": {},
   "source": [
    "b- Écrire une fonction ***rectangle*** qui renvoie ***True*** si $ABCD$ est un rectangle et ***False*** sinon."
   ]
  },
  {
   "cell_type": "code",
   "execution_count": 22,
   "metadata": {},
   "outputs": [
    {
     "name": "stdout",
     "output_type": "stream",
     "text": [
      "False\n",
      "True\n",
      "False\n"
     ]
    }
   ],
   "source": [
    "def rectangle1(xA,yA,xB,yB,xC,yC,xD,yD):\n",
    "    if(para1(xA,yA,xB,yB,xC,yC,xD,yD)):\n",
    "        if comparer(distance(xA,yA,xC,yC),distance(xB,yB,xD,yD),0.001) :\n",
    "            return True\n",
    "        else:\n",
    "            return False\n",
    "    else:\n",
    "        return False\n",
    "\n",
    "def rectangle2(xA,yA,xB,yB,xC,yC,xD,yD) :\n",
    "    cond1 = para1(xA,yA,xB,yB,xC,yC,xD,yD)\n",
    "    cond2 = comparer(distance(xA,yA,xC,yC),distance(xB,yB,xD,yD),0.001)\n",
    "    return cond1 and cond2\n",
    "\n",
    "print(rectangle1(-2,-1,1,0,2,2,-1,1))\n",
    "print(rectangle1(0,0,1,0,1,1,0,1))\n",
    "print(rectangle1(0,0,1,0,1,1,0,2))"
   ]
  },
  {
   "cell_type": "markdown",
   "metadata": {},
   "source": [
    "c- Écrire une fonction ***losange*** qui renvoie ***True*** si $ABCD$ est un losange et ***False*** sinon."
   ]
  },
  {
   "cell_type": "code",
   "execution_count": 23,
   "metadata": {},
   "outputs": [
    {
     "name": "stdout",
     "output_type": "stream",
     "text": [
      "False\n",
      "True\n"
     ]
    }
   ],
   "source": [
    "def losange1(xA,yA,xB,yB,xC,yC,xD,yD) :\n",
    "    if(para1(xA,yA,xB,yB,xC,yC,xD,yD)):\n",
    "        if comparer(distance(xA,yA,xB,yB),distance(xA,yA,xD,yD),0.001) :\n",
    "            return True\n",
    "        else:\n",
    "            return False\n",
    "    else:\n",
    "        return False\n",
    "    \n",
    "def losange2(xA,yA,xB,yB,xC,yC,xD,yD) :\n",
    "    cond1 = para1(xA,yA,xB,yB,xC,yC,xD,yD)\n",
    "    cond2 = comparer(distance(xA,yA,xB,yB),distance(xA,yA,xD,yD),0.001)\n",
    "    return cond1 and cond2\n",
    "    \n",
    "print(losange2(-2.4,-1,1,0,2,2,-1,1))\n",
    "print(losange2(1,0,2,1,1,2,0,1))"
   ]
  },
  {
   "cell_type": "markdown",
   "metadata": {},
   "source": [
    "d- Écrire une fonction ***nature*** qui renvoie la nature d'un quadrilatère $ABCD$."
   ]
  },
  {
   "cell_type": "code",
   "execution_count": 24,
   "metadata": {},
   "outputs": [
    {
     "name": "stdout",
     "output_type": "stream",
     "text": [
      "False\n",
      "False\n"
     ]
    }
   ],
   "source": [
    "def carre1(xA,yA,xB,yB,xC,yC,xD,yD):\n",
    "    if (rectangle2(xA,yA,xB,yB,xC,yC,xD,yD) and losange2(xA,yA,xB,yB,xC,yC,xD,yD)):\n",
    "        return True\n",
    "    else:\n",
    "        return False  \n",
    "    \n",
    "def carre2(xA,yA,xB,yB,xC,yC,xD,yD):\n",
    "    return (rectangle2(xA,yA,xB,yB,xC,yC,xD,yD) and losange2(xA,yA,xB,yB,xC,yC,xD,yD)) \n",
    "\n",
    "print(carre2(-2,-1,1,0,2,2,-1,1.1))\n",
    "print(carre1(0,0,2,0,2,1,0,1))"
   ]
  },
  {
   "cell_type": "code",
   "execution_count": 25,
   "metadata": {},
   "outputs": [
    {
     "data": {
      "text/plain": [
       "'ABCD est un carré.'"
      ]
     },
     "execution_count": 25,
     "metadata": {},
     "output_type": "execute_result"
    }
   ],
   "source": [
    "def nature(xA,yA,xB,yB,xC,yC,xD,yD):\n",
    "    if carre2(xA,yA,xB,yB,xC,yC,xD,yD) :\n",
    "        return \"Carré.\"\n",
    "    if rectangle2(xA,yA,xB,yB,xC,yC,xD,yD) :\n",
    "         return \"Rectangle\"\n",
    "    if losange2(xA,yA,xB,yB,xC,yC,xD,yD) :\n",
    "        return \"Losange\"\n",
    "    if para2(xA,yA,xB,yB,xC,yC,xD,yD) :\n",
    "        return \"Parallélogramme\"\n",
    "    return \"Quelconque.\"\n",
    "\n",
    "def nature2(xA,yA,xB,yB,xC,yC,xD,yD):\n",
    "    if carre2(xA,yA,xB,yB,xC,yC,xD,yD) :\n",
    "        return \"ABCD est un carré.\"\n",
    "    elif rectangle2(xA,yA,xB,yB,xC,yC,xD,yD) :\n",
    "        return \"ABCD est un rectangle\"\n",
    "    elif losange2(xA,yA,xB,yB,xC,yC,xD,yD) :\n",
    "        return \"ABCD est un losange\"\n",
    "    elif para2(xA,yA,xB,yB,xC,yC,xD,yD) :\n",
    "        return \"ABCD est un parallélogramme\"\n",
    "    else :\n",
    "        return \"ABCD est un quadridratère quelconque.\"\n",
    "    \n",
    "    \n",
    "nature2(0,0,1,0,1,1,0,1)\n",
    "#nature2(0,0,1,0,2,1,1,1)\n",
    "#nature2(0,0,2,0,2,1,0,1)\n",
    "#nature2(0,0,0.5,-1,1,0,0.5,1)\n",
    "#nature2(0,0,1,0,1,1,0,2)"
   ]
  },
  {
   "cell_type": "markdown",
   "metadata": {},
   "source": [
    "### Exercice 12. Activités autour de la somme de deux dés   \n",
    "L'expérience consiste à lancer simultanément deux dés cubiques non truqués dont les faces sont numérotées 1 ; 2 ; 3 ; 4 ; 5 et 6  et à faire la somme des deux chiffres obtenus. A-t-on plus de chances d’obtenir une somme égale à 6 ou une somme égale à 7 ?\n",
    "\n",
    "1) Ressources sur Euler :\n",
    "- Ressource 2410 : Distribution des fréquences associées de la somme obtenue à l'issue d'une simulation de plusieurs dés cubiques (outil)\n",
    "https://euler.ac-versailles.fr/wm3/pi2/des/des3.jsp\n",
    "- Ressource 2409 : Variabilité des fréquences observées de la somme obtenue à l'issue d'une simulation de plusieurs lancers de dés cubiques (outil)\n",
    "https://euler.ac-versailles.fr/wm3/pi2/des/des4.jsp\n",
    "- Ressource 4229 : Opérations sur deux dés (outil) \n",
    "https://euler.ac-versailles.fr/wm3/pi2/denombrement/operationsdes.jsp\n",
    "- Ressource 2411 : Loi de probabilité de la somme obtenue à l'issue du lancer de plusieurs dés (outil)\n",
    " https://euler.ac-versailles.fr/wm3/pi2/des/des2.jsp\n",
    "\n",
    "2) Avec Python :\n",
    "\n",
    "a- <u>Simulation d'une expérience</u>\n",
    "\n",
    "Reprendre la fonction ***tirage*** du notebook \"Formation\" qui simule une telle expérience et qui renvoie la valeur de la somme obtenue.\n"
   ]
  },
  {
   "cell_type": "code",
   "execution_count": 26,
   "metadata": {},
   "outputs": [
    {
     "data": {
      "text/plain": [
       "6"
      ]
     },
     "execution_count": 26,
     "metadata": {},
     "output_type": "execute_result"
    }
   ],
   "source": [
    "from random import*\n",
    "\n",
    "def tirage():\n",
    "    de1=randint(1,6)\n",
    "    de2=randint(1,6)\n",
    "    return de1+de2\n",
    "\n",
    "tirage()"
   ]
  },
  {
   "cell_type": "markdown",
   "metadata": {},
   "source": [
    "b- <u>Collecter les résultats de plusieurs expériences identiques et indépendantes :</u>\n",
    "\n",
    "Écrire une fonction ***resultats*** ayant pour paramètre $n$ qui simule $n$ expériences identiques et indépendantes et qui renvoie les sommes possibles et les fréquences observées pour chaque somme au bout de ces $n$ expériences."
   ]
  },
  {
   "cell_type": "code",
   "execution_count": 27,
   "metadata": {},
   "outputs": [
    {
     "data": {
      "text/plain": [
       "([2, 3, 4, 5, 6, 7, 8, 9, 10, 11, 12],\n",
       " [0.05, 0.03, 0.05, 0.07, 0.12, 0.19, 0.17, 0.09, 0.13, 0.08, 0.02])"
      ]
     },
     "execution_count": 27,
     "metadata": {},
     "output_type": "execute_result"
    }
   ],
   "source": [
    "\n",
    "def resultats(n):\n",
    "    '''renvoie les différentes valeurs de sommes de deux dés cubiques avec les fréquences observées au bout de n expériences'''\n",
    "    valeurs=[2,3,4,5,6,7,8,9,10,11,12]\n",
    "    effectifs=[0]*11\n",
    "    freq=[0]*11\n",
    "    echantillon=[0]*n\n",
    "    for k in range(n):\n",
    "        somme=tirage()\n",
    "        echantillon[k]=somme\n",
    "        effectifs[somme-2]+=1\n",
    "        freq[somme-2]=effectifs[somme-2]/n\n",
    "    return valeurs,freq\n",
    "\n",
    "val=resultats(100)\n",
    "val"
   ]
  },
  {
   "cell_type": "markdown",
   "metadata": {},
   "source": [
    "c- <u>Diagramme en bâtons des fréquences observées :</u>\n",
    "\n",
    "Écrire une fonction ***diagbat*** qui renvoie le diagramme en bâtons des fréquences observées des différentes sommes au cours des $n$ expériences.\n",
    "\n",
    "On pourra utiliser la librairie ***matplotlib*** et la fonction ***stem*** dont la syntaxe est :\n",
    "\n",
    "***stem(liste1,liste2,markerfmt='ro', linefmt='g-')***\n",
    "\n",
    "où liste1 et liste2 sont respectivement les listes des abscisses et des ordonnées des bâtons, markerfmt='ro' indique que les extrémités des bâtons sont des \"o\" en rouge et linefmt='g-' indique que les bâtons sont en trait plein vert. "
   ]
  },
  {
   "cell_type": "code",
   "execution_count": 28,
   "metadata": {},
   "outputs": [
    {
     "data": {
      "image/png": "[encoded data removed]",
      "text/plain": [
       "<matplotlib.figure.Figure at 0x1fe1c50e9e8>"
      ]
     },
     "metadata": {},
     "output_type": "display_data"
    }
   ],
   "source": [
    "import matplotlib.pyplot as plt\n",
    "\n",
    "def diagbat():\n",
    "    '''Dresse le diagramme en bâtons des fréquences des sommes observées au cours de n expériences '''\n",
    "    plt.stem(val[0],val[1],markerfmt='ro', linefmt='g-')\n",
    "    plt.axis([0, 13,0,0.4])\n",
    "    plt.grid(True)\n",
    "    plt.show()\n",
    "\n",
    "diagbat()"
   ]
  },
  {
   "cell_type": "markdown",
   "metadata": {},
   "source": [
    "<u>Variante avec la fonction bar de matplotlib </u>\n"
   ]
  },
  {
   "cell_type": "code",
   "execution_count": 29,
   "metadata": {},
   "outputs": [
    {
     "data": {
      "image/png": "[encoded data removed]",
      "text/plain": [
       "<matplotlib.figure.Figure at 0x1fe23ebc5c0>"
      ]
     },
     "metadata": {},
     "output_type": "display_data"
    }
   ],
   "source": [
    "def diagbarre(n):\n",
    "    '''Dresse le diagramme en bâtons des fréquences des sommes observées au cours de n expériences '''\n",
    "    plt.bar(resultats(n)[0],resultats(n)[1],width = 0.5, color = 'green')\n",
    "    plt.axis([0, 13,0,0.4])\n",
    "    plt.grid(True)\n",
    "    plt.show()\n",
    "\n",
    "diagbarre(100)"
   ]
  },
  {
   "cell_type": "markdown",
   "metadata": {},
   "source": [
    "d- <u>Loi faible des grands nombres</u>\n",
    "\n",
    "On s'intéresse à l'événement \" la somme est égale à 7\". Comment visualiser l'évolution de la fréquence observée de la somme 7 au bout de *n* expériences et constater que ces fréquences se stabilisent autour de la probabilité de cet événement. \n",
    "\n",
    "Pour un nuage de points, on peut utiliser la fonction ***scatter*** de la librairie matplotlib en suivant la syntaxe suivante :\n",
    "\n",
    "***plt.scatter(liste1,liste2,marker=\".\",c=\"b\",s=1.5)***\n",
    "\n",
    "où liste1 et liste2 sont respectivement les listes des abscisses et des ordonnées des points du nuage, marker='.' indique le symbole utilisé pour marquer les points, c=\"b\" indique la couleur des points ici en bleu et s=1.5 indique la taille des points.\n",
    "\n",
    "Il est évidemment possible de combiner dans la même représentation graphique, un nuage de points avec scatter et une courbe de fonction avec plot."
   ]
  },
  {
   "cell_type": "code",
   "execution_count": 30,
   "metadata": {},
   "outputs": [
    {
     "data": {
      "image/png": "[encoded data removed]",
      "text/plain": [
       "<matplotlib.figure.Figure at 0x1fe23fe9048>"
      ]
     },
     "metadata": {},
     "output_type": "display_data"
    }
   ],
   "source": [
    "\n",
    "def resultats2(n,sum):\n",
    "    '''renvoie la fréquence cumulée de la somme sum au cours des n expériences'''\n",
    "    freqcum=[]\n",
    "    effcum=0\n",
    "    for k in range(n):\n",
    "        somme=tirage()\n",
    "        if (somme==sum):\n",
    "            effcum=effcum+1\n",
    "        freqcum.append(effcum/(k+1))     \n",
    "    return freqcum\n",
    "\n",
    "def diagevolfreq(n,sum):\n",
    "    '''construit le nuage de points montrant l'évolution des fréquences observées\n",
    "     de la somme sum au cours des n expériences et trace la droite d'équation\n",
    "     y = p(somme=sum)'''\n",
    "    plt.scatter(range(1,n+1),resultats2(n,sum),marker=\".\",c=\"b\",s=1.5)\n",
    "    plt.plot([0,n],[1/6,1/6],'r-')\n",
    "    plt.axis([0, n,0,0.3])\n",
    "    plt.grid(True)\n",
    "    plt.show()\n",
    "    \n",
    "\n",
    "diagevolfreq(1000,7)\n"
   ]
  },
  {
   "cell_type": "markdown",
   "metadata": {},
   "source": [
    "d- <u>Intervalle de fluctuation d'une fréquence au seuil de 95 %</u> :\n",
    "\n",
    "* Créer une fonction ***intervallefluctu*** ayant pour paramètres ***n*** et ***p*** qui renvoie les bornes de l'intervalle de fluctuation au seuil de 95% pour des échantillons de taille ***n*** et une proportion ***p*** du caractère"
   ]
  },
  {
   "cell_type": "code",
   "execution_count": 31,
   "metadata": {
    "collapsed": true
   },
   "outputs": [],
   "source": [
    "from math import*\n",
    "\n",
    "def intervallefluctu(p,n):\n",
    "    '''renvoie (a,b) les bornes de l'intervalle de fluctuation au seuil de 95% \n",
    "    pour des échantillons de taille n et une proportion p du caractère'''\n",
    "    return(p-1/sqrt(n),p+1/sqrt(n))"
   ]
  },
  {
   "cell_type": "markdown",
   "metadata": {},
   "source": [
    "* Créer une fonction qui simule un échantillon de taille ***n*** et renvoie la fréquence de succès (somme égale à 7)."
   ]
  },
  {
   "cell_type": "code",
   "execution_count": 32,
   "metadata": {
    "collapsed": true
   },
   "outputs": [],
   "source": [
    "def echantillon(n,sum):\n",
    "    '''simule un échantillon de taille n et renvoie la fréquence de succès (somme = sum)'''\n",
    "    succes=0\n",
    "    for i in range(n):\n",
    "        issue=tirage()\n",
    "        if issue == sum:\n",
    "            succes = succes + 1\n",
    "    return succes/n"
   ]
  },
  {
   "cell_type": "markdown",
   "metadata": {},
   "source": [
    "* On simule $nb$ échantillons de taille $n$ et on appelle succès \"la somme est égale à 7\".\n",
    "Visualiser le nuage de points de la fréquence observée du succès de probabilité $p$ ($p = \\dfrac{1}{6}$) pour chacun des $nb$ échantillons de taille $n$ ainsi que les droites horizontales correspondant aux bornes de l'intervalle de fluctuation."
   ]
  },
  {
   "cell_type": "code",
   "execution_count": 33,
   "metadata": {},
   "outputs": [
    {
     "name": "stdout",
     "output_type": "stream",
     "text": [
      "(0.06666666666666665, 0.26666666666666666)\n"
     ]
    },
    {
     "data": {
      "image/png": "[encoded data removed]",
      "text/plain": [
       "<matplotlib.figure.Figure at 0x1fe23fa57f0>"
      ]
     },
     "metadata": {},
     "output_type": "display_data"
    }
   ],
   "source": [
    "def grapheFluctu(p,n,nb,sum):\n",
    "    '''nuage de points de la fréquence observée du succès de probabilité p \n",
    "    pour chacun des nb échantillons de taille n. Trace aussi les droites\n",
    "     horizontales correspondant aux bornes de l'intervalle de fluctuation'''\n",
    "    a,b=intervallefluctu(p,n)\n",
    "    listefreq=[]\n",
    "    for k in range(nb):\n",
    "        listefreq.append(echantillon(n,sum))\n",
    "    plt.plot(range(1,nb+1),listefreq,'b.')\n",
    "    plt.grid()\n",
    "    plt.plot([0,nb],[a,a],'r-')\n",
    "    plt.plot([0,nb],[b,b],'r-')\n",
    "    plt.show()\n",
    "\n",
    "print(intervallefluctu(1/6,100))\n",
    "grapheFluctu(1/6,100,200,7)\n"
   ]
  },
  {
   "cell_type": "markdown",
   "metadata": {},
   "source": [
    "\n"
   ]
  },
  {
   "cell_type": "code",
   "execution_count": 34,
   "metadata": {},
   "outputs": [
    {
     "data": {
      "text/plain": [
       "0.985"
      ]
     },
     "execution_count": 34,
     "metadata": {},
     "output_type": "execute_result"
    }
   ],
   "source": [
    "def proportion(p,n,nb,sum):\n",
    "    a,b=intervallefluctu(p,n)\n",
    "    dedans=0\n",
    "    for k in range(1,nb):\n",
    "        freq=echantillon(n,sum)\n",
    "        if freq>=a and freq<=b:\n",
    "            dedans=dedans+1\n",
    "    return dedans/nb\n",
    "  \n",
    "proportion(1/6,100,200,7)"
   ]
  }
 ],
 "metadata": {
  "kernelspec": {
   "display_name": "Python 3",
   "language": "python",
   "name": "python3"
  },
  "language_info": {
   "codemirror_mode": {
    "name": "ipython",
    "version": 3
   },
   "file_extension": ".py",
   "mimetype": "text/x-python",
   "name": "python",
   "nbconvert_exporter": "python",
   "pygments_lexer": "ipython3",
   "version": "3.6.3"
  }
 },
 "nbformat": 4,
 "nbformat_minor": 2
}
