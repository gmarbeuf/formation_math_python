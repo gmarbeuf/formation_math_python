{
 "cells": [
  {
   "cell_type": "markdown",
   "metadata": {},
   "source": [
    "\n",
    "## Prise en main de Python - Stage contractuels niveau 2 (2018-2019)\n",
    "\n",
    "### A. Opérations de base\n",
    "\n",
    "#### 1) Les opérateurs arithmétiques - Constantes et fonctions mathématiques - Nombres complexes  \n"
   ]
  },
  {
   "cell_type": "markdown",
   "metadata": {},
   "source": [
    "* Addition de nombres : $+$"
   ]
  },
  {
   "cell_type": "code",
   "execution_count": 1,
   "metadata": {
    "collapsed": true
   },
   "outputs": [
    {
     "data": {
      "text/plain": [
       "12.5"
      ]
     },
     "execution_count": 1,
     "metadata": {},
     "output_type": "execute_result"
    }
   ],
   "source": [
    "3+9.5"
   ]
  },
  {
   "cell_type": "markdown",
   "metadata": {},
   "source": [
    "* Concaténation de chaînes de caractères : $+$"
   ]
  },
  {
   "cell_type": "code",
   "execution_count": 1,
   "metadata": {
    "collapsed": true
   },
   "outputs": [
    {
     "data": {
      "text/plain": [
       "'29.5'"
      ]
     },
     "execution_count": 1,
     "metadata": {},
     "output_type": "execute_result"
    }
   ],
   "source": [
    "'2'+'9.5'"
   ]
  },
  {
   "cell_type": "markdown",
   "metadata": {},
   "source": [
    "* Soustraction de nombres : $-$"
   ]
  },
  {
   "cell_type": "code",
   "execution_count": 2,
   "metadata": {
    "collapsed": true
   },
   "outputs": [
    {
     "data": {
      "text/plain": [
       "-7.5"
      ]
     },
     "execution_count": 2,
     "metadata": {},
     "output_type": "execute_result"
    }
   ],
   "source": [
    "2-9.5"
   ]
  },
  {
   "cell_type": "markdown",
   "metadata": {},
   "source": [
    "* Soustraction de chaînes da caractères !"
   ]
  },
  {
   "cell_type": "code",
   "execution_count": 3,
   "metadata": {
    "collapsed": true
   },
   "outputs": [
    {
     "ename": "TypeError",
     "evalue": "unsupported operand type(s) for -: 'str' and 'str'",
     "output_type": "error",
     "traceback": [
      "\u001b[0;31m---------------------------------------------------------------------------\u001b[0m",
      "\u001b[0;31mTypeError\u001b[0m                                 Traceback (most recent call last)",
      "\u001b[0;32m<ipython-input-3-2e8ca1df0453>\u001b[0m in \u001b[0;36m<module>\u001b[0;34m\u001b[0m\n\u001b[1;32m      1\u001b[0m \u001b[0;31m#Soustraction de chaînes da caractères\u001b[0m\u001b[0;34m\u001b[0m\u001b[0;34m\u001b[0m\u001b[0;34m\u001b[0m\u001b[0m\n\u001b[0;32m----> 2\u001b[0;31m \u001b[0;34m'2'\u001b[0m\u001b[0;34m-\u001b[0m\u001b[0;34m'9.5'\u001b[0m\u001b[0;34m\u001b[0m\u001b[0;34m\u001b[0m\u001b[0m\n\u001b[0m",
      "\u001b[0;31mTypeError\u001b[0m: unsupported operand type(s) for -: 'str' and 'str'"
     ]
    }
   ],
   "source": [
    "'2'-'9.5'"
   ]
  },
  {
   "cell_type": "markdown",
   "metadata": {},
   "source": [
    "* Multiplication de nombres : $*$"
   ]
  },
  {
   "cell_type": "code",
   "execution_count": 4,
   "metadata": {
    "collapsed": true
   },
   "outputs": [
    {
     "data": {
      "text/plain": [
       "19.0"
      ]
     },
     "execution_count": 4,
     "metadata": {},
     "output_type": "execute_result"
    }
   ],
   "source": [
    "2*9.5"
   ]
  },
  {
   "cell_type": "markdown",
   "metadata": {},
   "source": [
    "* Multiplication d'une chaîne de caractères par un nombre entier naturel : $*$"
   ]
  },
  {
   "cell_type": "code",
   "execution_count": 5,
   "metadata": {
    "collapsed": true
   },
   "outputs": [
    {
     "data": {
      "text/plain": [
       "'9.59.59.59.59.59.59.59.59.59.5'"
      ]
     },
     "execution_count": 5,
     "metadata": {},
     "output_type": "execute_result"
    }
   ],
   "source": [
    "'9.5'*10"
   ]
  },
  {
   "cell_type": "code",
   "execution_count": 7,
   "metadata": {},
   "outputs": [
    {
     "data": {
      "text/plain": [
       "'Hello ! Hello ! Hello ! Hello ! Hello ! '"
      ]
     },
     "execution_count": 7,
     "metadata": {},
     "output_type": "execute_result"
    }
   ],
   "source": [
    "'Hello ! '*5"
   ]
  },
  {
   "cell_type": "code",
   "execution_count": 8,
   "metadata": {},
   "outputs": [
    {
     "data": {
      "text/plain": [
       "'Hello !Hello !Hello !Hello !Hello !'"
      ]
     },
     "execution_count": 8,
     "metadata": {},
     "output_type": "execute_result"
    }
   ],
   "source": [
    "5*'Hello !'"
   ]
  },
  {
   "cell_type": "markdown",
   "metadata": {},
   "source": [
    "* La puissance : $**$ ou pow()"
   ]
  },
  {
   "cell_type": "code",
   "execution_count": 9,
   "metadata": {
    "collapsed": true
   },
   "outputs": [
    {
     "data": {
      "text/plain": [
       "512"
      ]
     },
     "execution_count": 9,
     "metadata": {},
     "output_type": "execute_result"
    }
   ],
   "source": [
    "2**9"
   ]
  },
  {
   "cell_type": "code",
   "execution_count": 10,
   "metadata": {
    "collapsed": true
   },
   "outputs": [
    {
     "data": {
      "text/plain": [
       "512"
      ]
     },
     "execution_count": 10,
     "metadata": {},
     "output_type": "execute_result"
    }
   ],
   "source": [
    "pow(2,9)"
   ]
  },
  {
   "cell_type": "markdown",
   "metadata": {},
   "source": [
    "* Pour obtenir l'aide sur un objet Python comme la fonction pow par exemple :"
   ]
  },
  {
   "cell_type": "code",
   "execution_count": 11,
   "metadata": {
    "collapsed": true
   },
   "outputs": [
    {
     "name": "stdout",
     "output_type": "stream",
     "text": [
      "Help on built-in function pow in module builtins:\n",
      "\n",
      "pow(x, y, z=None, /)\n",
      "    Equivalent to x**y (with two arguments) or x**y % z (with three arguments)\n",
      "    \n",
      "    Some types, such as ints, are able to use a more efficient algorithm when\n",
      "    invoked using the three argument form.\n",
      "\n"
     ]
    }
   ],
   "source": [
    "help(pow) "
   ]
  },
  {
   "cell_type": "markdown",
   "metadata": {},
   "source": [
    "* Division : $/$"
   ]
  },
  {
   "cell_type": "code",
   "execution_count": 12,
   "metadata": {
    "collapsed": true
   },
   "outputs": [
    {
     "data": {
      "text/plain": [
       "19.666666666666668"
      ]
     },
     "execution_count": 12,
     "metadata": {},
     "output_type": "execute_result"
    }
   ],
   "source": [
    "177/9"
   ]
  },
  {
   "cell_type": "markdown",
   "metadata": {},
   "source": [
    "* Quotient de la division euclidienne"
   ]
  },
  {
   "cell_type": "code",
   "execution_count": 14,
   "metadata": {
    "collapsed": true
   },
   "outputs": [
    {
     "data": {
      "text/plain": [
       "19"
      ]
     },
     "execution_count": 14,
     "metadata": {},
     "output_type": "execute_result"
    }
   ],
   "source": [
    "177//9"
   ]
  },
  {
   "cell_type": "markdown",
   "metadata": {},
   "source": [
    "* Reste de la division euclidienne"
   ]
  },
  {
   "cell_type": "code",
   "execution_count": 15,
   "metadata": {
    "collapsed": true
   },
   "outputs": [
    {
     "data": {
      "text/plain": [
       "6"
      ]
     },
     "execution_count": 15,
     "metadata": {},
     "output_type": "execute_result"
    }
   ],
   "source": [
    "177%9"
   ]
  },
  {
   "cell_type": "markdown",
   "metadata": {},
   "source": [
    "* Des constantes"
   ]
  },
  {
   "cell_type": "code",
   "execution_count": 1,
   "metadata": {
    "collapsed": true
   },
   "outputs": [
    {
     "ename": "NameError",
     "evalue": "name 'pi' is not defined",
     "output_type": "error",
     "traceback": [
      "\u001b[0;31m---------------------------------------------------------------------------\u001b[0m",
      "\u001b[0;31mNameError\u001b[0m                                 Traceback (most recent call last)",
      "\u001b[0;32m<ipython-input-1-666af265302a>\u001b[0m in \u001b[0;36m<module>\u001b[0;34m\u001b[0m\n\u001b[1;32m      1\u001b[0m \u001b[0;34m\u001b[0m\u001b[0m\n\u001b[0;32m----> 2\u001b[0;31m \u001b[0mpi\u001b[0m\u001b[0;34m\u001b[0m\u001b[0;34m\u001b[0m\u001b[0m\n\u001b[0m",
      "\u001b[0;31mNameError\u001b[0m: name 'pi' is not defined"
     ]
    }
   ],
   "source": [
    "\n",
    "pi"
   ]
  },
  {
   "cell_type": "markdown",
   "metadata": {},
   "source": [
    "* Importer des constantes à partir d'une bibliothèque"
   ]
  },
  {
   "cell_type": "code",
   "execution_count": 2,
   "metadata": {
    "collapsed": true
   },
   "outputs": [],
   "source": [
    "from math import pi, e"
   ]
  },
  {
   "cell_type": "code",
   "execution_count": 3,
   "metadata": {
    "collapsed": true
   },
   "outputs": [
    {
     "data": {
      "text/plain": [
       "3.141592653589793"
      ]
     },
     "execution_count": 3,
     "metadata": {},
     "output_type": "execute_result"
    }
   ],
   "source": [
    "pi"
   ]
  },
  {
   "cell_type": "code",
   "execution_count": 4,
   "metadata": {
    "collapsed": true
   },
   "outputs": [
    {
     "data": {
      "text/plain": [
       "2.718281828459045"
      ]
     },
     "execution_count": 4,
     "metadata": {},
     "output_type": "execute_result"
    }
   ],
   "source": [
    "e"
   ]
  },
  {
   "cell_type": "markdown",
   "metadata": {},
   "source": [
    "* Formatage d'affichage avec 5 chiffres (arrondi)"
   ]
  },
  {
   "cell_type": "code",
   "execution_count": 9,
   "metadata": {
    "collapsed": true
   },
   "outputs": [
    {
     "data": {
      "text/plain": [
       "'12.566'"
      ]
     },
     "execution_count": 9,
     "metadata": {},
     "output_type": "execute_result"
    }
   ],
   "source": [
    "format(4*pi,'0.5g')   # Retourne une chaîne de caractères"
   ]
  },
  {
   "cell_type": "code",
   "execution_count": 6,
   "metadata": {
    "collapsed": true
   },
   "outputs": [
    {
     "data": {
      "text/plain": [
       "'3.1'"
      ]
     },
     "execution_count": 6,
     "metadata": {},
     "output_type": "execute_result"
    }
   ],
   "source": [
    "#Ou\n",
    "'{:.2g}'.format(pi)"
   ]
  },
  {
   "cell_type": "markdown",
   "metadata": {},
   "source": [
    "* Formatage d'affichage avec quatre chiffres après la virgule (arrondi au dix-millième)"
   ]
  },
  {
   "cell_type": "code",
   "execution_count": 11,
   "metadata": {
    "collapsed": true
   },
   "outputs": [
    {
     "data": {
      "text/plain": [
       "'3.1416'"
      ]
     },
     "execution_count": 11,
     "metadata": {},
     "output_type": "execute_result"
    }
   ],
   "source": [
    "format(pi,'0.4f')"
   ]
  },
  {
   "cell_type": "markdown",
   "metadata": {},
   "source": [
    "* Importer des fonctions à partir d'une bibliothèque"
   ]
  },
  {
   "cell_type": "code",
   "execution_count": 12,
   "metadata": {
    "collapsed": true
   },
   "outputs": [
    {
     "data": {
      "text/plain": [
       "120"
      ]
     },
     "execution_count": 12,
     "metadata": {},
     "output_type": "execute_result"
    }
   ],
   "source": [
    "from math import factorial,sin,cos,exp,log\n",
    "factorial(5)"
   ]
  },
  {
   "cell_type": "code",
   "execution_count": 13,
   "metadata": {
    "collapsed": true
   },
   "outputs": [
    {
     "data": {
      "text/plain": [
       "0.7071067811865475"
      ]
     },
     "execution_count": 13,
     "metadata": {},
     "output_type": "execute_result"
    }
   ],
   "source": [
    "sin(pi/4)"
   ]
  },
  {
   "cell_type": "code",
   "execution_count": 14,
   "metadata": {
    "collapsed": true
   },
   "outputs": [
    {
     "data": {
      "text/plain": [
       "0.6931471805599453"
      ]
     },
     "execution_count": 14,
     "metadata": {},
     "output_type": "execute_result"
    }
   ],
   "source": [
    "log(2)"
   ]
  },
  {
   "cell_type": "markdown",
   "metadata": {},
   "source": [
    "<u> Remarques sur les différentes façons d'importer des objets d'une bibliothèque : </u>\n",
    "\n",
    "<ul>\n",
    "    <li>\n",
    "        <code>from math import pi </code> : on importe seulement la constante $\\pi$ de la bibliothèque <code>math</code> et pour utiliser $\\pi$, on doit saisir <code>pi</code>.\n",
    "    </li>\n",
    "    <li>\n",
    "        <code>import math </code> : on importe le nom de la bibliothèque <code>math</code> et pour utiliser n'importe quel objet de cette bibliothèque, on doit saisir <code>math.nom_objet</code> comme par exemple <code>math.pi</code>.\n",
    "    </li>\n",
    "    <li>\n",
    "        <code>from math import* </code> : on importe tout le contenu de la bibliothèque <code>math</code> et pour utiliser n'importe quel objet de cette bibliothèque, on doit juste saisir son nom comme par exemple <code>pi</code>.\n",
    "    </li>\n",
    "\n",
    "</ul>"
   ]
  },
  {
   "cell_type": "markdown",
   "metadata": {},
   "source": [
    "* Nombres complexes"
   ]
  },
  {
   "cell_type": "code",
   "execution_count": 15,
   "metadata": {
    "collapsed": true
   },
   "outputs": [
    {
     "data": {
      "text/plain": [
       "(1+2j)"
      ]
     },
     "execution_count": 15,
     "metadata": {},
     "output_type": "execute_result"
    }
   ],
   "source": [
    "import cmath \n",
    "1+2j"
   ]
  },
  {
   "cell_type": "code",
   "execution_count": 16,
   "metadata": {
    "collapsed": true
   },
   "outputs": [
    {
     "data": {
      "text/plain": [
       "(-1-5j)"
      ]
     },
     "execution_count": 16,
     "metadata": {},
     "output_type": "execute_result"
    }
   ],
   "source": [
    "1+1j+2*(-1-3j)"
   ]
  },
  {
   "cell_type": "code",
   "execution_count": 17,
   "metadata": {
    "collapsed": true
   },
   "outputs": [
    {
     "data": {
      "text/plain": [
       "(2+0j)"
      ]
     },
     "execution_count": 17,
     "metadata": {},
     "output_type": "execute_result"
    }
   ],
   "source": [
    "(1+1j)*(1-1j)"
   ]
  },
  {
   "cell_type": "markdown",
   "metadata": {},
   "source": [
    "#### 2) Opérateurs de comparaisons et opérateurs logiques</h4>"
   ]
  },
  {
   "cell_type": "markdown",
   "metadata": {},
   "source": [
    "* Egalité et Inégalités"
   ]
  },
  {
   "cell_type": "code",
   "execution_count": 20,
   "metadata": {
    "collapsed": true
   },
   "outputs": [
    {
     "data": {
      "text/plain": [
       "True"
      ]
     },
     "execution_count": 20,
     "metadata": {},
     "output_type": "execute_result"
    }
   ],
   "source": [
    "2==2.0"
   ]
  },
  {
   "cell_type": "code",
   "execution_count": 19,
   "metadata": {
    "collapsed": true
   },
   "outputs": [
    {
     "data": {
      "text/plain": [
       "False"
      ]
     },
     "execution_count": 19,
     "metadata": {},
     "output_type": "execute_result"
    }
   ],
   "source": [
    "'toto'=='Toto'"
   ]
  },
  {
   "cell_type": "code",
   "execution_count": 21,
   "metadata": {
    "collapsed": true
   },
   "outputs": [
    {
     "data": {
      "text/plain": [
       "True"
      ]
     },
     "execution_count": 21,
     "metadata": {},
     "output_type": "execute_result"
    }
   ],
   "source": [
    "2<3"
   ]
  },
  {
   "cell_type": "code",
   "execution_count": 22,
   "metadata": {
    "collapsed": true
   },
   "outputs": [
    {
     "data": {
      "text/plain": [
       "False"
      ]
     },
     "execution_count": 22,
     "metadata": {},
     "output_type": "execute_result"
    }
   ],
   "source": [
    "\"ae\"<\"ac\""
   ]
  },
  {
   "cell_type": "code",
   "execution_count": 23,
   "metadata": {
    "collapsed": true
   },
   "outputs": [
    {
     "data": {
      "text/plain": [
       "True"
      ]
     },
     "execution_count": 23,
     "metadata": {},
     "output_type": "execute_result"
    }
   ],
   "source": [
    "2<=5"
   ]
  },
  {
   "cell_type": "code",
   "execution_count": 24,
   "metadata": {
    "collapsed": true
   },
   "outputs": [
    {
     "data": {
      "text/plain": [
       "False"
      ]
     },
     "execution_count": 24,
     "metadata": {},
     "output_type": "execute_result"
    }
   ],
   "source": [
    "2.5>3"
   ]
  },
  {
   "cell_type": "code",
   "execution_count": 25,
   "metadata": {
    "collapsed": true
   },
   "outputs": [
    {
     "data": {
      "text/plain": [
       "False"
      ]
     },
     "execution_count": 25,
     "metadata": {},
     "output_type": "execute_result"
    }
   ],
   "source": [
    "from math import sqrt\n",
    "2 == sqrt(2)**2"
   ]
  },
  {
   "cell_type": "markdown",
   "metadata": {},
   "source": [
    "* Non égalité"
   ]
  },
  {
   "cell_type": "code",
   "execution_count": 26,
   "metadata": {
    "collapsed": true
   },
   "outputs": [
    {
     "data": {
      "text/plain": [
       "True"
      ]
     },
     "execution_count": 26,
     "metadata": {},
     "output_type": "execute_result"
    }
   ],
   "source": [
    "2 != sqrt(2)**2"
   ]
  },
  {
   "cell_type": "code",
   "execution_count": 27,
   "metadata": {
    "collapsed": true
   },
   "outputs": [
    {
     "data": {
      "text/plain": [
       "True"
      ]
     },
     "execution_count": 27,
     "metadata": {},
     "output_type": "execute_result"
    }
   ],
   "source": [
    "import sympy # On importe la bibliothèque entière\n",
    "2 == sympy.sqrt(2)**2"
   ]
  },
  {
   "cell_type": "code",
   "execution_count": 28,
   "metadata": {
    "collapsed": true
   },
   "outputs": [
    {
     "data": {
      "text/plain": [
       "True"
      ]
     },
     "execution_count": 28,
     "metadata": {},
     "output_type": "execute_result"
    }
   ],
   "source": [
    "2 < 5 and 5<7"
   ]
  },
  {
   "cell_type": "code",
   "execution_count": 29,
   "metadata": {
    "collapsed": true
   },
   "outputs": [
    {
     "data": {
      "text/plain": [
       "True"
      ]
     },
     "execution_count": 29,
     "metadata": {},
     "output_type": "execute_result"
    }
   ],
   "source": [
    "2<5<7"
   ]
  },
  {
   "cell_type": "code",
   "execution_count": 30,
   "metadata": {
    "collapsed": true
   },
   "outputs": [
    {
     "data": {
      "text/plain": [
       "False"
      ]
     },
     "execution_count": 30,
     "metadata": {},
     "output_type": "execute_result"
    }
   ],
   "source": [
    "1<2<6<4"
   ]
  },
  {
   "cell_type": "code",
   "execution_count": 31,
   "metadata": {
    "collapsed": true
   },
   "outputs": [
    {
     "data": {
      "text/plain": [
       "True"
      ]
     },
     "execution_count": 31,
     "metadata": {},
     "output_type": "execute_result"
    }
   ],
   "source": [
    "2 < 1 or 2 < 5"
   ]
  },
  {
   "cell_type": "markdown",
   "metadata": {},
   "source": [
    "\n",
    "### B. Variables et types"
   ]
  },
  {
   "cell_type": "markdown",
   "metadata": {},
   "source": [
    "#### 1) Notion de variables en informatique  \n",
    "Extrait du document ressource :\n",
    "A mettre sur édunuage  \n",
    "\n",
    "|Instructions |Langage algorithmique|Scratch|Python|\n",
    "|:------------|:--------------------|:-----:|:-----|\n",
    "|Affecter à la variable a la valeur 4, à b la valeur 10 et à la variable mot la chaine de caractère \"bonjour\".|ab    |**c**   |hghg|\n",
    "\n",
    "\n",
    "<img src=\"https://edu-nuage.ac-versailles.fr/remote.php/webdav/Stage%20Python/30%20janvier/extrait_doc_ress_variable.PNG\" />\n"
   ]
  },
  {
   "cell_type": "markdown",
   "metadata": {},
   "source": [
    "#### 2) Déclaration et affectation"
   ]
  },
  {
   "cell_type": "markdown",
   "metadata": {},
   "source": [
    "\n",
    "<table class=\"table\">\n",
    "  <tr>\n",
    "    <th id=\"th\">Instructions</th>\n",
    "    <th id=\"th\">Langage algorithmique</th>\n",
    "    <th id=\"th\">Scratch</th>\n",
    "    <th id=\"th\">Python</th>\n",
    "  </tr>\n",
    "  <tr>\n",
    "    <td id=\"td\">\n",
    "    Affecter à la variable a la valeur 4, à b la valeur 10 et à la variable mot la chaine de caractère \"bonjour\".\n",
    "    </td>\n",
    "    <td id=\"td\">\n",
    "    a &larr; 4\n",
    "    <br/>b &larr; 10\n",
    "    <br/>mot &larr; \"bonjour\" \n",
    "    </td>\n",
    "    <td id=\"td\"> <img src=\"image1.PNG\" alt=\"\" /></td>\n",
    "    <td id=\"td\">\n",
    "    a = 4\n",
    "    <br/>b = 10\n",
    "    <br/>mot = \"bonjour\"\n",
    "    </td>\n",
    "  </tr>\n",
    "  <tr>\n",
    "    <td id=\"td\">\n",
    "    On peut aussi affecter à une variable la valeur d'une autre variable de même type.\n",
    "    </td>\n",
    "    <td id=\"td\">\n",
    "    c &larr; a\n",
    "    <br/>mot2 &larr; mot \n",
    "    </td>\n",
    "    <td id=\"td\"> <img src=\"image2.PNG\" alt=\"\" /></td>\n",
    "    <td id=\"td\">\n",
    "    c = a\n",
    "    <br/>mot2 = mot\n",
    "    </td>\n",
    "  </tr>\n",
    "  <tr>\n",
    "  <td id=\"td\">\n",
    "    Permuter les valeurs des deux variables a et b.\n",
    "    \n",
    "    </td>\n",
    "    <td id=\"td\">\n",
    "    temp &larr; a\n",
    "    <br/>a &larr; b \n",
    "    <br/>b &larr; temp \n",
    "    </td>\n",
    "    <td id=\"td\"> <img src=\"image3.PNG\" alt=\"\" /></td>\n",
    "    <td id=\"td\">\n",
    "    temp = a\n",
    "    <br/>a = b\n",
    "    <br/>b = temp\n",
    "    <br/><br/>ou avec une affectation simultanée\n",
    "    <br><br/>a,b = b,a   \n",
    "    </td>\n",
    "  </tr>\n",
    "</table>\n"
   ]
  },
  {
   "cell_type": "markdown",
   "metadata": {},
   "source": [
    "**Remarques :**\n",
    "\n",
    "\n",
    "- Les élèves venant du collège n'ont jamais utilisé le = comme une affectation.\n",
    "\n",
    "- Visualiser le dernier exemple avec Python Tutor http://www.pythontutor.com/live.html#mode=edit\n"
   ]
  },
  {
   "cell_type": "code",
   "execution_count": 1,
   "metadata": {
    "collapsed": true
   },
   "outputs": [
    {
     "data": {
      "text/plain": [
       "int"
      ]
     },
     "execution_count": 1,
     "metadata": {},
     "output_type": "execute_result"
    }
   ],
   "source": [
    "x = 9\n",
    "#Le type d'une variable\n",
    "type(x)"
   ]
  },
  {
   "cell_type": "code",
   "execution_count": 2,
   "metadata": {
    "collapsed": true
   },
   "outputs": [],
   "source": [
    "#Affectation et opérations combinées\n",
    "x += 2 #Identique à x = x + 2"
   ]
  },
  {
   "cell_type": "code",
   "execution_count": 3,
   "metadata": {
    "collapsed": true
   },
   "outputs": [
    {
     "data": {
      "text/plain": [
       "11"
      ]
     },
     "execution_count": 3,
     "metadata": {},
     "output_type": "execute_result"
    }
   ],
   "source": [
    "x"
   ]
  },
  {
   "cell_type": "code",
   "execution_count": 4,
   "metadata": {
    "collapsed": true
   },
   "outputs": [
    {
     "data": {
      "text/plain": [
       "33"
      ]
     },
     "execution_count": 4,
     "metadata": {},
     "output_type": "execute_result"
    }
   ],
   "source": [
    "x *= 3 #Identique à x = x * 3\n",
    "x"
   ]
  },
  {
   "cell_type": "code",
   "execution_count": 5,
   "metadata": {
    "collapsed": true
   },
   "outputs": [
    {
     "data": {
      "text/plain": [
       "3.0"
      ]
     },
     "execution_count": 5,
     "metadata": {},
     "output_type": "execute_result"
    }
   ],
   "source": [
    "x /= 11 #Identique à x = x / 11\n",
    "x"
   ]
  },
  {
   "cell_type": "code",
   "execution_count": 6,
   "metadata": {
    "collapsed": true
   },
   "outputs": [
    {
     "data": {
      "text/plain": [
       "float"
      ]
     },
     "execution_count": 6,
     "metadata": {},
     "output_type": "execute_result"
    }
   ],
   "source": [
    "type(x)"
   ]
  },
  {
   "cell_type": "code",
   "execution_count": 7,
   "metadata": {
    "collapsed": true
   },
   "outputs": [
    {
     "data": {
      "text/plain": [
       "-2.0"
      ]
     },
     "execution_count": 7,
     "metadata": {},
     "output_type": "execute_result"
    }
   ],
   "source": [
    "x -= 5 #Identique à x = x - 5\n",
    "x"
   ]
  },
  {
   "cell_type": "code",
   "execution_count": 8,
   "metadata": {
    "collapsed": true
   },
   "outputs": [
    {
     "data": {
      "text/plain": [
       "16.0"
      ]
     },
     "execution_count": 8,
     "metadata": {},
     "output_type": "execute_result"
    }
   ],
   "source": [
    "x **=4 #Identique à x = x**4\n",
    "x"
   ]
  },
  {
   "cell_type": "code",
   "execution_count": 9,
   "metadata": {
    "collapsed": true
   },
   "outputs": [
    {
     "data": {
      "text/plain": [
       "str"
      ]
     },
     "execution_count": 9,
     "metadata": {},
     "output_type": "execute_result"
    }
   ],
   "source": [
    "x=\"message\"\n",
    "type(x)"
   ]
  },
  {
   "cell_type": "code",
   "execution_count": 10,
   "metadata": {
    "collapsed": true
   },
   "outputs": [
    {
     "data": {
      "text/plain": [
       "bool"
      ]
     },
     "execution_count": 10,
     "metadata": {},
     "output_type": "execute_result"
    }
   ],
   "source": [
    "x=True\n",
    "type(x)"
   ]
  },
  {
   "cell_type": "code",
   "execution_count": 13,
   "metadata": {
    "collapsed": true
   },
   "outputs": [],
   "source": [
    "y,z,t=1,2.3,\"coucou\"# Affectation multiple"
   ]
  },
  {
   "cell_type": "code",
   "execution_count": 12,
   "metadata": {
    "collapsed": true
   },
   "outputs": [],
   "source": [
    "a=b=7 # Affecter la même valeur à plusieurs variables"
   ]
  },
  {
   "cell_type": "markdown",
   "metadata": {},
   "source": [
    "<div class=\"exo\">Exercices 1, 2, 3 et 4 du notebook Applications</div>"
   ]
  },
  {
   "cell_type": "markdown",
   "metadata": {},
   "source": [
    "<h4>Les types simples</h4>\n",
    "<h5>1) Chaîne de caractères : Type str</h5>"
   ]
  },
  {
   "cell_type": "code",
   "execution_count": null,
   "metadata": {
    "collapsed": true
   },
   "outputs": [],
   "source": [
    "x = 'mot'\n",
    "type(x)"
   ]
  },
  {
   "cell_type": "markdown",
   "metadata": {},
   "source": [
    "<h5>2) Entier : Type int</h5>"
   ]
  },
  {
   "cell_type": "code",
   "execution_count": null,
   "metadata": {
    "collapsed": true
   },
   "outputs": [],
   "source": [
    "x = 1\n",
    "type(x)"
   ]
  },
  {
   "cell_type": "markdown",
   "metadata": {},
   "source": [
    "<h5>3) Nombre décimal : Type float</h5>"
   ]
  },
  {
   "cell_type": "code",
   "execution_count": null,
   "metadata": {
    "collapsed": true
   },
   "outputs": [],
   "source": [
    "x = 1.0\n",
    "type(x)"
   ]
  },
  {
   "cell_type": "markdown",
   "metadata": {},
   "source": [
    "<h5>4) Booléen : Type bool</h5>"
   ]
  },
  {
   "cell_type": "code",
   "execution_count": null,
   "metadata": {
    "collapsed": true
   },
   "outputs": [],
   "source": [
    "x=1<3\n",
    "type(x)"
   ]
  },
  {
   "cell_type": "code",
   "execution_count": null,
   "metadata": {
    "collapsed": true
   },
   "outputs": [],
   "source": [
    "!x"
   ]
  },
  {
   "cell_type": "code",
   "execution_count": null,
   "metadata": {
    "collapsed": true
   },
   "outputs": [],
   "source": [
    "not(x)"
   ]
  },
  {
   "cell_type": "markdown",
   "metadata": {},
   "source": [
    "#### Pour aller plus loin : Les types composés\n"
   ]
  },
  {
   "cell_type": "markdown",
   "metadata": {},
   "source": [
    "<h5>1) Les listes : Type list</h5>"
   ]
  },
  {
   "cell_type": "code",
   "execution_count": 1,
   "metadata": {
    "collapsed": true
   },
   "outputs": [
    {
     "data": {
      "text/plain": [
       "list"
      ]
     },
     "execution_count": 1,
     "metadata": {},
     "output_type": "execute_result"
    }
   ],
   "source": [
    "#Les listes peuvent contenir des valeurs de types différents.\n",
    "x = [1,2,3,4, 'un', 'deux', ['janvier','février'],38]\n",
    "type(x)"
   ]
  },
  {
   "cell_type": "code",
   "execution_count": 3,
   "metadata": {
    "collapsed": true
   },
   "outputs": [],
   "source": [
    "a1 = list() #Liste vide\n",
    "a2 = [] #Liste vide\n",
    "a3 = [0]*6 #Multiplication par un nombre\n",
    "a4 = [True,False]*3 #Multiplication par un nombre\n",
    "a5 = list(range(20)) # liste des 20 premiers entiers (entre 0 et 19)\n",
    "a6 = list(range(20,30)) # liste des entiers entre 20 et 29\n",
    "a7 = list(range(0,11,2))# liste des entiers pairs de 0 à 10"
   ]
  },
  {
   "cell_type": "code",
   "execution_count": 8,
   "metadata": {},
   "outputs": [
    {
     "data": {
      "text/plain": [
       "[0, 2, 4, 6, 8, 10]"
      ]
     },
     "execution_count": 8,
     "metadata": {},
     "output_type": "execute_result"
    }
   ],
   "source": [
    "a7"
   ]
  },
  {
   "cell_type": "code",
   "execution_count": null,
   "metadata": {
    "collapsed": true
   },
   "outputs": [],
   "source": [
    "#Manipulation des listes\n",
    "#Accès à la première composante en lecture\n",
    "x[0] # le premier élément de la liste est d'indice 0"
   ]
  },
  {
   "cell_type": "code",
   "execution_count": null,
   "metadata": {
    "collapsed": true
   },
   "outputs": [],
   "source": [
    "#Accès à la deuxième composante en lecture\n",
    "x[1]"
   ]
  },
  {
   "cell_type": "code",
   "execution_count": null,
   "metadata": {
    "collapsed": true
   },
   "outputs": [],
   "source": [
    "#Accès à la troisième composante en lecture\n",
    "x[2]"
   ]
  },
  {
   "cell_type": "code",
   "execution_count": null,
   "metadata": {
    "collapsed": true
   },
   "outputs": [],
   "source": [
    "# Accéder au dernier élément de la liste sans en connaître la taille\n",
    "x[-1]"
   ]
  },
  {
   "cell_type": "code",
   "execution_count": 9,
   "metadata": {
    "collapsed": true
   },
   "outputs": [
    {
     "data": {
      "text/plain": [
       "'février'"
      ]
     },
     "execution_count": 9,
     "metadata": {},
     "output_type": "execute_result"
    }
   ],
   "source": [
    "# Accéder à un élément d'une liste contenue dans une liste :\n",
    "x[6][1]"
   ]
  },
  {
   "cell_type": "code",
   "execution_count": 10,
   "metadata": {
    "collapsed": true
   },
   "outputs": [
    {
     "data": {
      "text/plain": [
       "8"
      ]
     },
     "execution_count": 10,
     "metadata": {},
     "output_type": "execute_result"
    }
   ],
   "source": [
    "#Le nombre d'éléments d'une liste ou taille\n",
    "taille = len(x)\n",
    "taille"
   ]
  },
  {
   "cell_type": "code",
   "execution_count": 11,
   "metadata": {
    "collapsed": true
   },
   "outputs": [
    {
     "data": {
      "text/plain": [
       "[0, 1, 2, 3, 4, 5, 6, 7, 8, 9, 10, 11, 12, 13, 14, 15, 16, 17, 18, 19]"
      ]
     },
     "execution_count": 11,
     "metadata": {},
     "output_type": "execute_result"
    }
   ],
   "source": [
    "a5 # Revoir la liste a5"
   ]
  },
  {
   "cell_type": "code",
   "execution_count": 12,
   "metadata": {
    "collapsed": true
   },
   "outputs": [
    {
     "data": {
      "text/plain": [
       "[3, 4, 5, 6, 7, 8, 9]"
      ]
     },
     "execution_count": 12,
     "metadata": {},
     "output_type": "execute_result"
    }
   ],
   "source": [
    "a5[3:10] #Accès à plusieurs éléments"
   ]
  },
  {
   "cell_type": "code",
   "execution_count": null,
   "metadata": {
    "collapsed": true
   },
   "outputs": [],
   "source": [
    "a5[1:] # Tous les éléments de a5 sauf le premier "
   ]
  },
  {
   "cell_type": "code",
   "execution_count": null,
   "metadata": {
    "collapsed": true
   },
   "outputs": [],
   "source": [
    "a5[:-1] # Tous les éléments de a5 sauf le dernier"
   ]
  },
  {
   "cell_type": "code",
   "execution_count": null,
   "metadata": {
    "collapsed": true
   },
   "outputs": [],
   "source": [
    "a5[:4] # Uniquement les 4 premiers éléments de a5 "
   ]
  },
  {
   "cell_type": "code",
   "execution_count": 13,
   "metadata": {
    "collapsed": true
   },
   "outputs": [
    {
     "data": {
      "text/plain": [
       "[0, 2, 4, 6, 8, 10]"
      ]
     },
     "execution_count": 13,
     "metadata": {},
     "output_type": "execute_result"
    }
   ],
   "source": [
    "\n",
    "a7 # Revoir la liste a7"
   ]
  },
  {
   "cell_type": "code",
   "execution_count": 14,
   "metadata": {
    "collapsed": true
   },
   "outputs": [],
   "source": [
    "a7[0] = 12 #Accès en écriture pour modification "
   ]
  },
  {
   "cell_type": "code",
   "execution_count": 15,
   "metadata": {
    "collapsed": true
   },
   "outputs": [],
   "source": [
    "a7[1]=a7[3]+1 #Accès en écriture pour modification "
   ]
  },
  {
   "cell_type": "code",
   "execution_count": 16,
   "metadata": {
    "collapsed": true
   },
   "outputs": [
    {
     "data": {
      "text/plain": [
       "[12, 7, 4, 6, 8, 10]"
      ]
     },
     "execution_count": 16,
     "metadata": {},
     "output_type": "execute_result"
    }
   ],
   "source": [
    "a7 # Voir les modifications sur a7"
   ]
  },
  {
   "cell_type": "code",
   "execution_count": 17,
   "metadata": {
    "collapsed": true
   },
   "outputs": [
    {
     "data": {
      "text/plain": [
       "[0, 1, -1, -1, -1, -1, 5, 6, 7, 8, 9, 10, 11, 12, 13, 14, 15, 16, 17, 18, 19]"
      ]
     },
     "execution_count": 17,
     "metadata": {},
     "output_type": "execute_result"
    }
   ],
   "source": [
    "a5[2:5]=[-1,-1,-1,-1] #Accès en écriture pour modifications multiples\n",
    "a5"
   ]
  },
  {
   "cell_type": "code",
   "execution_count": 19,
   "metadata": {
    "collapsed": true
   },
   "outputs": [],
   "source": [
    "# Addition de listes : Concaténation\n",
    "p1, p2  = [1,5],[-1,2]\n",
    "p = p1 + p2"
   ]
  },
  {
   "cell_type": "code",
   "execution_count": 20,
   "metadata": {
    "collapsed": true
   },
   "outputs": [
    {
     "data": {
      "text/plain": [
       "[1, 5, -1, 2]"
      ]
     },
     "execution_count": 20,
     "metadata": {},
     "output_type": "execute_result"
    }
   ],
   "source": [
    "p"
   ]
  },
  {
   "cell_type": "code",
   "execution_count": 21,
   "metadata": {
    "collapsed": true
   },
   "outputs": [
    {
     "data": {
      "text/plain": [
       "7"
      ]
     },
     "execution_count": 21,
     "metadata": {},
     "output_type": "execute_result"
    }
   ],
   "source": [
    "# Sommer tous les éléments d'une liste\n",
    "sum(p)"
   ]
  },
  {
   "cell_type": "code",
   "execution_count": null,
   "metadata": {
    "collapsed": true
   },
   "outputs": [],
   "source": [
    "p + [-3] # Ajouter un élément en fin de liste"
   ]
  },
  {
   "cell_type": "code",
   "execution_count": null,
   "metadata": {
    "collapsed": true
   },
   "outputs": [],
   "source": [
    "# La méthode append permet d'insérer un élément à la fin de la liste\n",
    "a5.append(100)\n",
    "a5"
   ]
  },
  {
   "cell_type": "code",
   "execution_count": null,
   "metadata": {
    "collapsed": true
   },
   "outputs": [],
   "source": [
    "# La méthode insert permet d'nsérer un élément avant un autre\n",
    "a5.insert(1,200) #Insère 200 avant le 2eme élément de la liste \n",
    "                 # a5.insert(ind,val) : insére la valeur val devant l'élément d'indice ind de la liste a5\n",
    "a5"
   ]
  },
  {
   "cell_type": "code",
   "execution_count": null,
   "metadata": {
    "collapsed": true
   },
   "outputs": [],
   "source": [
    "# Insérer un élément au début de la liste\n",
    "a5.insert(0,500) #Insere 500 au début de la liste \n",
    "a5"
   ]
  },
  {
   "cell_type": "code",
   "execution_count": null,
   "metadata": {
    "collapsed": true
   },
   "outputs": [],
   "source": [
    "# La méthode remove permet de supprimer un élément existant dans la liste\n",
    "a5.remove(-1) # supprime la première occurence de la valeur -1 dans la liste a5\n",
    "a5"
   ]
  },
  {
   "cell_type": "code",
   "execution_count": null,
   "metadata": {
    "collapsed": true
   },
   "outputs": [],
   "source": [
    "a5.remove(1000) \n",
    "a5"
   ]
  },
  {
   "cell_type": "code",
   "execution_count": null,
   "metadata": {
    "collapsed": true
   },
   "outputs": [],
   "source": [
    "# La méthode count donne l'occurence d'une valeur présente dans une liste\n",
    "a5.count(-1) "
   ]
  },
  {
   "cell_type": "code",
   "execution_count": null,
   "metadata": {
    "collapsed": true
   },
   "outputs": [],
   "source": [
    "# La méthode index donne l'indice le plus petit d'un élément présent dans une liste\n",
    "a5.index(-1)"
   ]
  },
  {
   "cell_type": "code",
   "execution_count": null,
   "metadata": {
    "collapsed": true
   },
   "outputs": [],
   "source": [
    "# Autre manière de supprimer un élément en utilisant les indices\n",
    "del(a5[-1]) # Suppression du dernier\n",
    "a5"
   ]
  },
  {
   "cell_type": "code",
   "execution_count": null,
   "metadata": {
    "collapsed": true
   },
   "outputs": [],
   "source": [
    "del(a5[0:10]) # Suppression des 10 premiers\n",
    "a5"
   ]
  },
  {
   "cell_type": "markdown",
   "metadata": {},
   "source": [
    "2) Les n-uplets : Type tuple"
   ]
  },
  {
   "cell_type": "code",
   "execution_count": null,
   "metadata": {
    "collapsed": true
   },
   "outputs": [],
   "source": [
    "#Les n-uplets peuvent contenir des valeurs de types différents.\n",
    "x = (1,2,3,4)\n",
    "type(x)"
   ]
  },
  {
   "cell_type": "code",
   "execution_count": null,
   "metadata": {
    "collapsed": true
   },
   "outputs": [],
   "source": [
    "x=(1,2,\"texte\") \n",
    "type(x)"
   ]
  },
  {
   "cell_type": "code",
   "execution_count": null,
   "metadata": {
    "collapsed": true
   },
   "outputs": [],
   "source": [
    "# Contrairement aux listes et aux tableaux, on ne peut pas modifier un élément d'un tuple\n",
    "x[0]=100\n",
    "x"
   ]
  },
  {
   "cell_type": "markdown",
   "metadata": {},
   "source": [
    "<div class=\"approf\"> &nbsp; </div>"
   ]
  },
  {
   "cell_type": "markdown",
   "metadata": {},
   "source": [
    "<div class=\"exo\">Exercice 5 du notebook Applications</div>"
   ]
  },
  {
   "cell_type": "markdown",
   "metadata": {},
   "source": [
    "<span class =\"haut\"><a href = \"#sommaire\">Haut de page</a></span>"
   ]
  },
  {
   "cell_type": "markdown",
   "metadata": {},
   "source": [
    "</div>\n",
    "<div id =\"partie3C\">\n",
    "<h3>C. Les entrées/sorties</h3>\n",
    "<h4>1) Fonction print() </h4>"
   ]
  },
  {
   "cell_type": "code",
   "execution_count": null,
   "metadata": {
    "collapsed": true
   },
   "outputs": [],
   "source": [
    "# Affichage du contenu d'une variable\n",
    "print(a5)#Affiche la liste a5"
   ]
  },
  {
   "cell_type": "code",
   "execution_count": null,
   "metadata": {
    "collapsed": true
   },
   "outputs": [],
   "source": [
    "y,z,t=1,2.3,\"coucou\" # Affectation multiple\n",
    "print(y,z,t) # le séparateur par défaut est l'espace\n",
    "print(y,z,t,sep=\";\") # modification du séparateur\n",
    "print(y,z,t,sep=\"\\n\") # passage à la ligne"
   ]
  },
  {
   "cell_type": "code",
   "execution_count": null,
   "metadata": {
    "collapsed": true
   },
   "outputs": [],
   "source": [
    "# Affichage d'un élément de la liste\n",
    "print(\"Dans la liste a5, l'élément d'indice 2 est la troisième valeur de la liste : a5[2] = \",a5[2],\".\")"
   ]
  },
  {
   "cell_type": "code",
   "execution_count": null,
   "metadata": {
    "collapsed": true
   },
   "outputs": [],
   "source": [
    "# Affichage d'un élément de la liste, autre méthode\n",
    "print(\"Dans la liste a5, l'élément d'indice 2 est la troisième valeur de la liste : a5[2] = {}.\".format(a5[2]))"
   ]
  },
  {
   "cell_type": "code",
   "execution_count": null,
   "metadata": {
    "collapsed": true
   },
   "outputs": [],
   "source": [
    "#Formatage de l'affichage d'un nombre\n",
    "x = sqrt(a5[2])\n",
    "print(x)"
   ]
  },
  {
   "cell_type": "code",
   "execution_count": null,
   "metadata": {
    "collapsed": true
   },
   "outputs": [],
   "source": [
    "print('{:.4g}'.format(x))#Ecriture avec 4 chiffres (arrondi)"
   ]
  },
  {
   "cell_type": "code",
   "execution_count": null,
   "metadata": {
    "collapsed": true
   },
   "outputs": [],
   "source": [
    "print(\"Ecriture de {} avec 4 chiffres après la virgule est {:.4f}.\".format(x,x))"
   ]
  },
  {
   "cell_type": "code",
   "execution_count": null,
   "metadata": {
    "collapsed": true
   },
   "outputs": [],
   "source": [
    "print('Jour','Mois','Année', sep =' '*5)\n",
    "print('{:4d}{:9d}{:10d}'.format(2,7,1985))"
   ]
  },
  {
   "cell_type": "markdown",
   "metadata": {},
   "source": [
    "<div class=\"exo\">Exercice 6 du notebook Applications</div>"
   ]
  },
  {
   "cell_type": "markdown",
   "metadata": {},
   "source": [
    "<h4>2) Fonction input() </h4>"
   ]
  },
  {
   "cell_type": "markdown",
   "metadata": {},
   "source": [
    "<table class=\"table\">\n",
    "  <tr>\n",
    "    <th id=\"th\">Instructions</th>\n",
    "    <th id=\"th\">Langage algorithmique</th>\n",
    "    <th id=\"th\">Scratch</th>\n",
    "    <th id=\"th\">Python</th>\n",
    "  </tr>\n",
    "  <tr>\n",
    "    <td id=\"td\">\n",
    "    Saisir un nombre au clavier\n",
    "    </td>\n",
    "    <td id=\"td\">\n",
    "    (Lire un nombre)\n",
    "    <br/>saisie &larr; nombre\n",
    "    </td>\n",
    "    <td id=\"td\"> <img src=\"input_Scratch.PNG\" alt=\"\" /></td>\n",
    "    <td id=\"td\">\n",
    "    saisie = input(\"Un nombre ?\")\n",
    "    \n",
    "    </td>\n",
    "  </tr>\n",
    "</table>\n"
   ]
  },
  {
   "cell_type": "code",
   "execution_count": null,
   "metadata": {
    "collapsed": true
   },
   "outputs": [],
   "source": [
    "# Permet la saisie de données au clavier\n",
    "saisie = input(\"Un nombre ? \")"
   ]
  },
  {
   "cell_type": "code",
   "execution_count": null,
   "metadata": {
    "collapsed": true
   },
   "outputs": [],
   "source": [
    "type(saisie) # Type de la variable saisie"
   ]
  },
  {
   "cell_type": "code",
   "execution_count": null,
   "metadata": {
    "collapsed": true
   },
   "outputs": [],
   "source": [
    "# Comment alors entrer un nombre ?\n",
    "saisie = float(input(\"Nombre : \"))#Renvoie un float si l'entrée au clavier est une chaîne de caractère représentant une écriture décimale."
   ]
  },
  {
   "cell_type": "code",
   "execution_count": null,
   "metadata": {
    "collapsed": true
   },
   "outputs": [],
   "source": [
    "type(saisie)"
   ]
  },
  {
   "cell_type": "code",
   "execution_count": null,
   "metadata": {
    "collapsed": true
   },
   "outputs": [],
   "source": [
    "n = int(input(\"Nombre : \"))#Renvoie un entier si l'entrée au clavier est une chaîne de caractère représentant une écriture d'entier."
   ]
  },
  {
   "cell_type": "code",
   "execution_count": null,
   "metadata": {
    "collapsed": true
   },
   "outputs": [],
   "source": [
    "type(n)"
   ]
  },
  {
   "cell_type": "markdown",
   "metadata": {},
   "source": [
    "<div class=\"exo\">Exercice 7 du notebook Applications</div>"
   ]
  },
  {
   "cell_type": "markdown",
   "metadata": {},
   "source": [
    "<span class =\"haut\"><a href = \"#sommaire\">Haut de page</a></span>"
   ]
  },
  {
   "cell_type": "markdown",
   "metadata": {},
   "source": [
    "</div>\n",
    "<div id =\"partie3D\">\n",
    "<h3>D. Structures de contrôle</h3>\n",
    "<h4>a) Instructions conditionnelles</h4>\n",
    "<table class=\"table\">\n",
    "  <tr>\n",
    "    <th id=\"th\">Instructions</th>\n",
    "    <th id=\"th\">Langage algorithmique</th>\n",
    "    <th id=\"th\">Scratch</th>\n",
    "    <th id=\"th\">Python</th>\n",
    "  </tr>\n",
    "  <tr>\n",
    "    <td id=\"td\">\n",
    "    si ... alors\n",
    "    </td>\n",
    "    <td id=\"td\">\n",
    "    <code>Si condition alors</code>\n",
    "    <br/><code>    Bloc d'instructions</code>\n",
    "    <br/><code>Fin Si</code>\n",
    "    </td>\n",
    "    <td id=\"td\"> <img src=\"sialors.PNG\" alt=\"\" /></td>\n",
    "    <td id=\"td\">\n",
    "    <code>if condition :</code>\n",
    "    <br/><code>    Bloc d'instructions</code>\n",
    "    <br/><code>Suite du programme</code>\n",
    "    </td>\n",
    "  </tr>\n",
    "  <tr>\n",
    "    <td id=\"td\">\n",
    "    si ... alors ... sinon\n",
    "    </td>\n",
    "    <td id=\"td\">\n",
    "    <code>Si condition alors</code>\n",
    "    <br/><code>    Bloc d'instructions 1</code>\n",
    "    <br/><code>Sinon</code>\n",
    "    <br/><code>    Bloc d'instructions 2</code>\n",
    "    <br/><code>Fin Si</code>\n",
    "    </td>\n",
    "    <td id=\"td\"> <img src=\"sialorssinon.PNG\" alt=\"\" /></td>\n",
    "    <td id=\"td\">\n",
    "    <code>if condition :</code>\n",
    "    <br/><code>    Bloc d'instructions 1</code>\n",
    "    <br/><code>else :</code>\n",
    "    <br/><code>    Bloc d'instructions 2</code>\n",
    "    <br/><code>Suite du programme</code>\n",
    "    </td>\n",
    "  </tr>\n",
    "  <tr>\n",
    "    <td id=\"td\">\n",
    "    si ... alors ... sinon si ... alors ... sinon\n",
    "    </td>\n",
    "    <td id=\"td\">\n",
    "    <code>Si condition 1 alors</code>\n",
    "    <br/><code>    Bloc d'instructions 1</code>\n",
    "    <br/><code>Sinon Si condition 2 alors </code>\n",
    "    <br/><code>    Bloc d'instructions 2</code>\n",
    "    <br/><code>Sinon</code>\n",
    "    <br/><code>    Bloc d'instructions 3</code>\n",
    "    <br/><code>Fin Si</code>\n",
    "    </td>\n",
    "    <td id=\"td\"> <img src=\"elif2.PNG\" alt=\"\" /></td>\n",
    "    <td id=\"td\">\n",
    "    <code>if condition 1 :</code>\n",
    "    <br/><code>    Bloc d'instructions 1</code>\n",
    "    <br/><code>elif condition 2 :</code>\n",
    "    <br/><code>    Bloc d'instructions 2</code>\n",
    "    <br/><code>else :</code>\n",
    "    <br/><code>    Bloc d'instructions 3</code>\n",
    "    <br/><code>Suite du programme</code>\n",
    "    </td>\n",
    "  </tr>\n",
    "</table>\n",
    "<p>L'instruction <code>elif</code> est une compression de <code>else if </code>qui signifie sinon si. Elle doit être utilisée après un <code>if</code> ou un autre <code>elif</code>."
   ]
  },
  {
   "cell_type": "code",
   "execution_count": null,
   "metadata": {
    "collapsed": true
   },
   "outputs": [],
   "source": [
    "# On importe tout le module random pour travailler sur des générations de nombres aléatoires\n",
    "from random import *\n",
    "#help()"
   ]
  },
  {
   "cell_type": "code",
   "execution_count": null,
   "metadata": {
    "collapsed": true
   },
   "outputs": [],
   "source": [
    "# Générer un réel aléatoire de [0;1[\n",
    "random()"
   ]
  },
  {
   "cell_type": "code",
   "execution_count": null,
   "metadata": {
    "collapsed": true
   },
   "outputs": [],
   "source": [
    "# Générer aléatoirement un entier compris entre a et b\n",
    "randint(1,6) # Générer une face de dé"
   ]
  },
  {
   "cell_type": "code",
   "execution_count": null,
   "metadata": {
    "collapsed": true
   },
   "outputs": [],
   "source": [
    "randrange(1,7) # Générer une face de dé"
   ]
  },
  {
   "cell_type": "code",
   "execution_count": null,
   "metadata": {
    "collapsed": true
   },
   "outputs": [],
   "source": [
    "choice([1,2,3,4,5,6]) # Générer une face de dé"
   ]
  },
  {
   "cell_type": "code",
   "execution_count": null,
   "metadata": {
    "collapsed": true,
    "scrolled": true
   },
   "outputs": [],
   "source": [
    "(randint(1,6),randint(1,6),randint(1,6)) # lancer de 3 dés"
   ]
  },
  {
   "cell_type": "markdown",
   "metadata": {},
   "source": [
    "Un exemple de code utilisant une instruction conditionnelle : Définir une variable aléatoire"
   ]
  },
  {
   "cell_type": "code",
   "execution_count": null,
   "metadata": {
    "collapsed": true
   },
   "outputs": [],
   "source": [
    "de = randint(1,6)\n",
    "if de in [2,4,6]: # teste si le contenu de la  variable de est dans la liste [2,4,6]\n",
    "    va = 1\n",
    "else :\n",
    "    va = 0\n",
    "print(\"Issue : {} et valeur prise par la variable aléatoire : {}\".format(de,va))"
   ]
  },
  {
   "cell_type": "markdown",
   "metadata": {},
   "source": [
    "<div class=\"exo\">Exercice 8 du notebook Applications</div>"
   ]
  },
  {
   "cell_type": "markdown",
   "metadata": {},
   "source": [
    "<h4>b) Boucle Pour</h4>\n",
    "<table class=\"table\">\n",
    "  <tr>\n",
    "    <th id=\"th\">Instructions</th>\n",
    "    <th id=\"th\">Langage algorithmique</th>\n",
    "    <th id=\"th\">Scratch</th>\n",
    "    <th id=\"th\">Python</th>\n",
    "  </tr>\n",
    "  <tr>\n",
    "    <td id=\"td\">\n",
    "    Pour  i allant de ... à ... \n",
    "    </td>\n",
    "    <td id=\"td\">\n",
    "    <code>Pour i allant de ... à ...</code>\n",
    "    <br/><code>    Bloc d'instructions</code>\n",
    "    <br/><code>Fin Pour</code>\n",
    "    </td>\n",
    "    <td id=\"td\"> <img src=\"for2.PNG\" alt=\"\" /></td>\n",
    "    <td id=\"td\">\n",
    "    <code>for i in  Objet Itérable :</code>\n",
    "    <br/><code>    Bloc d'instructions</code>\n",
    "    <br/><code>Suite du programme</code>\n",
    "    </td>\n",
    "  </tr>\n",
    "</table>"
   ]
  },
  {
   "cell_type": "markdown",
   "metadata": {},
   "source": [
    "Quelques exmples de boucles : "
   ]
  },
  {
   "cell_type": "code",
   "execution_count": null,
   "metadata": {
    "collapsed": true
   },
   "outputs": [],
   "source": [
    "#Générer une liste d'entiers\n",
    "for i in range(5): # l'objet itérable est la liste créée par range(5)\n",
    "    #print(i) #Affichage par défaut avec passage à la ligne\n",
    "    print(i, end ='--') #Affichage sur une ligne"
   ]
  },
  {
   "cell_type": "code",
   "execution_count": null,
   "metadata": {
    "collapsed": true
   },
   "outputs": [],
   "source": [
    "# Le même exemple d'une autre façon :\n",
    "objetiterable = [0,1,2,3,4]\n",
    "for i in objetiterable : \n",
    "    print(i, end ='--') #Affichage sur une ligne"
   ]
  },
  {
   "cell_type": "code",
   "execution_count": null,
   "metadata": {
    "collapsed": true
   },
   "outputs": [],
   "source": [
    "#Générer aléatoirement une liste d'entiers entre 1 et 6 et mémorisation des valeurs dans une liste\n",
    "from random import randint\n",
    "liste = []\n",
    "for i in range(30) :\n",
    "    liste.append(randint(1,6))\n",
    "print(liste)"
   ]
  },
  {
   "cell_type": "code",
   "execution_count": null,
   "metadata": {
    "collapsed": true
   },
   "outputs": [],
   "source": [
    "#Parcourir tous les éléments d'une liste\n",
    "taille = len(liste)\n",
    "for i in range(taille) :\n",
    "    print('Indice : {:3d}, valeur {:3d}'.format(i, liste[i]))"
   ]
  },
  {
   "cell_type": "code",
   "execution_count": null,
   "metadata": {
    "collapsed": true
   },
   "outputs": [],
   "source": [
    "# Parcourir une chaîne de caractères pour donner le code ASCII de chaque caractère\n",
    "chaine = \"Stage Python du 11/01/18 à 38 personnes !\"\n",
    "for lettre in chaine :\n",
    "    code = ord(lettre)\n",
    "    print('Lettre : ',lettre,\" Code ASCII : \",code)"
   ]
  },
  {
   "cell_type": "markdown",
   "metadata": {},
   "source": [
    "Construction d'un triangle équilatéral avec Scratch :\n",
    "<img src =\"triequi1.png\" alt=\"scratch\"/>\n",
    "        "
   ]
  },
  {
   "cell_type": "markdown",
   "metadata": {},
   "source": [
    "Construction d'un triangle équilatéral avec Trinket :\n",
    "\n",
    "<img src =\"triangleequitrinket.PNG\" alt=\"Trinket\"/>\n"
   ]
  },
  {
   "cell_type": "markdown",
   "metadata": {},
   "source": [
    "Construction d'un triangle équilatéral avec le module Turtle :\n",
    "Aide : https://fr.wikibooks.org/wiki/Programmation_Python/Turtle"
   ]
  },
  {
   "cell_type": "code",
   "execution_count": null,
   "metadata": {
    "collapsed": true
   },
   "outputs": [],
   "source": [
    "from turtle import *\n",
    "\n",
    "reset()\n",
    "cote=100\n",
    "pendown()\n",
    "pencolor(\"blue\")\n",
    "speed(1)\n",
    "for i in range(3):\n",
    "    forward(cote)\n",
    "    left(120)\n",
    "hideturtle()\n",
    "done()"
   ]
  },
  {
   "cell_type": "markdown",
   "metadata": {},
   "source": [
    "<h4>c) Boucle Tant Que</h4>\n",
    "<table class=\"table\">\n",
    "  <tr>\n",
    "    <th id=\"th\">Instructions</th>\n",
    "    <th id=\"th\">Langage algorithmique</th>\n",
    "    <th id=\"th\">Scratch</th>\n",
    "    <th id=\"th\">Python</th>\n",
    "  </tr>\n",
    "  <tr>\n",
    "    <td id=\"td\">\n",
    "    Tant que Condition ... Faire\n",
    "    </td>\n",
    "    <td id=\"td\">\n",
    "    <code>Tant Que Condition</code>\n",
    "    <br/><code>    Bloc d'instructions</code>\n",
    "    <br/><code>Fin Tant Que</code>\n",
    "    </td>\n",
    "    <td id=\"td\"> <img src=\"tantque.PNG\" alt=\"\" /></td>\n",
    "    <td id=\"td\">\n",
    "    <code>while Condition :</code>\n",
    "    <br/><code>    Bloc d'instructions</code>\n",
    "    <br/><code>Suite du programme</code>\n",
    "    </td>\n",
    "  </tr>\n",
    "</table>"
   ]
  },
  {
   "cell_type": "markdown",
   "metadata": {},
   "source": [
    "Exemple d'algorithme de détermination de seuil d'une suite géométrique divergente : \n",
    "\n",
    "Ressource Euler n° 4315 : https://euler.ac-versailles.fr/wm3/pi2/algo/algo11.jsp\n",
    "\n",
    "<br/>$n \\leftarrow 0$\n",
    "<br/>$u \\leftarrow 2$\n",
    "<br/><code>Tant Que </code> $u$ <code>&lt; 2018</code>\n",
    "<br/><code>    </code>$n \\leftarrow n+1$\n",
    "<br/><code>    </code>$u \\leftarrow 3\\times u$\n",
    "<br/><code>Fin Tant Que </code>"
   ]
  },
  {
   "cell_type": "markdown",
   "metadata": {},
   "source": [
    "Traduction en langage Python :"
   ]
  },
  {
   "cell_type": "code",
   "execution_count": 1,
   "metadata": {},
   "outputs": [
    {
     "name": "stdout",
     "output_type": "stream",
     "text": [
      "La plus petite valeur de n telle que u >= 2018 est n =  7\n"
     ]
    }
   ],
   "source": [
    "n = 0\n",
    "u = 2\n",
    "while u < 2018 :\n",
    "    n = n + 1\n",
    "    u = 3 * u\n",
    "\n",
    "print(\"La plus petite valeur de n telle que u >= 2018 est n = \", n)\n",
    "    "
   ]
  },
  {
   "cell_type": "markdown",
   "metadata": {},
   "source": [
    "<div class=\"exo\">Exercices 9, 10 et 11 du notebook Applications</div>"
   ]
  },
  {
   "cell_type": "markdown",
   "metadata": {},
   "source": [
    "<div id =\"partie3E\">\n",
    "<h3>E. Fonctions</h3>\n",
    "<h4>a) Introduction</h4>\n",
    "\n",
    "<u>Exemple 1</u> : triangles Ouardesques \n",
    "\n",
    "<img src =\"triangle_ouarda.png\" alt =\"Triangles Ouardesques\" />\n",
    "\n",
    "La figure ci-dessus est constituée de 4 triangles équilatéraux. Chaque triangle inscrit a pour sommets les milieux des côtés du triangle dans lequel il est inscrit.\n",
    "\n",
    "Écrivons en langage Python un programme permettant de réaliser cette figure. Pour cela isolons la portion de code correspondant à la construction d'un triangle équilatéral (voir exercice 10 du document Applications) à l'aide d'une fonction nommée triangle.\n"
   ]
  },
  {
   "cell_type": "markdown",
   "metadata": {},
   "source": [
    "Rappel du code de l'exercice 10 :\n",
    "\n",
    "<pre>\n",
    "from turtle import *\n",
    "cote=100\n",
    "pencolor('blue')\n",
    "speed(1)\n",
    "for i in range(5) :\n",
    "    for i in range(3):\n",
    "        forward(cote)\n",
    "        left(120)\n",
    "    fd(cote)\n",
    "    cote -= 20\n",
    "done()</pre>"
   ]
  },
  {
   "cell_type": "code",
   "execution_count": 5,
   "metadata": {
    "collapsed": true
   },
   "outputs": [],
   "source": [
    "# Fonction triangle permettant de construire un triangle équilatéral de côté de longueur c.\n",
    "from turtle import *\n",
    "def triangle(c):\n",
    "    '''Dessinne un triangle équilatéral de côté de longueur c '''\n",
    "    for i in range(3):\n",
    "        forward(c)\n",
    "        left(120) "
   ]
  },
  {
   "cell_type": "markdown",
   "metadata": {},
   "source": [
    "Désormais cette fonction permet de dessiner n'importe quel triangle équilatéral."
   ]
  },
  {
   "cell_type": "code",
   "execution_count": 8,
   "metadata": {
    "collapsed": true
   },
   "outputs": [],
   "source": [
    "clear()\n",
    "triangle(200)"
   ]
  },
  {
   "cell_type": "markdown",
   "metadata": {},
   "source": [
    "Remarque : cette fonction ne renvoie pas de valeur :"
   ]
  },
  {
   "cell_type": "code",
   "execution_count": 14,
   "metadata": {},
   "outputs": [
    {
     "name": "stdout",
     "output_type": "stream",
     "text": [
      "None\n"
     ]
    }
   ],
   "source": [
    "result = triangle(200)\n",
    "print(result)"
   ]
  },
  {
   "cell_type": "markdown",
   "metadata": {},
   "source": [
    "Écrivons le programme en utilisant cette fonction."
   ]
  },
  {
   "cell_type": "code",
   "execution_count": 4,
   "metadata": {
    "collapsed": true
   },
   "outputs": [],
   "source": [
    "cote=200 \n",
    "angle = 60\n",
    "for i in range(4):\n",
    "    triangle(cote)\n",
    "    cote /= 2\n",
    "    forward(cote)\n",
    "    setheading(angle)\n",
    "    angle += 60\n",
    "done()"
   ]
  },
  {
   "cell_type": "markdown",
   "metadata": {},
   "source": [
    "<u>Exemple 2</u> : Fonction affine par morceaux\n",
    "\n",
    "Soit $f$ la fonction définie sur $\\mathbb{R}$ par $\\left\\{\n",
    "\\begin{array}{l}\n",
    "  f(x) = 2x + 3 \\;\\text{si}\\; x \\in \\left] - \\infty ; 0 \\right[  \\\\\n",
    "  f(x) = 9 \\;\\text{si} \\; x \\in \\left[0 ; 3 \\right]\\\\\n",
    "  f(x) = -x+18 \\;\\text{si} \\; x \\in \\left]3 ; + \\infty \\right[\n",
    "\\end{array}\n",
    "\\right.$"
   ]
  },
  {
   "cell_type": "code",
   "execution_count": 6,
   "metadata": {
    "collapsed": true
   },
   "outputs": [],
   "source": [
    "def f(x):\n",
    "    ''' fonction affine par morceaux'''\n",
    "    if x<0:\n",
    "        y= 2*x+3\n",
    "    elif x<=3 :\n",
    "        y= 9\n",
    "    else:\n",
    "        y= -x+18\n",
    "    return y"
   ]
  },
  {
   "cell_type": "markdown",
   "metadata": {},
   "source": [
    "Calculons quelques images :"
   ]
  },
  {
   "cell_type": "code",
   "execution_count": 7,
   "metadata": {},
   "outputs": [
    {
     "data": {
      "text/plain": [
       "1"
      ]
     },
     "execution_count": 7,
     "metadata": {},
     "output_type": "execute_result"
    }
   ],
   "source": [
    "f(-1)"
   ]
  },
  {
   "cell_type": "markdown",
   "metadata": {},
   "source": [
    "Remarque : Lorsqu'une fonction renvoie une valeur, l'instruction *return* est la dernière exécutée quelle que soit sa place dans le bloc d'instruction.\n",
    "\n",
    "On pourrait alors écrire la fonction précédente ainsi sans créer une variable supplémentaire."
   ]
  },
  {
   "cell_type": "code",
   "execution_count": 8,
   "metadata": {
    "collapsed": true
   },
   "outputs": [],
   "source": [
    "def g(x):\n",
    "    ''' fonction affine par morceaux'''\n",
    "    if x<0:\n",
    "        return 2*x+3\n",
    "    elif x<=3 :\n",
    "        return 9\n",
    "    else:\n",
    "        return -x+18\n",
    "        "
   ]
  },
  {
   "cell_type": "code",
   "execution_count": null,
   "metadata": {
    "collapsed": true
   },
   "outputs": [],
   "source": []
  },
  {
   "cell_type": "markdown",
   "metadata": {},
   "source": [
    "Représentation graphique de la fonction $f$ sur $\\left[ -2 ; 5 \\right]$ en utilisant le module pyplot de la librairie matplotlib :"
   ]
  },
  {
   "cell_type": "code",
   "execution_count": 12,
   "metadata": {},
   "outputs": [
    {
     "data": {
      "image/png": "[encoded data removed]",
      "text/plain": [
       "<matplotlib.figure.Figure at 0x7cdc828>"
      ]
     },
     "metadata": {},
     "output_type": "display_data"
    }
   ],
   "source": [
    "import matplotlib.pyplot as plt\n",
    "import numpy as np\n",
    "\n",
    "x = [-2,0,3,5]\n",
    "y = np.array([g(i) for i in x])\n",
    "plt.plot(x, y)\n",
    "plt.grid(True)\n",
    "plt.show()\n"
   ]
  },
  {
   "cell_type": "markdown",
   "metadata": {},
   "source": [
    "<u>Exemple 3</u> \n",
    "On lance un dé cubique et on s'intéresse à la parité de la face obtenue.\n",
    "<br/>Écrivons une fonction qui simule un tel lancer et qui renvoie \"P\" si la face est paire et \"I\" sinon ."
   ]
  },
  {
   "cell_type": "code",
   "execution_count": 13,
   "metadata": {
    "collapsed": true
   },
   "outputs": [],
   "source": [
    "from random import*\n",
    "def parite():\n",
    "    ''' commentaire à mettre'''\n",
    "    de=randint(1,6)\n",
    "    if de%2==0:\n",
    "        return \"P\"\n",
    "    else :\n",
    "        return \"I\"\n",
    "    "
   ]
  },
  {
   "cell_type": "code",
   "execution_count": 15,
   "metadata": {},
   "outputs": [
    {
     "data": {
      "text/plain": [
       "'P'"
      ]
     },
     "execution_count": 15,
     "metadata": {},
     "output_type": "execute_result"
    }
   ],
   "source": [
    "parite()"
   ]
  },
  {
   "cell_type": "markdown",
   "metadata": {},
   "source": [
    "<u>Exemple 4</u> : Coordonnées du milieu d'un segment\n",
    "\n",
    "Écrivons une fonction *milieu* qui renvoie les coordonnées du milieu d'un segment d'extrémités $A$ et $B$ de coordonnées données."
   ]
  },
  {
   "cell_type": "code",
   "execution_count": 17,
   "metadata": {
    "collapsed": true
   },
   "outputs": [],
   "source": [
    "def milieu(xA,yA,xB,yB):\n",
    "    ''' commentaire à mettre'''\n",
    "    return (xA+xB)/2,(yA+yB)/2"
   ]
  },
  {
   "cell_type": "code",
   "execution_count": 18,
   "metadata": {},
   "outputs": [
    {
     "data": {
      "text/plain": [
       "(2.0, 3.0)"
      ]
     },
     "execution_count": 18,
     "metadata": {},
     "output_type": "execute_result"
    }
   ],
   "source": [
    "milieu(1,2,3,4)"
   ]
  },
  {
   "cell_type": "markdown",
   "metadata": {},
   "source": [
    "<h4>b) Définition et syntaxe</h4>\n",
    "\n",
    "Une fonction est un ensemble d'instructions regroupées sous un nom et s'exécutant à la demande.\n",
    "<br/>L'utilisation des fonctions permet :\n",
    "* d'éviter la répétition ;\n",
    "* de décomposer une tâche complexe en tâches plus simples.\n",
    "\n",
    "La syntaxe d'une fonction se compose :\n",
    "<ul>\n",
    "<li> du mot clé <em>def</em> suivi du nom de la fonction, de parenthèses entourant les paramètres éventuels \n",
    "de la fonction séparés par des virgules, et du caractère « : » qui termine toujours une instruction composée ;</li>\n",
    "<li> d'une chaîne de documentation (ou <em>docstring</em> indentée comme le corps de la fonction ;</li>\n",
    "<li> du bloc d'instructions indentées par rapport à la ligne de définition, et qui constitue le corps de la\n",
    "fonction.</li>\n",
    "</ul> \n",
    "\n",
    "<pre>\n",
    "def nom_fonction(arg1,arg2,...,argn):\n",
    "    ''' La documentation ou docstring...'''\n",
    "    bloc d'instructions en respectant l'indentation\n",
    "</pre>"
   ]
  },
  {
   "cell_type": "code",
   "execution_count": 7,
   "metadata": {
    "collapsed": true
   },
   "outputs": [],
   "source": [
    "? triangle"
   ]
  },
  {
   "cell_type": "markdown",
   "metadata": {},
   "source": [
    "<u>Exemple 1</u> : Test de primalité (inspiré du <a href =\"http://cache.media.eduscol.education.fr/file/Mathematiques/73/3/Algorithmique_et_programmation_787733.pdf\">document ressource pour le lycée : Algorithme et programmation page 10</a>). \n",
    "\n",
    "\n",
    "Écrivons une fonction *premier1* ayant comme argument $n$ un entier supérieur ou égal à 2 qui renvoie True si $n$ est premier et False sinon avec une décomposition de $n$."
   ]
  },
  {
   "cell_type": "code",
   "execution_count": 4,
   "metadata": {
    "collapsed": true
   },
   "outputs": [],
   "source": [
    "import math\n",
    "\n",
    "def premier1(n):\n",
    "    ''' renvoie True si n est premier et False sinon avec une décomposition de n '''\n",
    "    if isinstance(n,int)and n>=2 : # pour vérifier que n est un entier supérieur ou égal à 2\n",
    "        for i in range(2,n):\n",
    "            if n%i==0:\n",
    "                return(False,n//i,i)\n",
    "        return(True,n,1)\n",
    "    else :\n",
    "        return \"Vous devez saisir un entier supérieur ou égal à 2\"\n",
    "    "
   ]
  },
  {
   "cell_type": "markdown",
   "metadata": {},
   "source": [
    "Testons-la :"
   ]
  },
  {
   "cell_type": "code",
   "execution_count": 28,
   "metadata": {},
   "outputs": [
    {
     "data": {
      "text/plain": [
       "(False, 5, 3)"
      ]
     },
     "execution_count": 28,
     "metadata": {},
     "output_type": "execute_result"
    }
   ],
   "source": [
    "premier1(15)"
   ]
  },
  {
   "cell_type": "markdown",
   "metadata": {},
   "source": [
    "Soit $n$ un entier supérieur ou égal à 2.\n",
    "Si $n$ n'est pas premier et si $d$ est son plus petit diviseur supérieur ou égal à 2 alors $n = d \\times q$  avec $d \\leq q$.\n",
    "<br/>Puisque $d$ est le plus petit diviseur de $n$ alors $d \\times d \\leq n$.\n",
    "Pour tester si $n$ est premier, il suffit de tester sa divisibilité par les entiers dont le carré est inférieur ou égal à $n$.\n",
    "<br/>Écrivons donc une deuxième fonction *premier2* ayant comme argument $n$ un entier supérieur ou égal à 2 qui renvoie True si le $n$ est premier et False sinon avec une décomposition de $n$."
   ]
  },
  {
   "cell_type": "code",
   "execution_count": 3,
   "metadata": {
    "collapsed": true
   },
   "outputs": [],
   "source": [
    "def premier2(n):\n",
    "    ''' renvoie True si n est premier et False sinon avec une décomposition de n '''\n",
    "    if isinstance(n,int)and n>=2 :\n",
    "        d=2\n",
    "        while d**2<=n: #\n",
    "            if n%d==0:\n",
    "                return(False,n//d,d)\n",
    "            d=d+1\n",
    "        return(True,n,1)\n",
    "    else :\n",
    "        return \"Vous devez saisir un entier supérieur ou égal à 2\""
   ]
  },
  {
   "cell_type": "markdown",
   "metadata": {},
   "source": [
    "Testons-la :"
   ]
  },
  {
   "cell_type": "code",
   "execution_count": 32,
   "metadata": {},
   "outputs": [
    {
     "data": {
      "text/plain": [
       "(True, 37, 1)"
      ]
     },
     "execution_count": 32,
     "metadata": {},
     "output_type": "execute_result"
    }
   ],
   "source": [
    "premier2(37)"
   ]
  },
  {
   "cell_type": "markdown",
   "metadata": {},
   "source": [
    "Comparons les temps d'exécution de ces deux fonctions sur le nombre 6 700 417.\n",
    "<br/> Avec la fonction *premier1* :"
   ]
  },
  {
   "cell_type": "code",
   "execution_count": 5,
   "metadata": {},
   "outputs": [
    {
     "name": "stdout",
     "output_type": "stream",
     "text": [
      "(True, 6700417, 1)\n",
      "0.6900396347045898\n"
     ]
    }
   ],
   "source": [
    "import time\n",
    "\n",
    "start_time = time.time()\n",
    "print(premier1(6700417))\n",
    "interval = time.time() - start_time\n",
    "print(interval)"
   ]
  },
  {
   "cell_type": "markdown",
   "metadata": {},
   "source": [
    "<br/> Avec la fonction *premier2* :"
   ]
  },
  {
   "cell_type": "code",
   "execution_count": 11,
   "metadata": {},
   "outputs": [
    {
     "name": "stdout",
     "output_type": "stream",
     "text": [
      "(True, 67004171111131, 1)\n",
      "4.70526909828186\n"
     ]
    }
   ],
   "source": [
    "start_time = time.time()\n",
    "print(premier2(6700417))\n",
    "interval = time.time() - start_time\n",
    "print(interval)"
   ]
  },
  {
   "cell_type": "markdown",
   "metadata": {},
   "source": [
    "<u>Exemple 2</u> : Rational vs float"
   ]
  },
  {
   "cell_type": "markdown",
   "metadata": {},
   "source": [
    "Soit $f$ la fonction définie pour tout réel $x$ par $f(x) = 10\\,x^2 - x$.\n",
    "\n",
    "On définit la suite $(U_n)$ par $U_0 = 1$ et pour tout entier naturel non nul $n$, $U_{n+1} = f( U_n )$.\n",
    "\n",
    "Calculons $U_1, U_2$ et $U_3$."
   ]
  },
  {
   "cell_type": "code",
   "execution_count": 40,
   "metadata": {},
   "outputs": [
    {
     "data": {
      "text/plain": [
       "(9, 801, 6415209)"
      ]
     },
     "execution_count": 40,
     "metadata": {},
     "output_type": "execute_result"
    }
   ],
   "source": [
    "def f(x):\n",
    "    return 10*x**2-x\n",
    "\n",
    "f(1),f(f(1)),f(f(f(1)))"
   ]
  },
  {
   "cell_type": "markdown",
   "metadata": {},
   "source": [
    "Écrivons une fonction *NestList* ayant 3 arguments *func, dep* et *n* qui dresse la liste des *n* premiers termes de la suite de premier terme $U_0 = dep$ définie pour tout entier non nul par $U_{n+1} = fonc( U_n )$."
   ]
  },
  {
   "cell_type": "code",
   "execution_count": 36,
   "metadata": {},
   "outputs": [
    {
     "data": {
      "text/plain": [
       "[1, 9, 801, 6415209]"
      ]
     },
     "execution_count": 36,
     "metadata": {},
     "output_type": "execute_result"
    }
   ],
   "source": [
    "def NestList(func,dep,n):\n",
    "    result=[]\n",
    "    val=dep\n",
    "    for k in range(n):\n",
    "        result.append(val)\n",
    "        val=func(val)\n",
    "    return result\n",
    "\n",
    "NestList(f,1,4)"
   ]
  },
  {
   "cell_type": "markdown",
   "metadata": {},
   "source": [
    "Redéfinissons la suite $(U_n)$ en prenant $U_0 = 0,2$ et représentons graphiquement la courbe représentative de $f$ ainsi que la droite d'équation $y = x$."
   ]
  },
  {
   "cell_type": "code",
   "execution_count": 64,
   "metadata": {},
   "outputs": [
    {
     "data": {
      "image/png": "[encoded data removed]",
      "text/plain": [
       "<matplotlib.figure.Figure at 0xc157fd0>"
      ]
     },
     "metadata": {},
     "output_type": "display_data"
    }
   ],
   "source": [
    "#import matplotlib.pyplot as plt    déjà importée dans le notebook\n",
    "#import numpy as np\n",
    "\n",
    "x = np.arange(0, 1, 0.01)\n",
    "y1 = np.array([f(i) for i in x])\n",
    "plt.plot(x, y1, label=\"f(x)\")\n",
    "plt.plot(x, x, label=\"x\")\n",
    "plt.legend()\n",
    "plt.axis([0,1,0,1])\n",
    "plt.xlim(0,1)\n",
    "plt.grid(True)\n",
    "plt.show()"
   ]
  },
  {
   "cell_type": "markdown",
   "metadata": {},
   "source": [
    "L'équation $f(x) = x$ admet pour solutions $0$ et $0,2$.\n",
    "\n",
    "$U_1 = f(U_0)$ soit $U_1 = 10 \\times 0,2 ^2 - 0,2$ soit encore $U_1 = 0,2$.\n",
    "<br/> Ainsi quel que soit $n$ entier naturel, $U_n = 0,2$.\n",
    "\n",
    "Dressons la liste des 40 premiers termes de cette suite en utilisant la fonction* NestList* :"
   ]
  },
  {
   "cell_type": "code",
   "execution_count": 62,
   "metadata": {},
   "outputs": [
    {
     "data": {
      "text/plain": [
       "[0.2,\n",
       " 0.20000000000000007,\n",
       " 0.20000000000000023,\n",
       " 0.20000000000000068,\n",
       " 0.200000000000002,\n",
       " 0.20000000000000606,\n",
       " 0.20000000000001816,\n",
       " 0.20000000000005447,\n",
       " 0.20000000000016344,\n",
       " 0.20000000000049029,\n",
       " 0.20000000000147083,\n",
       " 0.20000000000441254,\n",
       " 0.2000000000132376,\n",
       " 0.20000000003971274,\n",
       " 0.20000000011913827,\n",
       " 0.20000000035741478,\n",
       " 0.2000000010722443,\n",
       " 0.20000000321673295,\n",
       " 0.20000000965019893,\n",
       " 0.20000002895059776,\n",
       " 0.20000008685180165,\n",
       " 0.20000026055548042,\n",
       " 0.20000078166712015,\n",
       " 0.2000023450074705,\n",
       " 0.20000703507740208,\n",
       " 0.2000211057271294,\n",
       " 0.20006332163590534,\n",
       " 0.2001900050040118,\n",
       " 0.20057037603105088,\n",
       " 0.20171438138132058,\n",
       " 0.20517253517916795,\n",
       " 0.21578515673930115,\n",
       " 0.2498471819507465,\n",
       " 0.37438896133654787,\n",
       " 1.0272819823700434,\n",
       " 9.525800730651218,\n",
       " 897.8829948701017,\n",
       " 8061040.84177416,\n",
       " 649803786466469.8,\n",
       " 4.2224496090616135e+30]"
      ]
     },
     "execution_count": 62,
     "metadata": {},
     "output_type": "execute_result"
    }
   ],
   "source": [
    "NestList(f,0.2,40)"
   ]
  },
  {
   "cell_type": "markdown",
   "metadata": {},
   "source": [
    "Prenons plutôt $\\dfrac{1}{5}$ comme deuxième paramètre de la fonction *NestList* en utilisant la fonction *Rational* de la bibliothèque *sympy* :"
   ]
  },
  {
   "cell_type": "code",
   "execution_count": 63,
   "metadata": {},
   "outputs": [
    {
     "data": {
      "text/plain": [
       "[1/5,\n",
       " 1/5,\n",
       " 1/5,\n",
       " 1/5,\n",
       " 1/5,\n",
       " 1/5,\n",
       " 1/5,\n",
       " 1/5,\n",
       " 1/5,\n",
       " 1/5,\n",
       " 1/5,\n",
       " 1/5,\n",
       " 1/5,\n",
       " 1/5,\n",
       " 1/5,\n",
       " 1/5,\n",
       " 1/5,\n",
       " 1/5,\n",
       " 1/5,\n",
       " 1/5,\n",
       " 1/5,\n",
       " 1/5,\n",
       " 1/5,\n",
       " 1/5,\n",
       " 1/5,\n",
       " 1/5,\n",
       " 1/5,\n",
       " 1/5,\n",
       " 1/5,\n",
       " 1/5,\n",
       " 1/5,\n",
       " 1/5,\n",
       " 1/5,\n",
       " 1/5,\n",
       " 1/5,\n",
       " 1/5,\n",
       " 1/5,\n",
       " 1/5,\n",
       " 1/5,\n",
       " 1/5]"
      ]
     },
     "execution_count": 63,
     "metadata": {},
     "output_type": "execute_result"
    }
   ],
   "source": [
    "from sympy import Rational\n",
    "\n",
    "NestList(f,Rational(1,5),40)"
   ]
  },
  {
   "cell_type": "markdown",
   "metadata": {},
   "source": [
    "<h4>c) Portées des variables : variables locales et variables globales</h4>\n",
    "\n",
    "La portée d'une variable, c'est à dire quand et comment cette variable est accessible, dépend de l'endroit du programme où a été créée la variable. "
   ]
  },
  {
   "cell_type": "markdown",
   "metadata": {},
   "source": [
    "<u>Exemple 1 </u>: L'appel de la fonction test1 déclenche la création de la variable locale x. A la fin de l'exécution de cette fonction, cette variable n'existe plus."
   ]
  },
  {
   "cell_type": "code",
   "execution_count": 1,
   "metadata": {},
   "outputs": [
    {
     "name": "stdout",
     "output_type": "stream",
     "text": [
      "Le carré de x est  900\n"
     ]
    },
    {
     "ename": "NameError",
     "evalue": "name 'x' is not defined",
     "output_type": "error",
     "traceback": [
      "\u001b[1;31m---------------------------------------------------------------------------\u001b[0m",
      "\u001b[1;31mNameError\u001b[0m                                 Traceback (most recent call last)",
      "\u001b[1;32m<ipython-input-1-18eca5ff5666>\u001b[0m in \u001b[0;36m<module>\u001b[1;34m()\u001b[0m\n\u001b[0;32m      3\u001b[0m     \u001b[0mprint\u001b[0m\u001b[1;33m(\u001b[0m\u001b[1;34m\"Le carré de x est \"\u001b[0m\u001b[1;33m,\u001b[0m\u001b[0mx\u001b[0m\u001b[1;33m**\u001b[0m\u001b[1;36m2\u001b[0m\u001b[1;33m)\u001b[0m\u001b[1;33m\u001b[0m\u001b[0m\n\u001b[0;32m      4\u001b[0m \u001b[0mtest1\u001b[0m\u001b[1;33m(\u001b[0m\u001b[1;33m)\u001b[0m\u001b[1;33m\u001b[0m\u001b[0m\n\u001b[1;32m----> 5\u001b[1;33m \u001b[0mprint\u001b[0m\u001b[1;33m(\u001b[0m\u001b[0mx\u001b[0m\u001b[1;33m)\u001b[0m\u001b[1;33m\u001b[0m\u001b[0m\n\u001b[0m",
      "\u001b[1;31mNameError\u001b[0m: name 'x' is not defined"
     ]
    }
   ],
   "source": [
    "def test1():\n",
    "    x=30\n",
    "    print(\"Le carré de x est \",x**2)\n",
    "test1()\n",
    "print(x)"
   ]
  },
  {
   "cell_type": "markdown",
   "metadata": {},
   "source": [
    "<u>Exemple 2 </u>: On crée dans le programme principal une variable x à laquelle on affecte la valeur 10. L'appel de la fonction test1 déclenche toujours la création de la variable locale x à laquelle est affectée la valeur 30. On constate bien que ce sont deux variables différentes."
   ]
  },
  {
   "cell_type": "code",
   "execution_count": 2,
   "metadata": {},
   "outputs": [
    {
     "name": "stdout",
     "output_type": "stream",
     "text": [
      "Le carré de x est  900\n"
     ]
    }
   ],
   "source": [
    "x = 10\n",
    "test1()"
   ]
  },
  {
   "cell_type": "markdown",
   "metadata": {},
   "source": [
    "<u>Exemple 2 </u>: On peut avoir accès à l'intérieur d'une fonction, le contenu d'une variable qui "
   ]
  },
  {
   "cell_type": "code",
   "execution_count": 4,
   "metadata": {},
   "outputs": [
    {
     "name": "stdout",
     "output_type": "stream",
     "text": [
      "la valeur de la variable x du programme principal est : 10\n",
      "la valeur de x du programme principal est  10\n"
     ]
    }
   ],
   "source": [
    "def test2():\n",
    "    print(\"la valeur de la variable x du programme principal est :\",x)\n",
    "\n",
    "test2()"
   ]
  },
  {
   "cell_type": "markdown",
   "metadata": {},
   "source": [
    "<u>Exemple 3 </u>: On constate par contre qu'il n'est pas possible de modifier à travers une fonction une variable qui n'a pas été créée par celle-ci."
   ]
  },
  {
   "cell_type": "markdown",
   "metadata": {},
   "source": [
    "<span class =\"haut\"><a href = \"#sommaire\">Haut de page</a></span>"
   ]
  },
  {
   "cell_type": "code",
   "execution_count": 5,
   "metadata": {},
   "outputs": [
    {
     "ename": "UnboundLocalError",
     "evalue": "local variable 'x' referenced before assignment",
     "output_type": "error",
     "traceback": [
      "\u001b[1;31m---------------------------------------------------------------------------\u001b[0m",
      "\u001b[1;31mUnboundLocalError\u001b[0m                         Traceback (most recent call last)",
      "\u001b[1;32m<ipython-input-5-d9e5d3e39bb5>\u001b[0m in \u001b[0;36m<module>\u001b[1;34m()\u001b[0m\n\u001b[0;32m      3\u001b[0m     \u001b[0mprint\u001b[0m\u001b[1;33m(\u001b[0m\u001b[1;34m\"la valeur de la variable x est :\"\u001b[0m\u001b[1;33m,\u001b[0m\u001b[0mx\u001b[0m\u001b[1;33m)\u001b[0m\u001b[1;33m\u001b[0m\u001b[0m\n\u001b[0;32m      4\u001b[0m \u001b[1;33m\u001b[0m\u001b[0m\n\u001b[1;32m----> 5\u001b[1;33m \u001b[0mtest3\u001b[0m\u001b[1;33m(\u001b[0m\u001b[1;33m)\u001b[0m\u001b[1;33m\u001b[0m\u001b[0m\n\u001b[0m",
      "\u001b[1;32m<ipython-input-5-d9e5d3e39bb5>\u001b[0m in \u001b[0;36mtest3\u001b[1;34m()\u001b[0m\n\u001b[0;32m      1\u001b[0m \u001b[1;32mdef\u001b[0m \u001b[0mtest3\u001b[0m\u001b[1;33m(\u001b[0m\u001b[1;33m)\u001b[0m\u001b[1;33m:\u001b[0m\u001b[1;33m\u001b[0m\u001b[0m\n\u001b[1;32m----> 2\u001b[1;33m     \u001b[0mx\u001b[0m \u001b[1;33m=\u001b[0m \u001b[0mx\u001b[0m \u001b[1;33m+\u001b[0m \u001b[1;36m1\u001b[0m\u001b[1;33m\u001b[0m\u001b[0m\n\u001b[0m\u001b[0;32m      3\u001b[0m     \u001b[0mprint\u001b[0m\u001b[1;33m(\u001b[0m\u001b[1;34m\"la valeur de la variable x est :\"\u001b[0m\u001b[1;33m,\u001b[0m\u001b[0mx\u001b[0m\u001b[1;33m)\u001b[0m\u001b[1;33m\u001b[0m\u001b[0m\n\u001b[0;32m      4\u001b[0m \u001b[1;33m\u001b[0m\u001b[0m\n\u001b[0;32m      5\u001b[0m \u001b[0mtest3\u001b[0m\u001b[1;33m(\u001b[0m\u001b[1;33m)\u001b[0m\u001b[1;33m\u001b[0m\u001b[0m\n",
      "\u001b[1;31mUnboundLocalError\u001b[0m: local variable 'x' referenced before assignment"
     ]
    }
   ],
   "source": [
    "def test3():\n",
    "    x = x + 1\n",
    "    print(\"la valeur de la variable x est :\",x)\n",
    "\n",
    "test3()"
   ]
  },
  {
   "cell_type": "markdown",
   "metadata": {},
   "source": [
    "Grâce à cette notion de variable locale, on peut donner le même nom à deux variables qui sont créées dans deux fonctions différentes."
   ]
  },
  {
   "cell_type": "markdown",
   "metadata": {},
   "source": [
    "<u>Exemple 4 </u>: Pour aller plus loin - Variable globale\n",
    "<br/> Pour pouvoir, à l'intérieur d'une fonction, modifier une variable x créée à l'extérieur de celle-ci, il faut déclarer cette variable x comme globale à l'intérieur de cette fonction."
   ]
  },
  {
   "cell_type": "code",
   "execution_count": 8,
   "metadata": {},
   "outputs": [
    {
     "name": "stdout",
     "output_type": "stream",
     "text": [
      "la valeur de la variable x est : 11\n"
     ]
    }
   ],
   "source": [
    "x = 10\n",
    "\n",
    "def test4():\n",
    "    global x\n",
    "    x = x + 1\n",
    "    \n",
    "test4()\n",
    "print(\"la valeur de la variable x est :\",x)    \n",
    "\n",
    "    "
   ]
  },
  {
   "cell_type": "markdown",
   "metadata": {},
   "source": [
    "<div class=\"exo\">Exercices 12 à ... du notebook Applications_30janvier</div>"
   ]
  }
 ],
 "metadata": {
  "kernelspec": {
   "display_name": "Python 3",
   "language": "python",
   "name": "python3"
  },
  "language_info": {
   "codemirror_mode": {
    "name": "ipython",
    "version": 3
   },
   "file_extension": ".py",
   "mimetype": "text/x-python",
   "name": "python",
   "nbconvert_exporter": "python",
   "pygments_lexer": "ipython3",
   "version": "3.6.7"
  },
  "widgets": {
   "application/vnd.jupyter.widget-state+json": {
    "state": {},
    "version_major": 1,
    "version_minor": 0
   }
  }
 },
 "nbformat": 4,
 "nbformat_minor": 2
}
