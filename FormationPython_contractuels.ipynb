{
 "cells": [
  {
   "cell_type": "markdown",
   "metadata": {},
   "source": [
    "\n",
    "# <center>Prise en main de Python - Stage contractuels niveau 2 (2018-2019)</center>\n",
    "\n",
    "## A. Opérations de base\n",
    "\n",
    "### 1) Les opérateurs arithmétiques - Constantes et fonctions mathématiques - Nombres complexes  \n"
   ]
  },
  {
   "cell_type": "markdown",
   "metadata": {},
   "source": [
    "* Addition de nombres : $+$"
   ]
  },
  {
   "cell_type": "code",
   "execution_count": null,
   "metadata": {},
   "outputs": [],
   "source": [
    "3+9.5"
   ]
  },
  {
   "cell_type": "markdown",
   "metadata": {},
   "source": [
    "* Concaténation de chaînes de caractères : $+$"
   ]
  },
  {
   "cell_type": "code",
   "execution_count": null,
   "metadata": {},
   "outputs": [],
   "source": [
    "'2'+'9.5'"
   ]
  },
  {
   "cell_type": "markdown",
   "metadata": {},
   "source": [
    "* Soustraction de nombres : $-$"
   ]
  },
  {
   "cell_type": "code",
   "execution_count": null,
   "metadata": {},
   "outputs": [],
   "source": [
    "2-9.5"
   ]
  },
  {
   "cell_type": "markdown",
   "metadata": {},
   "source": [
    "* Soustraction de chaînes da caractères !"
   ]
  },
  {
   "cell_type": "code",
   "execution_count": null,
   "metadata": {},
   "outputs": [],
   "source": [
    "'2'-'9.5'"
   ]
  },
  {
   "cell_type": "markdown",
   "metadata": {},
   "source": [
    "* Multiplication de nombres : $*$"
   ]
  },
  {
   "cell_type": "code",
   "execution_count": null,
   "metadata": {},
   "outputs": [],
   "source": [
    "2*9.5"
   ]
  },
  {
   "cell_type": "markdown",
   "metadata": {},
   "source": [
    "* Multiplication d'une chaîne de caractères par un nombre entier naturel : $*$"
   ]
  },
  {
   "cell_type": "code",
   "execution_count": null,
   "metadata": {},
   "outputs": [],
   "source": [
    "'9.5'*10"
   ]
  },
  {
   "cell_type": "code",
   "execution_count": null,
   "metadata": {},
   "outputs": [],
   "source": [
    "'Hello ! '*5"
   ]
  },
  {
   "cell_type": "code",
   "execution_count": null,
   "metadata": {},
   "outputs": [],
   "source": [
    "5*'Hello !'"
   ]
  },
  {
   "cell_type": "markdown",
   "metadata": {},
   "source": [
    "* La puissance : $**$ ou pow()"
   ]
  },
  {
   "cell_type": "code",
   "execution_count": null,
   "metadata": {},
   "outputs": [],
   "source": [
    "2**9"
   ]
  },
  {
   "cell_type": "code",
   "execution_count": null,
   "metadata": {},
   "outputs": [],
   "source": [
    "pow(2,9)"
   ]
  },
  {
   "cell_type": "markdown",
   "metadata": {},
   "source": [
    "* Pour obtenir l'aide sur un objet Python comme la fonction pow par exemple :"
   ]
  },
  {
   "cell_type": "code",
   "execution_count": null,
   "metadata": {},
   "outputs": [],
   "source": [
    "help(pow) "
   ]
  },
  {
   "cell_type": "markdown",
   "metadata": {},
   "source": [
    "* Division : $/$"
   ]
  },
  {
   "cell_type": "code",
   "execution_count": null,
   "metadata": {},
   "outputs": [],
   "source": [
    "177/9"
   ]
  },
  {
   "cell_type": "markdown",
   "metadata": {},
   "source": [
    "* Quotient de la division euclidienne"
   ]
  },
  {
   "cell_type": "code",
   "execution_count": null,
   "metadata": {},
   "outputs": [],
   "source": [
    "177//9"
   ]
  },
  {
   "cell_type": "markdown",
   "metadata": {},
   "source": [
    "* Reste de la division euclidienne"
   ]
  },
  {
   "cell_type": "code",
   "execution_count": null,
   "metadata": {},
   "outputs": [],
   "source": [
    "177%9"
   ]
  },
  {
   "cell_type": "markdown",
   "metadata": {},
   "source": [
    "* Des constantes"
   ]
  },
  {
   "cell_type": "code",
   "execution_count": null,
   "metadata": {},
   "outputs": [],
   "source": [
    "\n",
    "pi"
   ]
  },
  {
   "cell_type": "markdown",
   "metadata": {},
   "source": [
    "* Importer des constantes à partir d'une bibliothèque"
   ]
  },
  {
   "cell_type": "code",
   "execution_count": null,
   "metadata": {
    "collapsed": true
   },
   "outputs": [],
   "source": [
    "from math import pi, e"
   ]
  },
  {
   "cell_type": "code",
   "execution_count": null,
   "metadata": {},
   "outputs": [],
   "source": [
    "pi"
   ]
  },
  {
   "cell_type": "code",
   "execution_count": null,
   "metadata": {},
   "outputs": [],
   "source": [
    "e"
   ]
  },
  {
   "cell_type": "markdown",
   "metadata": {},
   "source": [
    "* Formatage d'affichage avec 5 chiffres (arrondi)"
   ]
  },
  {
   "cell_type": "code",
   "execution_count": null,
   "metadata": {},
   "outputs": [],
   "source": [
    "format(4*pi,'0.5g')   # Retourne une chaîne de caractères"
   ]
  },
  {
   "cell_type": "code",
   "execution_count": null,
   "metadata": {},
   "outputs": [],
   "source": [
    "#Ou\n",
    "'{:.5g}'.format(4*pi)"
   ]
  },
  {
   "cell_type": "markdown",
   "metadata": {},
   "source": [
    "* Formatage d'affichage avec quatre chiffres après la virgule (arrondi au dix-millième)"
   ]
  },
  {
   "cell_type": "code",
   "execution_count": null,
   "metadata": {},
   "outputs": [],
   "source": [
    "format(pi,'0.4f')"
   ]
  },
  {
   "cell_type": "code",
   "execution_count": null,
   "metadata": {},
   "outputs": [],
   "source": [
    "'{:.4f}'.format(pi)"
   ]
  },
  {
   "cell_type": "markdown",
   "metadata": {},
   "source": [
    "* Importer des fonctions à partir d'une bibliothèque"
   ]
  },
  {
   "cell_type": "code",
   "execution_count": null,
   "metadata": {},
   "outputs": [],
   "source": [
    "from math import factorial,sin,cos,exp,log\n",
    "factorial(5)"
   ]
  },
  {
   "cell_type": "code",
   "execution_count": null,
   "metadata": {},
   "outputs": [],
   "source": [
    "sin(pi/4)"
   ]
  },
  {
   "cell_type": "code",
   "execution_count": null,
   "metadata": {},
   "outputs": [],
   "source": [
    "log(2)"
   ]
  },
  {
   "cell_type": "markdown",
   "metadata": {},
   "source": [
    "#### <u>Remarques sur les différentes façons d'importer des objets d'une bibliothèque</u> : \n",
    "\n",
    "* <code><font color=\"green\">from</font> math <font color=\"green\">import</font> pi </code> : on importe seulement la constante $\\pi$ de la bibliothèque <code>math</code> et pour utiliser $\\pi$, on doit saisir <code>pi</code>.\n",
    "\n",
    "* <code><font color=\"green\">import</font> math </code> : on importe le nom de la bibliothèque <code>math</code> et pour utiliser n'importe quel objet de cette bibliothèque, on doit saisir <code>math.nom_objet</code> comme par exemple <code>math.pi</code>.\n",
    "    \n",
    "* <code><font color=\"green\">from</font> math <font color=\"green\">import</font>* </code> : on importe tout le contenu de la bibliothèque <code>math</code> et pour utiliser n'importe quel objet de cette bibliothèque, on doit juste saisir son nom comme par exemple <code>pi</code>."
   ]
  },
  {
   "cell_type": "markdown",
   "metadata": {},
   "source": [
    "* Nombres complexes"
   ]
  },
  {
   "cell_type": "code",
   "execution_count": null,
   "metadata": {},
   "outputs": [],
   "source": [
    "import cmath \n",
    "1+2j"
   ]
  },
  {
   "cell_type": "code",
   "execution_count": null,
   "metadata": {},
   "outputs": [],
   "source": [
    "1+1j+2*(-1-3j)"
   ]
  },
  {
   "cell_type": "code",
   "execution_count": null,
   "metadata": {},
   "outputs": [],
   "source": [
    "(1+1j)*(1-1j)"
   ]
  },
  {
   "cell_type": "markdown",
   "metadata": {},
   "source": [
    "### 2) Opérateurs de comparaisons et opérateurs logiques</h4>"
   ]
  },
  {
   "cell_type": "markdown",
   "metadata": {},
   "source": [
    "* Egalité et Inégalités"
   ]
  },
  {
   "cell_type": "code",
   "execution_count": null,
   "metadata": {},
   "outputs": [],
   "source": [
    "2==2.0"
   ]
  },
  {
   "cell_type": "code",
   "execution_count": null,
   "metadata": {},
   "outputs": [],
   "source": [
    "'toto'=='Toto'"
   ]
  },
  {
   "cell_type": "code",
   "execution_count": null,
   "metadata": {},
   "outputs": [],
   "source": [
    "2<3"
   ]
  },
  {
   "cell_type": "code",
   "execution_count": null,
   "metadata": {},
   "outputs": [],
   "source": [
    "\"ae\"<\"ac\""
   ]
  },
  {
   "cell_type": "code",
   "execution_count": null,
   "metadata": {},
   "outputs": [],
   "source": [
    "2<=5"
   ]
  },
  {
   "cell_type": "code",
   "execution_count": null,
   "metadata": {},
   "outputs": [],
   "source": [
    "2.5>3"
   ]
  },
  {
   "cell_type": "code",
   "execution_count": null,
   "metadata": {},
   "outputs": [],
   "source": [
    "from math import sqrt\n",
    "2 == sqrt(2)**2"
   ]
  },
  {
   "cell_type": "markdown",
   "metadata": {},
   "source": [
    "* Non égalité"
   ]
  },
  {
   "cell_type": "code",
   "execution_count": null,
   "metadata": {},
   "outputs": [],
   "source": [
    "2 != sqrt(2)**2"
   ]
  },
  {
   "cell_type": "code",
   "execution_count": null,
   "metadata": {},
   "outputs": [],
   "source": [
    "import sympy # On importe la bibliothèque entière\n",
    "2 == sympy.sqrt(2)**2"
   ]
  },
  {
   "cell_type": "code",
   "execution_count": null,
   "metadata": {},
   "outputs": [],
   "source": [
    "2 < 5 and 5<7"
   ]
  },
  {
   "cell_type": "code",
   "execution_count": null,
   "metadata": {},
   "outputs": [],
   "source": [
    "2<5<7"
   ]
  },
  {
   "cell_type": "code",
   "execution_count": null,
   "metadata": {},
   "outputs": [],
   "source": [
    "1<2<6<4"
   ]
  },
  {
   "cell_type": "code",
   "execution_count": null,
   "metadata": {},
   "outputs": [],
   "source": [
    "2 < 1 or 2 < 5"
   ]
  },
  {
   "cell_type": "markdown",
   "metadata": {},
   "source": [
    "\n",
    "## B. Variables et types"
   ]
  },
  {
   "cell_type": "markdown",
   "metadata": {},
   "source": [
    "### 1) Notion de variables en informatique  \n",
    "\n",
    "<u>Extrait du document ressource</u> :\n",
    "![Extrait document ressource](img/extrait_doc_ress_variable.PNG \"Extrait du document ressource\")\n"
   ]
  },
  {
   "cell_type": "markdown",
   "metadata": {},
   "source": [
    "### 2) Déclaration et affectation"
   ]
  },
  {
   "cell_type": "markdown",
   "metadata": {},
   "source": [
    "![tableau](img/tab1.PNG)\n",
    "\n",
    "**Remarques :**\n",
    "\n",
    "- Sur Scratch : avant d'affecter une valeur à une variable, il faut d'abord créer cette variable ;\n",
    "- Les élèves venant du collège n'ont jamais utilisé le $=$ comme une affectation ;\n",
    "- Visualiser le passage de la programmation par blocs à la programmation Python :\n",
    "    * avec un outil sur Euler (ressource n° 4452) développé à partir de Blockly (pour l'instant il manque le mode Turtle) :    \n",
    "    https://euler.ac-versailles.fr/wm3/pi2/blockly/blocklyPython.jsp     \n",
    "    ou sur le site officiel de Blockly : https://blockly-demo.appspot.com/static/demos/code/index.html?lang=fr ;\n",
    "    * avec Trinket (https://trinket.io/) éditeur de code Python permettant aussi de combiner du codage par blocs (Blockly complet avec Turtle) avec en direct le code Python correspondant https://hourofpython.com/ ;\n",
    "    * avec BlockPy (https://think.cs.vt.edu/blockpy/load) qui permet de combiner du codage par blocs type Scratch avec en direct le code Python correspondant. La modification du code Python entraîne automatiquement celle des blocs.\n",
    "- Visualiser le dernier exemple avec Python Tutor http://www.pythontutor.com/live.html#mode=edit qui permet de visualiser l'execution du code en mode pas et pas ainsi que l'état des variables.\n",
    "\n",
    "\n"
   ]
  },
  {
   "cell_type": "code",
   "execution_count": null,
   "metadata": {},
   "outputs": [],
   "source": [
    "x = 9\n",
    "#Le type d'une variable\n",
    "type(x)"
   ]
  },
  {
   "cell_type": "code",
   "execution_count": null,
   "metadata": {
    "collapsed": true
   },
   "outputs": [],
   "source": [
    "#Affectation et opérations combinées\n",
    "x = x + 2 #Identique à x += 2"
   ]
  },
  {
   "cell_type": "code",
   "execution_count": null,
   "metadata": {},
   "outputs": [],
   "source": [
    "x"
   ]
  },
  {
   "cell_type": "code",
   "execution_count": null,
   "metadata": {},
   "outputs": [],
   "source": [
    "x = x * 3 #Identique à x *= 3\n",
    "x"
   ]
  },
  {
   "cell_type": "code",
   "execution_count": null,
   "metadata": {},
   "outputs": [],
   "source": [
    "x = x / 11 #Identique à x /= 11\n",
    "x"
   ]
  },
  {
   "cell_type": "code",
   "execution_count": null,
   "metadata": {},
   "outputs": [],
   "source": [
    "type(x)"
   ]
  },
  {
   "cell_type": "code",
   "execution_count": null,
   "metadata": {},
   "outputs": [],
   "source": [
    "x = x - 5 #Identique à x -= 5\n",
    "x"
   ]
  },
  {
   "cell_type": "code",
   "execution_count": null,
   "metadata": {},
   "outputs": [],
   "source": [
    "x = x**4 #Identique à x **=4\n",
    "x"
   ]
  },
  {
   "cell_type": "code",
   "execution_count": null,
   "metadata": {},
   "outputs": [],
   "source": [
    "x=\"message\"\n",
    "type(x)"
   ]
  },
  {
   "cell_type": "code",
   "execution_count": null,
   "metadata": {},
   "outputs": [],
   "source": [
    "x=True\n",
    "type(x)"
   ]
  },
  {
   "cell_type": "code",
   "execution_count": null,
   "metadata": {
    "collapsed": true
   },
   "outputs": [],
   "source": [
    "y,z,t=1,2.3,\"coucou\"# Affectation multiple"
   ]
  },
  {
   "cell_type": "code",
   "execution_count": null,
   "metadata": {
    "collapsed": true
   },
   "outputs": [],
   "source": [
    "a=b=7 # Affecter la même valeur à plusieurs variables"
   ]
  },
  {
   "cell_type": "markdown",
   "metadata": {},
   "source": [
    "### <center><font color=\"green\">**Exercices 1 et 2 du notebook Applications**</font></center>"
   ]
  },
  {
   "cell_type": "markdown",
   "metadata": {},
   "source": [
    "### 3) Les types simples\n",
    "* Chaîne de caractères : Type str"
   ]
  },
  {
   "cell_type": "code",
   "execution_count": null,
   "metadata": {},
   "outputs": [],
   "source": [
    "x = 'mot'\n",
    "type(x)"
   ]
  },
  {
   "cell_type": "markdown",
   "metadata": {},
   "source": [
    "* Entier : Type int"
   ]
  },
  {
   "cell_type": "code",
   "execution_count": null,
   "metadata": {},
   "outputs": [],
   "source": [
    "x = 1\n",
    "type(x)"
   ]
  },
  {
   "cell_type": "markdown",
   "metadata": {},
   "source": [
    "* Nombre décimal : Type float</h5>"
   ]
  },
  {
   "cell_type": "code",
   "execution_count": null,
   "metadata": {},
   "outputs": [],
   "source": [
    "x = 1.0\n",
    "type(x)"
   ]
  },
  {
   "cell_type": "markdown",
   "metadata": {},
   "source": [
    "* Booléen : Type bool</h5>"
   ]
  },
  {
   "cell_type": "code",
   "execution_count": null,
   "metadata": {},
   "outputs": [],
   "source": [
    "x=1<3\n",
    "type(x)"
   ]
  },
  {
   "cell_type": "code",
   "execution_count": null,
   "metadata": {},
   "outputs": [],
   "source": [
    "!x"
   ]
  },
  {
   "cell_type": "code",
   "execution_count": null,
   "metadata": {},
   "outputs": [],
   "source": [
    "not(x)"
   ]
  },
  {
   "cell_type": "markdown",
   "metadata": {},
   "source": [
    "### <font color=\"green\">Pour aller plus loin : Les types composés</font>\n"
   ]
  },
  {
   "cell_type": "markdown",
   "metadata": {},
   "source": [
    "* Les listes : Type list"
   ]
  },
  {
   "cell_type": "code",
   "execution_count": null,
   "metadata": {},
   "outputs": [],
   "source": [
    "#Les listes peuvent contenir des valeurs de types différents.\n",
    "x = [1,2,3,4, 'un', 'deux', ['janvier','février'],38]\n",
    "type(x)"
   ]
  },
  {
   "cell_type": "code",
   "execution_count": null,
   "metadata": {
    "collapsed": true
   },
   "outputs": [],
   "source": [
    "a1 = list() #Liste vide\n",
    "a2 = [] #Liste vide\n",
    "a3 = [0]*6 #Multiplication par un nombre\n",
    "a4 = [True,False]*3 #Multiplication par un nombre\n",
    "a5 = list(range(20)) # liste des 20 premiers entiers (entre 0 et 19)\n",
    "a6 = list(range(20,30)) # liste des entiers entre 20 et 29\n",
    "a7 = list(range(0,11,2))# liste des entiers pairs de 0 à 10"
   ]
  },
  {
   "cell_type": "code",
   "execution_count": null,
   "metadata": {},
   "outputs": [],
   "source": [
    "a7"
   ]
  },
  {
   "cell_type": "code",
   "execution_count": null,
   "metadata": {},
   "outputs": [],
   "source": [
    "#Manipulation des listes\n",
    "#Accès à la première composante en lecture\n",
    "x[0] # le premier élément de la liste est d'indice 0"
   ]
  },
  {
   "cell_type": "code",
   "execution_count": null,
   "metadata": {},
   "outputs": [],
   "source": [
    "#Accès à la deuxième composante en lecture\n",
    "x[1]"
   ]
  },
  {
   "cell_type": "code",
   "execution_count": null,
   "metadata": {},
   "outputs": [],
   "source": [
    "#Accès à la troisième composante en lecture\n",
    "x[2]"
   ]
  },
  {
   "cell_type": "code",
   "execution_count": null,
   "metadata": {},
   "outputs": [],
   "source": [
    "# Accéder au dernier élément de la liste sans en connaître la taille\n",
    "x[-1]"
   ]
  },
  {
   "cell_type": "code",
   "execution_count": null,
   "metadata": {},
   "outputs": [],
   "source": [
    "# Accéder à un élément d'une liste contenue dans une liste :\n",
    "x[6][1]"
   ]
  },
  {
   "cell_type": "code",
   "execution_count": null,
   "metadata": {},
   "outputs": [],
   "source": [
    "#Le nombre d'éléments d'une liste ou taille\n",
    "taille = len(x)\n",
    "taille"
   ]
  },
  {
   "cell_type": "code",
   "execution_count": null,
   "metadata": {},
   "outputs": [],
   "source": [
    "a5 # Revoir la liste a5"
   ]
  },
  {
   "cell_type": "code",
   "execution_count": null,
   "metadata": {},
   "outputs": [],
   "source": [
    "a5[3:10] #Accès à plusieurs éléments"
   ]
  },
  {
   "cell_type": "code",
   "execution_count": null,
   "metadata": {},
   "outputs": [],
   "source": [
    "a5[1:] # Tous les éléments de a5 sauf le premier "
   ]
  },
  {
   "cell_type": "code",
   "execution_count": null,
   "metadata": {},
   "outputs": [],
   "source": [
    "a5[:-1] # Tous les éléments de a5 sauf le dernier"
   ]
  },
  {
   "cell_type": "code",
   "execution_count": null,
   "metadata": {},
   "outputs": [],
   "source": [
    "a5[:4] # Uniquement les 4 premiers éléments de a5 "
   ]
  },
  {
   "cell_type": "code",
   "execution_count": null,
   "metadata": {},
   "outputs": [],
   "source": [
    "\n",
    "a7 # Revoir la liste a7"
   ]
  },
  {
   "cell_type": "code",
   "execution_count": null,
   "metadata": {
    "collapsed": true
   },
   "outputs": [],
   "source": [
    "a7[0] = 12 #Accès en écriture pour modification "
   ]
  },
  {
   "cell_type": "code",
   "execution_count": null,
   "metadata": {
    "collapsed": true
   },
   "outputs": [],
   "source": [
    "a7[1]=a7[3]+1 #Accès en écriture pour modification "
   ]
  },
  {
   "cell_type": "code",
   "execution_count": null,
   "metadata": {},
   "outputs": [],
   "source": [
    "a7 # Voir les modifications sur a7"
   ]
  },
  {
   "cell_type": "code",
   "execution_count": null,
   "metadata": {},
   "outputs": [],
   "source": [
    "a5[2:5]=[-1,-1,-1,-1] #Accès en écriture pour modifications multiples\n",
    "a5"
   ]
  },
  {
   "cell_type": "code",
   "execution_count": null,
   "metadata": {
    "collapsed": true
   },
   "outputs": [],
   "source": [
    "# Addition de listes : Concaténation\n",
    "p1, p2  = [1,5],[-1,2]\n",
    "p = p1 + p2"
   ]
  },
  {
   "cell_type": "code",
   "execution_count": null,
   "metadata": {},
   "outputs": [],
   "source": [
    "p"
   ]
  },
  {
   "cell_type": "code",
   "execution_count": null,
   "metadata": {},
   "outputs": [],
   "source": [
    "# Sommer tous les éléments d'une liste\n",
    "sum(p)"
   ]
  },
  {
   "cell_type": "code",
   "execution_count": null,
   "metadata": {},
   "outputs": [],
   "source": [
    "p + [-3] # Ajouter un élément en fin de liste"
   ]
  },
  {
   "cell_type": "code",
   "execution_count": null,
   "metadata": {},
   "outputs": [],
   "source": [
    "# La méthode append permet d'insérer un élément à la fin de la liste\n",
    "a5.append(100)\n",
    "a5"
   ]
  },
  {
   "cell_type": "code",
   "execution_count": null,
   "metadata": {},
   "outputs": [],
   "source": [
    "# La méthode insert permet d'nsérer un élément avant un autre\n",
    "a5.insert(1,200) #Insère 200 avant le 2eme élément de la liste \n",
    "                 # a5.insert(ind,val) : insére la valeur val devant l'élément d'indice ind de la liste a5\n",
    "a5"
   ]
  },
  {
   "cell_type": "code",
   "execution_count": null,
   "metadata": {},
   "outputs": [],
   "source": [
    "# Insérer un élément au début de la liste\n",
    "a5.insert(0,500) #Insere 500 au début de la liste \n",
    "a5"
   ]
  },
  {
   "cell_type": "code",
   "execution_count": null,
   "metadata": {},
   "outputs": [],
   "source": [
    "# La méthode remove permet de supprimer un élément existant dans la liste\n",
    "a5.remove(-1) # supprime la première occurence de la valeur -1 dans la liste a5\n",
    "a5"
   ]
  },
  {
   "cell_type": "code",
   "execution_count": null,
   "metadata": {},
   "outputs": [],
   "source": [
    "a5.remove(1000) \n",
    "a5"
   ]
  },
  {
   "cell_type": "code",
   "execution_count": null,
   "metadata": {},
   "outputs": [],
   "source": [
    "# La méthode count donne l'occurence d'une valeur présente dans une liste\n",
    "a5.count(-1) "
   ]
  },
  {
   "cell_type": "code",
   "execution_count": null,
   "metadata": {},
   "outputs": [],
   "source": [
    "# La méthode index donne l'indice le plus petit d'un élément présent dans une liste\n",
    "a5.index(-1)"
   ]
  },
  {
   "cell_type": "code",
   "execution_count": null,
   "metadata": {},
   "outputs": [],
   "source": [
    "# Autre manière de supprimer un élément en utilisant les indices\n",
    "del(a5[-1]) # Suppression du dernier\n",
    "a5"
   ]
  },
  {
   "cell_type": "code",
   "execution_count": null,
   "metadata": {},
   "outputs": [],
   "source": [
    "del(a5[0:10]) # Suppression des 10 premiers\n",
    "a5"
   ]
  },
  {
   "cell_type": "markdown",
   "metadata": {},
   "source": [
    "* Les n-uplets : Type tuple"
   ]
  },
  {
   "cell_type": "code",
   "execution_count": null,
   "metadata": {},
   "outputs": [],
   "source": [
    "#Les n-uplets peuvent contenir des valeurs de types différents.\n",
    "x = (1,2,3,4)\n",
    "type(x)"
   ]
  },
  {
   "cell_type": "code",
   "execution_count": null,
   "metadata": {},
   "outputs": [],
   "source": [
    "x=(1,2,\"texte\") \n",
    "type(x)"
   ]
  },
  {
   "cell_type": "code",
   "execution_count": null,
   "metadata": {},
   "outputs": [],
   "source": [
    "# Contrairement aux listes et aux tableaux, on ne peut pas modifier un élément d'un tuple\n",
    "x[0]=100\n",
    "x"
   ]
  },
  {
   "cell_type": "markdown",
   "metadata": {},
   "source": [
    "\n",
    "\n",
    "## C. Les entrées-sorties\n",
    "    \n",
    "### 1) Fonction print()"
   ]
  },
  {
   "cell_type": "code",
   "execution_count": null,
   "metadata": {},
   "outputs": [],
   "source": [
    "# Affichage du contenu d'une variable\n",
    "print(a5) #Affiche la liste a5"
   ]
  },
  {
   "cell_type": "code",
   "execution_count": null,
   "metadata": {},
   "outputs": [],
   "source": [
    "y,z,t=1,2.3,\"coucou\" # Affectation multiple\n",
    "print(y,z,t) # le séparateur par défaut est l'espace\n",
    "print(y,z,t,sep=\";\") # modification du séparateur\n",
    "print(y,z,t,sep=\"\\n\") # passage à la ligne"
   ]
  },
  {
   "cell_type": "code",
   "execution_count": null,
   "metadata": {},
   "outputs": [],
   "source": [
    "# Affichage d'un élément de la liste\n",
    "print(\"Dans la liste a5, l'élément d'indice 2 est la troisième valeur de la liste : a5[2] = \",a5[2],\".\")"
   ]
  },
  {
   "cell_type": "code",
   "execution_count": null,
   "metadata": {},
   "outputs": [],
   "source": [
    "# Affichage d'un élément de la liste, autre méthode\n",
    "print(\"Dans la liste a5, l'élément d'indice 2 est la troisième valeur de la liste : a5[2] = {}.\".format(a5[2]))"
   ]
  },
  {
   "cell_type": "code",
   "execution_count": null,
   "metadata": {},
   "outputs": [],
   "source": [
    "#Formatage de l'affichage d'un nombre\n",
    "x = sqrt(a5[2])\n",
    "print(x)"
   ]
  },
  {
   "cell_type": "code",
   "execution_count": null,
   "metadata": {},
   "outputs": [],
   "source": [
    "print('{:.4g}'.format(x))#Ecriture avec 4 chiffres (arrondi)"
   ]
  },
  {
   "cell_type": "code",
   "execution_count": null,
   "metadata": {},
   "outputs": [],
   "source": [
    "print(\"Ecriture de {} avec 4 chiffres après la virgule est {:.4f}.\".format(x,x))"
   ]
  },
  {
   "cell_type": "markdown",
   "metadata": {},
   "source": [
    "### 2) Fonction input()"
   ]
  },
  {
   "cell_type": "markdown",
   "metadata": {},
   "source": [
    "![tab2](img/tab2.PNG)"
   ]
  },
  {
   "cell_type": "code",
   "execution_count": null,
   "metadata": {},
   "outputs": [],
   "source": [
    "# Permet la saisie de données au clavier\n",
    "saisie = input(\"Un nombre ? \")"
   ]
  },
  {
   "cell_type": "code",
   "execution_count": null,
   "metadata": {},
   "outputs": [],
   "source": [
    "type(saisie) # Type de la variable saisie"
   ]
  },
  {
   "cell_type": "code",
   "execution_count": null,
   "metadata": {},
   "outputs": [],
   "source": [
    "# Comment faire alors pour que la saisie soit de type float ?\n",
    "saisie = float(input(\"Nombre : \"))#Renvoie un float si l'entrée au clavier est une chaîne de caractère représentant une écriture décimale."
   ]
  },
  {
   "cell_type": "code",
   "execution_count": null,
   "metadata": {},
   "outputs": [],
   "source": [
    "type(saisie)"
   ]
  },
  {
   "cell_type": "code",
   "execution_count": null,
   "metadata": {},
   "outputs": [],
   "source": [
    "# Et pour avoir un type entier ?\n",
    "n = int(input(\"Nombre : \"))#Renvoie un entier si l'entrée au clavier est une chaîne de caractère représentant une écriture d'entier."
   ]
  },
  {
   "cell_type": "code",
   "execution_count": null,
   "metadata": {},
   "outputs": [],
   "source": [
    "type(n)"
   ]
  },
  {
   "cell_type": "markdown",
   "metadata": {},
   "source": [
    "### <center><font color=\"green\">**Exercices 3, 4 et 5 du notebook Applications**</font></center>"
   ]
  },
  {
   "cell_type": "markdown",
   "metadata": {},
   "source": [
    "## D. Structures de contrôle\n",
    "\n",
    "### a) Instructions conditionnelles\n",
    "\n",
    "![tab3](img/tab3.PNG)\n",
    "\n",
    "L'instruction <code>elif</code> est une compression de <code>else if </code>qui signifie sinon si. Elle doit être utilisée après un <code>if</code> ou un autre <code>elif</code>."
   ]
  },
  {
   "cell_type": "code",
   "execution_count": null,
   "metadata": {
    "collapsed": true
   },
   "outputs": [],
   "source": [
    "# On importe tout le module random pour travailler sur des générations de nombres aléatoires\n",
    "from random import *"
   ]
  },
  {
   "cell_type": "code",
   "execution_count": null,
   "metadata": {},
   "outputs": [],
   "source": [
    "# Générer un réel aléatoire de [0;1[\n",
    "random()"
   ]
  },
  {
   "cell_type": "code",
   "execution_count": null,
   "metadata": {},
   "outputs": [],
   "source": [
    "# Générer aléatoirement un entier compris entre a et b\n",
    "randint(1,6) # Générer une face de dé cubique"
   ]
  },
  {
   "cell_type": "code",
   "execution_count": null,
   "metadata": {},
   "outputs": [],
   "source": [
    "choice([1,2,3,4,5,6]) # Générer une face de dé cubique"
   ]
  },
  {
   "cell_type": "code",
   "execution_count": null,
   "metadata": {
    "scrolled": true
   },
   "outputs": [],
   "source": [
    "(randint(1,6),randint(1,6),randint(1,6)) # lancer de 3 dés"
   ]
  },
  {
   "cell_type": "markdown",
   "metadata": {},
   "source": [
    "Exemple de code pour définir une variable aléatoire :"
   ]
  },
  {
   "cell_type": "code",
   "execution_count": null,
   "metadata": {},
   "outputs": [],
   "source": [
    "de = randint(1,6)\n",
    "if de in [2,4,6]: # teste si le contenu de la variable de est dans la liste [2,4,6]\n",
    "    va = 1\n",
    "else :\n",
    "    va = 0\n",
    "print(\"Issue : \",de,\" et valeur prise par la variable aléatoire : \",va)"
   ]
  },
  {
   "cell_type": "markdown",
   "metadata": {},
   "source": [
    "### <center><font color=\"green\">**Exercice 6 du notebook Applications**</font></center>"
   ]
  },
  {
   "cell_type": "markdown",
   "metadata": {},
   "source": [
    "### b) Boucle Pour  \n",
    "\n",
    "![tab4](img/tab4.PNG)\n"
   ]
  },
  {
   "cell_type": "markdown",
   "metadata": {},
   "source": [
    "Quelques exemples de boucles : "
   ]
  },
  {
   "cell_type": "code",
   "execution_count": null,
   "metadata": {},
   "outputs": [],
   "source": [
    "#Générer une liste d'entiers\n",
    "for i in range(5): \n",
    "    print(i) "
   ]
  },
  {
   "cell_type": "code",
   "execution_count": null,
   "metadata": {},
   "outputs": [],
   "source": [
    "#Générer une liste d'entiers avec affichage sur une seule ligne en séparant les item par --\n",
    "for i in range(5): \n",
    "    print(i, end ='--') "
   ]
  },
  {
   "cell_type": "code",
   "execution_count": null,
   "metadata": {},
   "outputs": [],
   "source": [
    "# Le même exemple d'une autre façon :\n",
    "listeitem = [0,1,2,3,4]\n",
    "for i in listeitem : \n",
    "    print(i)"
   ]
  },
  {
   "cell_type": "code",
   "execution_count": null,
   "metadata": {},
   "outputs": [],
   "source": [
    "#Générer aléatoirement une liste de 30 entiers entre 1 et 6 et mémorisation des valeurs dans une liste\n",
    "from random import randint\n",
    "liste = []\n",
    "for i in range(30) :\n",
    "    liste.append(randint(1,6))\n",
    "print(liste)"
   ]
  },
  {
   "cell_type": "markdown",
   "metadata": {},
   "source": [
    "**Un exemple de passage de Scratch à Python : Construction d'un triangle équilatéral**\n",
    "\n",
    "![triangle équilatéral](img/triequi1.PNG)\n",
    "        "
   ]
  },
  {
   "cell_type": "markdown",
   "metadata": {},
   "source": [
    "La même chose avec Trinket (https://trinket.io/) :\n",
    "\n",
    "De la programmation par blocs à la programmation Python : https://hourofpython.trinket.io/from-blocks-to-code-with-trinket#/blocks/dragging-and-dropping\n",
    "\n",
    "![triangle équilatéral sur Trinket](img/triangleequitrinket.PNG)\n"
   ]
  },
  {
   "cell_type": "markdown",
   "metadata": {},
   "source": [
    "L'équivalent avec le **module Turtle de Python** :\n",
    "\n",
    "Aide : https://fr.wikibooks.org/wiki/Programmation_Python/Turtle"
   ]
  },
  {
   "cell_type": "code",
   "execution_count": null,
   "metadata": {},
   "outputs": [],
   "source": [
    "from turtle import *\n",
    "\n",
    "cote=100\n",
    "pendown()\n",
    "pencolor(\"blue\")\n",
    "speed(1)\n",
    "for i in range(3):\n",
    "    forward(cote)\n",
    "    left(120)\n",
    "done()"
   ]
  },
  {
   "cell_type": "markdown",
   "metadata": {},
   "source": [
    "### c) Boucle Tant Que\n",
    "\n",
    "![tab5](img/tab5.PNG)"
   ]
  },
  {
   "cell_type": "markdown",
   "metadata": {},
   "source": [
    "<u>Exemple d'algorithme de détermination de seuil d'une suite géométrique divergente :</u> \n",
    "\n",
    "Ressource Euler n° 4315 : https://euler.ac-versailles.fr/wm3/pi2/algo/algo11.jsp\n",
    "\n",
    "Soit $(u_n)$ la suite géométrique de raison 3 et de premier terme 2. L'algorithme suivant permet de déterminer le plus petit entier $n$ tel que $u_n \\geq 2019$.   \n",
    "$n \\leftarrow 0$   \n",
    "$u \\leftarrow 2$   \n",
    "<code>Tant Que </code> $u$ <code>&lt; 2019</code>   \n",
    "<code>    </code>$n \\leftarrow n+1$   \n",
    "<code>    </code>$u \\leftarrow 3\\times u$   \n",
    "<code>Fin Tant Que </code>"
   ]
  },
  {
   "cell_type": "markdown",
   "metadata": {},
   "source": [
    "Traduction en langage Python :"
   ]
  },
  {
   "cell_type": "code",
   "execution_count": null,
   "metadata": {},
   "outputs": [],
   "source": [
    "n = 0\n",
    "u = 2\n",
    "while u < 2019 :\n",
    "    n = n + 1\n",
    "    u = 3 * u\n",
    "\n",
    "print(\"Le plus petit entier n tel que u >= 2019 est n = \", n)\n",
    "    "
   ]
  },
  {
   "cell_type": "markdown",
   "metadata": {},
   "source": [
    "### <center><font color=\"green\">**Exercices 7 et 8 du notebook Applications**</font></center>"
   ]
  },
  {
   "cell_type": "markdown",
   "metadata": {},
   "source": [
    "## E. Fonctions   \n",
    "#### a) Introduction   \n",
    "<u>Exemple 1</u> : frise   ![frise](img/frise.PNG)   \n",
    "La figure ci-dessus est constituée de 5 triangles équilatéraux. Le premier (le plus grand) a des côtés de longueur 100. Pour chaque nouveau triangle, la longueur du coté diminue de 20.   \n",
    "Écrivons en langage Python un programme permettant de réaliser cette figure. Pour cela isolons la portion de code correspondant à la construction d'un triangle équilatéral (voir l'exemple de la partie précédente) à l'aide d'une fonction nommée triangle.\n"
   ]
  },
  {
   "cell_type": "markdown",
   "metadata": {},
   "source": [
    "Rappel du code de l'exemple précédent :\n",
    "\n",
    "<pre>\n",
    "<font color=\"green\">from</font> turtle <font color=\"green\">import</font> *\n",
    "cote=100\n",
    "pendown()\n",
    "pencolor(\"blue\")\n",
    "speed(1)\n",
    "for i in range(3):\n",
    "    forward(cote)\n",
    "    left(120)\n",
    "done()</pre>"
   ]
  },
  {
   "cell_type": "code",
   "execution_count": null,
   "metadata": {
    "collapsed": true
   },
   "outputs": [],
   "source": [
    "# Fonction triangle permettant de construire un triangle équilatéral de côté de longueur c.\n",
    "from turtle import *\n",
    "def triangle(c):\n",
    "    '''Dessinne un triangle équilatéral de côté de longueur c '''\n",
    "    for i in range(3):\n",
    "        forward(c)\n",
    "        left(120)"
   ]
  },
  {
   "cell_type": "markdown",
   "metadata": {},
   "source": [
    "Désormais cette fonction permet de dessiner n'importe quel triangle équilatéral. Par exemple un triangle équilatéral de c^pté de longueur 200."
   ]
  },
  {
   "cell_type": "code",
   "execution_count": null,
   "metadata": {},
   "outputs": [],
   "source": [
    "triangle(200)\n",
    "done()"
   ]
  },
  {
   "cell_type": "markdown",
   "metadata": {},
   "source": [
    "Écrivons le programme de la frise en utilisant cette fonction."
   ]
  },
  {
   "cell_type": "code",
   "execution_count": null,
   "metadata": {},
   "outputs": [],
   "source": [
    "cote=100 \n",
    "for i in range(5) :\n",
    "    triangle(cote)\n",
    "    forward(cote)\n",
    "    cote = cote-20\n",
    "done()"
   ]
  },
  {
   "cell_type": "markdown",
   "metadata": {},
   "source": [
    "<u>Exemple 2</u> : Fonction affine par morceaux\n",
    "\n",
    "Soit $f$ la fonction définie sur $\\mathbb{R}$ par $\\left\\{\n",
    "\\begin{array}{l}\n",
    "  f(x) = 2x + 3 \\;\\text{si}\\; x \\in \\left] - \\infty ; 0 \\right[  \\\\\n",
    "  f(x) = 9 \\;\\text{si} \\; x \\in \\left[0 ; 3 \\right]\\\\\n",
    "  f(x) = -x+18 \\;\\text{si} \\; x \\in \\left]3 ; + \\infty \\right[\n",
    "\\end{array}\n",
    "\\right.$"
   ]
  },
  {
   "cell_type": "code",
   "execution_count": null,
   "metadata": {
    "collapsed": true
   },
   "outputs": [],
   "source": [
    "def f(x):\n",
    "    ''' fonction affine par morceaux'''\n",
    "    if x<0:\n",
    "        y= 2*x+3\n",
    "    elif x<=3 :\n",
    "        y= 9\n",
    "    else:\n",
    "        y= -x+18\n",
    "    return y"
   ]
  },
  {
   "cell_type": "markdown",
   "metadata": {},
   "source": [
    "Calculons quelques images :"
   ]
  },
  {
   "cell_type": "code",
   "execution_count": null,
   "metadata": {},
   "outputs": [],
   "source": [
    "f(-1)"
   ]
  },
  {
   "cell_type": "code",
   "execution_count": null,
   "metadata": {},
   "outputs": [],
   "source": [
    "f(4)"
   ]
  },
  {
   "cell_type": "markdown",
   "metadata": {},
   "source": [
    "<u>Remarque</u> : Lorsqu'une fonction renvoie une valeur, l'instruction ***return*** est la dernière exécutée quelle que soit sa place dans le bloc d'instruction.\n",
    "\n",
    "On pourrait alors écrire la fonction précédente ainsi sans créer la variable supplémentaire $y$."
   ]
  },
  {
   "cell_type": "code",
   "execution_count": null,
   "metadata": {
    "collapsed": true
   },
   "outputs": [],
   "source": [
    "def g(x):\n",
    "    ''' fonction affine par morceaux'''\n",
    "    if x<0:\n",
    "        return 2*x+3\n",
    "    elif x<=3 :\n",
    "        return 9\n",
    "    else:\n",
    "        return -x+18\n",
    "        "
   ]
  },
  {
   "cell_type": "code",
   "execution_count": null,
   "metadata": {},
   "outputs": [],
   "source": [
    "g(-1)"
   ]
  },
  {
   "cell_type": "markdown",
   "metadata": {},
   "source": [
    "<u>Exemple 3 :</u> Somme de deux dés   \n",
    "L'expérience consiste à lancer simultanément deux dés cubiques non truqués dont les faces sont numérotées 1 ; 2 ; 3 ; 4 ; 5 et 6  et à faire la somme des faces obtenues.   \n",
    "Écrivons une fonction ***lancer*** qui simule une telle expérience et qui renvoie la valeur de la somme obtenue."
   ]
  },
  {
   "cell_type": "code",
   "execution_count": null,
   "metadata": {},
   "outputs": [],
   "source": [
    "from random import*\n",
    "\n",
    "def tirage():\n",
    "    '''renvoie la somme de deux dés cubique'''\n",
    "    de1=randint(1,6)\n",
    "    de2=randint(1,6)\n",
    "    return de1+de2\n",
    "\n",
    "tirage()"
   ]
  },
  {
   "cell_type": "markdown",
   "metadata": {},
   "source": [
    "Et si on veut voir aussi les deux faces obtenues en plus de la somme ?"
   ]
  },
  {
   "cell_type": "code",
   "execution_count": null,
   "metadata": {},
   "outputs": [],
   "source": [
    "from random import*\n",
    "\n",
    "def tirage2():\n",
    "    '''renvoie les faces des deux dés ainsi que la somme'''\n",
    "    de1=randint(1,6)\n",
    "    de2=randint(1,6)\n",
    "    return de1,de2,de1+de2\n",
    "\n",
    "tirage2()"
   ]
  },
  {
   "cell_type": "markdown",
   "metadata": {},
   "source": [
    "Pour avoir un affichage un peu mieux détaillé du résultat :"
   ]
  },
  {
   "cell_type": "code",
   "execution_count": null,
   "metadata": {},
   "outputs": [],
   "source": [
    "result=tirage2()\n",
    "result"
   ]
  },
  {
   "cell_type": "code",
   "execution_count": null,
   "metadata": {},
   "outputs": [],
   "source": [
    "print(\"Le premier dé est\",result[0],\", le second est\",result[1],\"et la somme est\",result[2])"
   ]
  },
  {
   "cell_type": "markdown",
   "metadata": {},
   "source": [
    "<u>Exemple 4</u> : Coordonnées du milieu d'un segment\n",
    "\n",
    "Écrivons une fonction *milieu* qui renvoie les coordonnées du milieu d'un segment d'extrémités $A$ et $B$ de coordonnées données."
   ]
  },
  {
   "cell_type": "code",
   "execution_count": null,
   "metadata": {
    "collapsed": true
   },
   "outputs": [],
   "source": [
    "def milieu(xA,yA,xB,yB):\n",
    "    ''' renvoie les coordonnées du milieu du segment d\\'extremités A et B de coordonnées données'''\n",
    "    return (xA+xB)/2,(yA+yB)/2"
   ]
  },
  {
   "cell_type": "code",
   "execution_count": null,
   "metadata": {},
   "outputs": [],
   "source": [
    "milieu(1,2,3,4)"
   ]
  },
  {
   "cell_type": "markdown",
   "metadata": {},
   "source": [
    "#### b) Définition et syntaxe   \n",
    "Une fonction est un ensemble d'instructions regroupées sous un nom et s'exécutant à la demande.   \n",
    "L'utilisation des fonctions permet :\n",
    "* d'éviter la répétition ;\n",
    "* de décomposer une tâche complexe en tâches plus simples.\n",
    "\n",
    "La syntaxe d'une fonction se compose :\n",
    "* du mot clé **def** suivi du nom de la fonction, de parenthèses entourant les paramètres éventuels de la fonction séparés par des virgules, et du caractère $:$ qui termine toujours une instruction composée ;\n",
    "* d'une chaîne de documentation ou **docstring** indentée comme le corps de la fonction ;\n",
    "* du **bloc d'instructions indentées** par rapport à la ligne de définition, et qui constitue le corps de la fonction.\n",
    "<pre><b>\n",
    "<font color=\"green\">def</font> <font color=\"blue\">nom_fonction</font>(arg1,arg2,...,argn):\n",
    "    <font color=\"red\">''' La documentation ou docstring...'''</font>\n",
    "    bloc d'instructions en respectant l'indentation\n",
    "</pre></b>"
   ]
  },
  {
   "cell_type": "code",
   "execution_count": null,
   "metadata": {
    "collapsed": true
   },
   "outputs": [],
   "source": [
    "? milieu"
   ]
  },
  {
   "cell_type": "markdown",
   "metadata": {},
   "source": [
    "<u>Exemple 5</u> : Rational vs float   \n",
    "Soit $f$ la fonction définie pour tout réel $x$ par $f(x) = 10\\,x^2 - x$.\n",
    "\n",
    "On définit la suite $(U_n)$ par $U_0 = 1$ et pour tout entier naturel non nul $n$, $U_{n+1} = f( U_n )$.\n",
    "\n",
    "Calculons $U_1, U_2$ et $U_3$."
   ]
  },
  {
   "cell_type": "code",
   "execution_count": null,
   "metadata": {},
   "outputs": [],
   "source": [
    "def f(x):\n",
    "    return 10*x**2-x\n",
    "\n",
    "f(1),f(f(1)),f(f(f(1)))"
   ]
  },
  {
   "cell_type": "markdown",
   "metadata": {},
   "source": [
    "Écrivons une fonction ***NestList*** ayant 3 arguments ***func***, ***dep*** et ***n*** qui dresse la liste des *n* premiers termes de la suite de premier terme $U_0 = dep$ définie pour tout entier non nul par $U_{n+1} = fonc( U_n )$."
   ]
  },
  {
   "cell_type": "code",
   "execution_count": null,
   "metadata": {},
   "outputs": [],
   "source": [
    "def NestList(func,dep,n):\n",
    "    result=[]\n",
    "    val=dep\n",
    "    for k in range(n):\n",
    "        result.append(val)\n",
    "        val=func(val)\n",
    "    return result\n",
    "\n",
    "NestList(f,1,4)"
   ]
  },
  {
   "cell_type": "markdown",
   "metadata": {},
   "source": [
    "Redéfinissons la suite $(U_n)$ en prenant $U_0 = 0,2$ et représentons graphiquement la courbe représentative de $f$ ainsi que la droite d'équation $y = x$.\n",
    "\n",
    "<img src=\"img/courbeGGB.png\" alt=\"courbeGGB\" width=\"300\"/>"
   ]
  },
  {
   "cell_type": "markdown",
   "metadata": {},
   "source": [
    "L'équation $f(x) = x$ admet pour solutions $0$ et $0,2$.\n",
    "\n",
    "$U_1 = f(U_0)$ soit $U_1 = 10 \\times 0,2 ^2 - 0,2$  soit encore $U_1 = 0,2$.\n",
    "<br/> Ainsi quel que soit $n$ entier naturel, $U_n = 0,2$.\n",
    "\n",
    "Dressons la liste des 40 premiers termes de cette suite en utilisant la fonction* NestList* :"
   ]
  },
  {
   "cell_type": "code",
   "execution_count": null,
   "metadata": {},
   "outputs": [],
   "source": [
    "NestList(f,0.2,40)"
   ]
  },
  {
   "cell_type": "markdown",
   "metadata": {},
   "source": [
    "Prenons plutôt $\\dfrac{1}{5}$ comme deuxième paramètre de la fonction *NestList* en utilisant la fonction ***Rational*** de la bibliothèque ***sympy*** :"
   ]
  },
  {
   "cell_type": "code",
   "execution_count": null,
   "metadata": {},
   "outputs": [],
   "source": [
    "from sympy import Rational\n",
    "\n",
    "NestList(f,Rational(1,5),40)"
   ]
  },
  {
   "cell_type": "markdown",
   "metadata": {},
   "source": [
    "### <center><font color=\"green\">**Exercices 9, 10, 11 et 12 du notebook Applications**</font></center>"
   ]
  },
  {
   "cell_type": "markdown",
   "metadata": {},
   "source": [
    "#### c) <font color=\"green\">Pour aller plus loin : Portées des variables : variables locales et variables globales</font>   \n",
    "La portée d'une variable, c'est à dire quand et comment cette variable est accessible, dépend de l'endroit du programme où a été créée la variable. "
   ]
  },
  {
   "cell_type": "markdown",
   "metadata": {},
   "source": [
    "<u>Exemple 1 </u>: L'appel de la fonction test1 déclenche la création de la variable locale z.   \n",
    "A la fin de l'exécution de cette fonction, cette variable n'existe plus."
   ]
  },
  {
   "cell_type": "code",
   "execution_count": null,
   "metadata": {},
   "outputs": [],
   "source": [
    "def test1():\n",
    "    z=30\n",
    "    print(\"Le carré de z est \",z**2)\n",
    "test1()\n",
    "print(z)"
   ]
  },
  {
   "cell_type": "markdown",
   "metadata": {},
   "source": [
    "<u>Exemple 2 </u>: On crée dans le programme principal une variable z à laquelle on affecte la valeur 10. L'appel de la fonction test1 déclenche toujours la création de la variable locale z à laquelle est affectée la valeur 30. On constate bien que ce sont deux variables différentes."
   ]
  },
  {
   "cell_type": "code",
   "execution_count": null,
   "metadata": {},
   "outputs": [],
   "source": [
    "z = 10\n",
    "test1()"
   ]
  },
  {
   "cell_type": "markdown",
   "metadata": {},
   "source": [
    "<u>Exemple 3 </u>: On peut avoir accès à l'intérieur d'une fonction du contenu d'une variable définie dans le programme principal. "
   ]
  },
  {
   "cell_type": "code",
   "execution_count": null,
   "metadata": {},
   "outputs": [],
   "source": [
    "def test2():\n",
    "    print(\"la valeur de la variable z du programme principal est :\",z)\n",
    "\n",
    "test2()"
   ]
  },
  {
   "cell_type": "markdown",
   "metadata": {},
   "source": [
    "<u>Exemple 4 </u>: On constate par contre qu'il n'est pas possible de modifier à travers une fonction une variable qui n'a pas été créée par celle-ci."
   ]
  },
  {
   "cell_type": "code",
   "execution_count": null,
   "metadata": {},
   "outputs": [],
   "source": [
    "def test3():\n",
    "    z = z + 1\n",
    "    print(\"la valeur de la variable z est :\",z)\n",
    "\n",
    "test3()"
   ]
  },
  {
   "cell_type": "markdown",
   "metadata": {},
   "source": [
    "Grâce à cette notion de variable locale, on peut donner le même nom à deux variables qui sont créées dans deux fonctions différentes."
   ]
  },
  {
   "cell_type": "markdown",
   "metadata": {},
   "source": [
    "<u>Exemple 5 </u>: Variable globale\n",
    "<br/> Pour pouvoir, à l'intérieur d'une fonction, modifier une variable z créée à l'extérieur de celle-ci, il faut déclarer cette variable z comme globale à l'intérieur de cette fonction."
   ]
  },
  {
   "cell_type": "code",
   "execution_count": null,
   "metadata": {},
   "outputs": [],
   "source": [
    "z = 10\n",
    "\n",
    "def test4():\n",
    "    global z\n",
    "    z = z + 1\n",
    "    \n",
    "test4()\n",
    "print(\"la valeur de la variable z est :\",z)    \n",
    "\n",
    "    "
   ]
  }
 ],
 "metadata": {
  "kernelspec": {
   "display_name": "Python 3",
   "language": "python",
   "name": "python3"
  },
  "language_info": {
   "codemirror_mode": {
    "name": "ipython",
    "version": 3
   },
   "file_extension": ".py",
   "mimetype": "text/x-python",
   "name": "python",
   "nbconvert_exporter": "python",
   "pygments_lexer": "ipython3",
   "version": "3.6.3"
  },
  "widgets": {
   "application/vnd.jupyter.widget-state+json": {
    "state": {},
    "version_major": 1,
    "version_minor": 0
   }
  }
 },
 "nbformat": 4,
 "nbformat_minor": 2
}
